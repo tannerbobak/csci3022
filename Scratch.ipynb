{
 "cells": [
  {
   "cell_type": "markdown",
   "metadata": {},
   "source": [
    "# Welcome to Mad Libs!\n",
    "\n",
    "**Hello** I am Markdown."
   ]
  },
  {
   "cell_type": "code",
   "execution_count": 1,
   "metadata": {},
   "outputs": [
    {
     "name": "stdout",
     "output_type": "stream",
     "text": [
      "Adjective: Warm\n"
     ]
    }
   ],
   "source": [
    "wrd1 = input(\"Adjective: \")"
   ]
  },
  {
   "cell_type": "code",
   "execution_count": 7,
   "metadata": {},
   "outputs": [
    {
     "name": "stdout",
     "output_type": "stream",
     "text": [
      "Number: 42\n"
     ]
    }
   ],
   "source": [
    "num1 = int(input(\"Number: \"))"
   ]
  },
  {
   "cell_type": "code",
   "execution_count": 9,
   "metadata": {},
   "outputs": [
    {
     "name": "stdout",
     "output_type": "stream",
     "text": [
      "Number: 2354\n"
     ]
    }
   ],
   "source": [
    "num2 = int(input(\"Number: \"))"
   ]
  },
  {
   "cell_type": "code",
   "execution_count": 10,
   "metadata": {},
   "outputs": [
    {
     "name": "stdout",
     "output_type": "stream",
     "text": [
      "Man's Not Warm\n",
      "\n",
      "42 plus 2354 minus 1 that's 2395 quick mafs.\n"
     ]
    }
   ],
   "source": [
    "calc = num1 + num2 - 1 # quick mafs\n",
    "\n",
    "print(\"Man's Not \" + wrd1 + \"\\n\\n\" + \\\n",
    "      str(num1) + \" plus \" + str(num2) + \\\n",
    "      \" minus 1 that's \" + str(calc) + \" quick mafs.\")"
   ]
  },
  {
   "cell_type": "code",
   "execution_count": null,
   "metadata": {},
   "outputs": [],
   "source": []
  }
 ],
 "metadata": {
  "kernelspec": {
   "display_name": "Python 3",
   "language": "python",
   "name": "python3"
  },
  "language_info": {
   "codemirror_mode": {
    "name": "ipython",
    "version": 3
   },
   "file_extension": ".py",
   "mimetype": "text/x-python",
   "name": "python",
   "nbconvert_exporter": "python",
   "pygments_lexer": "ipython3",
   "version": "3.6.4"
  }
 },
 "nbformat": 4,
 "nbformat_minor": 2
}
