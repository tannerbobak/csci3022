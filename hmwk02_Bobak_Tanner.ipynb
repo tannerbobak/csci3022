{
 "cells": [
  {
   "cell_type": "markdown",
   "metadata": {},
   "source": [
    "<a/ id='top'></a>\n",
    "# Homework 2: Introduction to Probability and Simulation \n",
    "***\n",
    "\n",
    "**Name**: \n",
    "\n",
    "***\n",
    "\n",
    "This assignment is due on Moodle by **5 PM on Friday June 15**. Your solutions to theoretical questions should be **done in Markdown/MathJax** directly below the associated question.  Your solutions to computational questions should include any specified Python code and results as well as written commentary on your conclusions.  Remember that you are encouraged to discuss the problems with your instructors and classmates, but **you must write all code and solutions on your own**. \n",
    "\n",
    "**NOTES**: \n",
    "\n",
    "- It is **bad form** to make your reader interpret numerical output from your code.  If a question asks you to compute some value from the data you should show your code output **AND** write a summary of the results in Markdown directly below your code.\n",
    "- Because you can technically evaluate notebook cells in a non-linear order, it's a good idea to do Cell $\\rightarrow$ Run All as a check before submitting your solutions.  That way if we need to run your code you will know that it will work as expected. \n",
    "- Submit only this Jupyter notebook to Moodle.  Do not compress it using tar, rar, zip, etc. \n",
    "\n",
    "---\n",
    "**Shortcuts:**  [Problem 1](#p1) | [Problem 2](#p2) | [Problem 3](#p3) | [Problem 4](#p4)\n",
    "\n",
    "---"
   ]
  },
  {
   "cell_type": "code",
   "execution_count": 217,
   "metadata": {
    "collapsed": true,
    "scrolled": true
   },
   "outputs": [],
   "source": [
    "import pandas as pd\n",
    "import numpy as np\n",
    "import numpy.random as rand\n",
    "import matplotlib.pylab as plt\n",
    "%matplotlib inline"
   ]
  },
  {
   "cell_type": "markdown",
   "metadata": {},
   "source": [
    "***\n",
    "<a/ id='p1'></a>\n",
    "[Back to top](#top)\n",
    "\n",
    "### [20 pts] Problem 1\n",
    "\n",
    "Access the data from URL https://www.stat.berkeley.edu/~statlabs/data/babies.data and store the information in a Pandas DataFrame.  These data are a subset from a much larger study dealing with child health and development.  A description of the variables can be found at https://www.stat.berkeley.edu/~statlabs/labs.html#babies, and a brief summary is given below.\n",
    "\n",
    "- **bwt**: birth weight (ounces; 999 if unknown) \n",
    "- **gestation**: length of pregnancy in days (999 if unknown)\n",
    "- **parity**: 0=first born, 9=unknown\n",
    "- **age**: mother's age in years\n",
    "- **height**: mother's height in inches (99 if unknown)\n",
    "- **weight**: mother's prepregnancy weight in pounds (999 if unknown)\n",
    "- **smoke**: smoking status of mother; 0=not now, 1=yes now, 9=unknown\n",
    "\n",
    "These data are also available on the course Piazza page, under the Resources tab."
   ]
  },
  {
   "cell_type": "code",
   "execution_count": 218,
   "metadata": {},
   "outputs": [
    {
     "data": {
      "text/html": [
       "<div>\n",
       "<style>\n",
       "    .dataframe thead tr:only-child th {\n",
       "        text-align: right;\n",
       "    }\n",
       "\n",
       "    .dataframe thead th {\n",
       "        text-align: left;\n",
       "    }\n",
       "\n",
       "    .dataframe tbody tr th {\n",
       "        vertical-align: top;\n",
       "    }\n",
       "</style>\n",
       "<table border=\"1\" class=\"dataframe\">\n",
       "  <thead>\n",
       "    <tr style=\"text-align: right;\">\n",
       "      <th></th>\n",
       "      <th>bwt</th>\n",
       "      <th>gestation</th>\n",
       "      <th>parity</th>\n",
       "      <th>age</th>\n",
       "      <th>height</th>\n",
       "      <th>weight</th>\n",
       "      <th>smoke</th>\n",
       "    </tr>\n",
       "  </thead>\n",
       "  <tbody>\n",
       "    <tr>\n",
       "      <th>0</th>\n",
       "      <td>120</td>\n",
       "      <td>284</td>\n",
       "      <td>0</td>\n",
       "      <td>27</td>\n",
       "      <td>62</td>\n",
       "      <td>100</td>\n",
       "      <td>0</td>\n",
       "    </tr>\n",
       "    <tr>\n",
       "      <th>1</th>\n",
       "      <td>113</td>\n",
       "      <td>282</td>\n",
       "      <td>0</td>\n",
       "      <td>33</td>\n",
       "      <td>64</td>\n",
       "      <td>135</td>\n",
       "      <td>0</td>\n",
       "    </tr>\n",
       "    <tr>\n",
       "      <th>2</th>\n",
       "      <td>128</td>\n",
       "      <td>279</td>\n",
       "      <td>0</td>\n",
       "      <td>28</td>\n",
       "      <td>64</td>\n",
       "      <td>115</td>\n",
       "      <td>1</td>\n",
       "    </tr>\n",
       "    <tr>\n",
       "      <th>3</th>\n",
       "      <td>123</td>\n",
       "      <td>999</td>\n",
       "      <td>0</td>\n",
       "      <td>36</td>\n",
       "      <td>69</td>\n",
       "      <td>190</td>\n",
       "      <td>0</td>\n",
       "    </tr>\n",
       "    <tr>\n",
       "      <th>4</th>\n",
       "      <td>108</td>\n",
       "      <td>282</td>\n",
       "      <td>0</td>\n",
       "      <td>23</td>\n",
       "      <td>67</td>\n",
       "      <td>125</td>\n",
       "      <td>1</td>\n",
       "    </tr>\n",
       "    <tr>\n",
       "      <th>5</th>\n",
       "      <td>136</td>\n",
       "      <td>286</td>\n",
       "      <td>0</td>\n",
       "      <td>25</td>\n",
       "      <td>62</td>\n",
       "      <td>93</td>\n",
       "      <td>0</td>\n",
       "    </tr>\n",
       "    <tr>\n",
       "      <th>6</th>\n",
       "      <td>138</td>\n",
       "      <td>244</td>\n",
       "      <td>0</td>\n",
       "      <td>33</td>\n",
       "      <td>62</td>\n",
       "      <td>178</td>\n",
       "      <td>0</td>\n",
       "    </tr>\n",
       "    <tr>\n",
       "      <th>7</th>\n",
       "      <td>132</td>\n",
       "      <td>245</td>\n",
       "      <td>0</td>\n",
       "      <td>23</td>\n",
       "      <td>65</td>\n",
       "      <td>140</td>\n",
       "      <td>0</td>\n",
       "    </tr>\n",
       "    <tr>\n",
       "      <th>8</th>\n",
       "      <td>120</td>\n",
       "      <td>289</td>\n",
       "      <td>0</td>\n",
       "      <td>25</td>\n",
       "      <td>62</td>\n",
       "      <td>125</td>\n",
       "      <td>0</td>\n",
       "    </tr>\n",
       "    <tr>\n",
       "      <th>9</th>\n",
       "      <td>143</td>\n",
       "      <td>299</td>\n",
       "      <td>0</td>\n",
       "      <td>30</td>\n",
       "      <td>66</td>\n",
       "      <td>136</td>\n",
       "      <td>1</td>\n",
       "    </tr>\n",
       "  </tbody>\n",
       "</table>\n",
       "</div>"
      ],
      "text/plain": [
       "   bwt  gestation  parity  age  height  weight  smoke\n",
       "0  120        284       0   27      62     100      0\n",
       "1  113        282       0   33      64     135      0\n",
       "2  128        279       0   28      64     115      1\n",
       "3  123        999       0   36      69     190      0\n",
       "4  108        282       0   23      67     125      1\n",
       "5  136        286       0   25      62      93      0\n",
       "6  138        244       0   33      62     178      0\n",
       "7  132        245       0   23      65     140      0\n",
       "8  120        289       0   25      62     125      0\n",
       "9  143        299       0   30      66     136      1"
      ]
     },
     "execution_count": 218,
     "metadata": {},
     "output_type": "execute_result"
    }
   ],
   "source": [
    "df = pd.read_csv(\"https://www.stat.berkeley.edu/~statlabs/data/babies.data\", delim_whitespace=True)\n",
    "df.head(10)"
   ]
  },
  {
   "cell_type": "markdown",
   "metadata": {},
   "source": [
    "**Part A**: Create a clean data set that removes subjects if any observations on the subject are unknown.  Note that that collectors of the data set used values like $9$, $99$, $999$, to denote unknown values.  You can look at the documentation linked in the problem description to determine which unknown-value marker was used for each characteristics.  Store the modified data set in a Pandas DataFrame called dfBabies. "
   ]
  },
  {
   "cell_type": "code",
   "execution_count": 219,
   "metadata": {},
   "outputs": [
    {
     "name": "stdout",
     "output_type": "stream",
     "text": [
      "Number of entries in clean data set: 1175\n"
     ]
    },
    {
     "data": {
      "text/html": [
       "<div>\n",
       "<style>\n",
       "    .dataframe thead tr:only-child th {\n",
       "        text-align: right;\n",
       "    }\n",
       "\n",
       "    .dataframe thead th {\n",
       "        text-align: left;\n",
       "    }\n",
       "\n",
       "    .dataframe tbody tr th {\n",
       "        vertical-align: top;\n",
       "    }\n",
       "</style>\n",
       "<table border=\"1\" class=\"dataframe\">\n",
       "  <thead>\n",
       "    <tr style=\"text-align: right;\">\n",
       "      <th></th>\n",
       "      <th>bwt</th>\n",
       "      <th>gestation</th>\n",
       "      <th>parity</th>\n",
       "      <th>age</th>\n",
       "      <th>height</th>\n",
       "      <th>weight</th>\n",
       "      <th>smoke</th>\n",
       "    </tr>\n",
       "  </thead>\n",
       "  <tbody>\n",
       "    <tr>\n",
       "      <th>0</th>\n",
       "      <td>120</td>\n",
       "      <td>284</td>\n",
       "      <td>0</td>\n",
       "      <td>27</td>\n",
       "      <td>62</td>\n",
       "      <td>100</td>\n",
       "      <td>0</td>\n",
       "    </tr>\n",
       "    <tr>\n",
       "      <th>1</th>\n",
       "      <td>113</td>\n",
       "      <td>282</td>\n",
       "      <td>0</td>\n",
       "      <td>33</td>\n",
       "      <td>64</td>\n",
       "      <td>135</td>\n",
       "      <td>0</td>\n",
       "    </tr>\n",
       "    <tr>\n",
       "      <th>2</th>\n",
       "      <td>128</td>\n",
       "      <td>279</td>\n",
       "      <td>0</td>\n",
       "      <td>28</td>\n",
       "      <td>64</td>\n",
       "      <td>115</td>\n",
       "      <td>1</td>\n",
       "    </tr>\n",
       "    <tr>\n",
       "      <th>4</th>\n",
       "      <td>108</td>\n",
       "      <td>282</td>\n",
       "      <td>0</td>\n",
       "      <td>23</td>\n",
       "      <td>67</td>\n",
       "      <td>125</td>\n",
       "      <td>1</td>\n",
       "    </tr>\n",
       "    <tr>\n",
       "      <th>5</th>\n",
       "      <td>136</td>\n",
       "      <td>286</td>\n",
       "      <td>0</td>\n",
       "      <td>25</td>\n",
       "      <td>62</td>\n",
       "      <td>93</td>\n",
       "      <td>0</td>\n",
       "    </tr>\n",
       "    <tr>\n",
       "      <th>6</th>\n",
       "      <td>138</td>\n",
       "      <td>244</td>\n",
       "      <td>0</td>\n",
       "      <td>33</td>\n",
       "      <td>62</td>\n",
       "      <td>178</td>\n",
       "      <td>0</td>\n",
       "    </tr>\n",
       "    <tr>\n",
       "      <th>7</th>\n",
       "      <td>132</td>\n",
       "      <td>245</td>\n",
       "      <td>0</td>\n",
       "      <td>23</td>\n",
       "      <td>65</td>\n",
       "      <td>140</td>\n",
       "      <td>0</td>\n",
       "    </tr>\n",
       "    <tr>\n",
       "      <th>8</th>\n",
       "      <td>120</td>\n",
       "      <td>289</td>\n",
       "      <td>0</td>\n",
       "      <td>25</td>\n",
       "      <td>62</td>\n",
       "      <td>125</td>\n",
       "      <td>0</td>\n",
       "    </tr>\n",
       "    <tr>\n",
       "      <th>9</th>\n",
       "      <td>143</td>\n",
       "      <td>299</td>\n",
       "      <td>0</td>\n",
       "      <td>30</td>\n",
       "      <td>66</td>\n",
       "      <td>136</td>\n",
       "      <td>1</td>\n",
       "    </tr>\n",
       "    <tr>\n",
       "      <th>10</th>\n",
       "      <td>140</td>\n",
       "      <td>351</td>\n",
       "      <td>0</td>\n",
       "      <td>27</td>\n",
       "      <td>68</td>\n",
       "      <td>120</td>\n",
       "      <td>0</td>\n",
       "    </tr>\n",
       "  </tbody>\n",
       "</table>\n",
       "</div>"
      ],
      "text/plain": [
       "    bwt  gestation  parity  age  height  weight  smoke\n",
       "0   120        284       0   27      62     100      0\n",
       "1   113        282       0   33      64     135      0\n",
       "2   128        279       0   28      64     115      1\n",
       "4   108        282       0   23      67     125      1\n",
       "5   136        286       0   25      62      93      0\n",
       "6   138        244       0   33      62     178      0\n",
       "7   132        245       0   23      65     140      0\n",
       "8   120        289       0   25      62     125      0\n",
       "9   143        299       0   30      66     136      1\n",
       "10  140        351       0   27      68     120      0"
      ]
     },
     "execution_count": 219,
     "metadata": {},
     "output_type": "execute_result"
    }
   ],
   "source": [
    "dfBabies = df[df[\"bwt\"] != 999]\n",
    "dfBabies = dfBabies[dfBabies[\"gestation\"] != 999]\n",
    "dfBabies = dfBabies[dfBabies[\"parity\"] != 9]\n",
    "dfBabies = dfBabies[dfBabies[\"age\"] != 999]\n",
    "dfBabies = dfBabies[dfBabies[\"height\"] != 99]\n",
    "dfBabies = dfBabies[dfBabies[\"weight\"] != 999]\n",
    "dfBabies = dfBabies[dfBabies[\"smoke\"] != 9]\n",
    "\n",
    "print(\"Number of entries in clean data set: {}\".format(len(dfBabies)))\n",
    "\n",
    "dfBabies.head(10)"
   ]
  },
  {
   "cell_type": "markdown",
   "metadata": {},
   "source": [
    "**Part B**: Use the information in dfBabies to create a density histogram of the birth weights of babies whose mothers have never smoked (smoke=0) and another histogram placed directly below the first in the same graphics device for the birth weights of babies whose mothers currently smoke (smoke=1).  Make the range of the horizontal axis $30$ to $180$ (ounces) for both histograms.  Make sure to give each subplot titles and label axes. "
   ]
  },
  {
   "cell_type": "code",
   "execution_count": 220,
   "metadata": {},
   "outputs": [
    {
     "data": {
      "image/png": "[encoded data removed]",
      "text/plain": [
       "<matplotlib.figure.Figure at 0x7feb14ccd630>"
      ]
     },
     "metadata": {},
     "output_type": "display_data"
    }
   ],
   "source": [
    "fig, axes = plt.subplots(nrows=2, ncols=1, figsize=(8,12))\n",
    "\n",
    "my_bins = range(30,180,10)\n",
    "\n",
    "dfBabiesNoSmoke = dfBabies[dfBabies[\"smoke\"] == 0]\n",
    "dfBabiesSmoke = dfBabies[dfBabies[\"smoke\"] == 1]\n",
    "\n",
    "# --------------------------------------\n",
    "# Plot histogram for Non-Smokers on Top \n",
    "# --------------------------------------\n",
    "dfBabiesNoSmoke.hist(column=\"weight\", ax=axes[0], facecolor=\"steelblue\", edgecolor=\"white\", bins=my_bins)\n",
    "                                                      \n",
    "# Add titles and labels \n",
    "axes[0].set_title(\"Birth Weight of Babies for Non-Smoking Mothers\", fontsize=20)\n",
    "axes[0].set_xlabel(\"Birth Weight (oz)\", fontsize=16)\n",
    "axes[0].set_ylabel(\"Frequency\", fontsize=16)\n",
    "\n",
    "# Make grid lighter and set behind data\n",
    "axes[0].grid(alpha=0.25)\n",
    "axes[0].set_axisbelow(True)\n",
    "\n",
    "# --------------------------------------\n",
    "# Plot histogram for Smokers on Bottom \n",
    "# --------------------------------------\n",
    "dfBabiesSmoke.hist(column=\"weight\", ax=axes[1], facecolor=\"green\", edgecolor=\"white\", bins=my_bins)\n",
    "                                                      \n",
    "# Add titles and labels \n",
    "axes[1].set_title(\"Birth Weight of Babies for Smoking Mothers\", fontsize=20)\n",
    "axes[1].set_xlabel(\"Birth Weight (oz)\", fontsize=16)\n",
    "axes[1].set_ylabel(\"Frequency\", fontsize=16)\n",
    "\n",
    "# Make grid lighter and set behind data\n",
    "axes[1].grid(alpha=0.25)\n",
    "axes[1].set_axisbelow(True)\n",
    "\n",
    "# --------------------------------------\n",
    "# Make the plots comparable \n",
    "# --------------------------------------\n",
    "\n",
    "# Set x and y axis limits to match\n",
    "axes[0].set_xlim([30,180])\n",
    "axes[1].set_xlim([30,180])\n",
    "axes[0].set_ylim([0,300])\n",
    "axes[1].set_ylim([0,300]);\n",
    "\n",
    "# Adjust vertical space so titles/axis labels don't overlap \n",
    "fig.subplots_adjust(hspace=.5)\n"
   ]
  },
  {
   "cell_type": "markdown",
   "metadata": {},
   "source": [
    "**Part C**: Based on the histograms in **Part B**, characterize the distribution of baby birth weights for both non-smoking and smoking mothers."
   ]
  },
  {
   "cell_type": "markdown",
   "metadata": {
    "collapsed": true
   },
   "source": [
    "The mean birth weights for mothers who smoked are slightly lower than non-smoking mothers. Additionally, the distribution of weights among mothers who smoked is more positively skewed than those who did not smoke. The sample size of non-smokers also appears to be larger, sample size being the area of the distribution."
   ]
  },
  {
   "cell_type": "markdown",
   "metadata": {},
   "source": [
    "**Part D**: What are the mean and median weight difference between babies of smokers and non-smokers?  Can you think of any reason not to use the mean as a measure of center to compare birth weights for this problem? "
   ]
  },
  {
   "cell_type": "code",
   "execution_count": 221,
   "metadata": {},
   "outputs": [
    {
     "name": "stdout",
     "output_type": "stream",
     "text": [
      "Mean weight among smokers: 126.943 oz\n",
      "Median weight among smokers: 125.0 oz\n",
      "Mean weight among non-smokers: 129.480 oz\n",
      "Median weight among non-smokers: 126.0 oz\n",
      "Mean difference: 2.536 oz\n",
      "Median difference: 1.0 oz\n"
     ]
    }
   ],
   "source": [
    "print(\"Mean weight among smokers: {0:0.3f} oz\".format(dfBabiesSmoke[\"weight\"].mean()))\n",
    "print(\"Median weight among smokers: {0:0.1f} oz\".format(dfBabiesSmoke[\"weight\"].median()))\n",
    "print(\"Mean weight among non-smokers: {0:0.3f} oz\".format(dfBabiesNoSmoke[\"weight\"].mean()))\n",
    "print(\"Median weight among non-smokers: {0:0.1f} oz\".format(dfBabiesNoSmoke[\"weight\"].median()))\n",
    "\n",
    "print(\"Mean difference: {0:0.3f} oz\".format(dfBabiesNoSmoke[\"weight\"].mean() - dfBabiesSmoke[\"weight\"].mean()))\n",
    "print(\"Median difference: {0:0.1f} oz\".format(dfBabiesNoSmoke[\"weight\"].median() - dfBabiesSmoke[\"weight\"].median()))"
   ]
  },
  {
   "cell_type": "markdown",
   "metadata": {},
   "source": [
    "The mean and median appear to be very similar measures of central tendency in this case. However, the skewness of the smokers distribution means that the mean is slightly affected by the fewer high birth weights, potentially making it not as accurate as the median."
   ]
  },
  {
   "cell_type": "markdown",
   "metadata": {},
   "source": [
    "**Part E**: Create side-by-side box-and-whisker plots to compare the birth weights of babies whose mothers never smoked and those who currently smoke.  Use the box-and-whisker plot conventions discussed in lecture, and be sure to label your axes and any relevant components of the plot!"
   ]
  },
  {
   "cell_type": "code",
   "execution_count": 222,
   "metadata": {},
   "outputs": [
    {
     "data": {
      "image/png": "[encoded data removed]",
      "text/plain": [
       "<matplotlib.figure.Figure at 0x7feb14e0c400>"
      ]
     },
     "metadata": {},
     "output_type": "display_data"
    }
   ],
   "source": [
    "# Initialize figure \n",
    "fig, ax = plt.subplots(nrows=1, ncols=2, figsize=(12,6))\n",
    "\n",
    "# Plot histogram, but this time return dictionary of style parameters for modification after the fact \n",
    "bp = dfBabiesNoSmoke.boxplot(column=\"weight\", ax=ax[0], widths=[.2], return_type='dict');\n",
    "bp1 = dfBabiesSmoke.boxplot(column=\"weight\", ax=ax[1], widths=[.2], return_type='dict');\n",
    "\n",
    "# ---------------------------------------\n",
    "# Set properties of various parts of plot \n",
    "# ---------------------------------------\n",
    "\n",
    "# Change properties of boxes \n",
    "for box in bp['boxes']:\n",
    "    box.set(color='steelblue', linewidth=2)\n",
    "for box in bp1['boxes']:\n",
    "    box.set(color='steelblue', linewidth=2)\n",
    "    \n",
    "# Change properties of whiskers \n",
    "for whisker in bp['whiskers']:\n",
    "    whisker.set(color='gray', linewidth=2)\n",
    "for whisker in bp1['whiskers']:\n",
    "    whisker.set(color='gray', linewidth=2)\n",
    "    \n",
    "# Change properties of caps \n",
    "for cap in bp['caps']:\n",
    "    cap.set(color='gray', linewidth=2)\n",
    "for cap in bp1['caps']:\n",
    "    cap.set(color='gray', linewidth=2)\n",
    "    \n",
    "# Change properties of median \n",
    "for cap in bp['medians']:\n",
    "    cap.set(color='green', linewidth=2, alpha=0.5)\n",
    "for cap in bp1['medians']:\n",
    "    cap.set(color='green', linewidth=2, alpha=0.5)\n",
    "    \n",
    "# Change properties of fliers (outliers) \n",
    "for flier in bp['fliers']:\n",
    "    flier.set(markerfacecolor='steelblue', linewidth=2, marker='s', markersize=6, alpha=0.5)\n",
    "for flier in bp1['fliers']:\n",
    "    flier.set(markerfacecolor='steelblue', linewidth=2, marker='s', markersize=6, alpha=0.5)\n",
    "\n",
    "# Set title and vertical axis label\n",
    "ax[0].set_title('Birth Weights for Non-Smoking Mothers', fontsize=18)\n",
    "ax[0].set_ylabel(\"Birth Weight (oz)\", fontsize=16)\n",
    "ax[0].set_xlabel(\"Non-Smokers\", fontsize=16)\n",
    "ax[1].set_title('Birth Weights for Smoking Mothers', fontsize=18)\n",
    "ax[1].set_ylabel(\"Birth Weight (oz)\", fontsize=16)\n",
    "ax[1].set_xlabel(\"Smokers\", fontsize=16)\n",
    "\n",
    "# Limits\n",
    "ax[0].set_ylim([60,250])\n",
    "ax[1].set_ylim([60,250])\n",
    "\n",
    "# Make grid-lines lighter\n",
    "ax[0].grid(alpha=0.25)\n",
    "ax[1].grid(alpha=0.25)"
   ]
  },
  {
   "cell_type": "markdown",
   "metadata": {},
   "source": [
    "**Part F**: Using the box-and-whisker plots from **Part E** comment on the distributions of body weights of babies within each smoking / non-smoking groups as well as the comparison of the two classes. "
   ]
  },
  {
   "cell_type": "markdown",
   "metadata": {
    "collapsed": true
   },
   "source": [
    "The box and whisker plots show that there are more outliers in the non-smoking data set. All outliers are also on the upper end of the data set. Maybe low end outliers we not recorded or did not survive? In addition, the fliers of each data set reach approximately the same values (about 175 on the high end and 85 on the low). They also show the trend of slightly lower birth weight among smokers."
   ]
  },
  {
   "cell_type": "markdown",
   "metadata": {},
   "source": [
    "***\n",
    "<a/ id='p2'></a>\n",
    "[Back to top](#top)\n",
    "\n",
    "### [20 points] Problem 2\n",
    "\n",
    "To play a game, you have a bag containing 28 fair [four-sided dice](https://en.wikipedia.org/wiki/Four-sided_die), with faces `{1,2,3,4}`.  This bag also contains 10 fair six-sided dice (faces `{1,2,3,4,5,6}`) and 2 fair twenty-sided dice (faces `{1,2,3,4,...,19,20}`).  Call these 3 classes of die \"Four\", \"Six\" and \"Twenty\" (or F, S, and T, for short).  You grab one die at random from the box.  \n",
    "\n",
    "Work the following problems by hand unless otherwise stated (but don't be afraid to simulate to check your result!). "
   ]
  },
  {
   "cell_type": "markdown",
   "metadata": {},
   "source": [
    "**Part A**: You roll your die one time.  What is the probability of the event $R_5$, that you roll a 5?  Include at least 4 decimal places in your answer."
   ]
  },
  {
   "cell_type": "code",
   "execution_count": 223,
   "metadata": {},
   "outputs": [
    {
     "name": "stdout",
     "output_type": "stream",
     "text": [
      "Probability of 5: 0.0442\n"
     ]
    }
   ],
   "source": [
    "four = 28\n",
    "six = 10\n",
    "twenty = 2\n",
    "total = four + six + twenty\n",
    "p = (four/total)*(0) + (six/total)*(1/6) + (twenty/total)*(1/20) # Law of total probability\n",
    "print(\"Probability of 5: {0:0.4f}\".format(p))\n",
    "\n",
    "\"\"\"\n",
    "# Test sim\n",
    "\n",
    "nSims = 10000\n",
    "isFive = 0\n",
    "diceCounts = np.concatenate((np.zeros(four) + 4, np.zeros(six) + 6, np.zeros(twenty) + 20))\n",
    "for n in range(0, nSims):\n",
    "    chosenDice = rand.randint(0, len(dice))\n",
    "    chosenVal = rand.randint(1, dice[chosenDice]+1)\n",
    "    isFive += (chosenVal == 5)\n",
    "print(isFive/nSims)\n",
    "\"\"\";"
   ]
  },
  {
   "cell_type": "markdown",
   "metadata": {},
   "source": [
    "**Part B**: Suppose you roll a 5.  What is the probability that the die you chose from the box is a Six-sided die? "
   ]
  },
  {
   "cell_type": "code",
   "execution_count": 224,
   "metadata": {},
   "outputs": [
    {
     "name": "stdout",
     "output_type": "stream",
     "text": [
      "Probability of Six-Sided Given a 5 is Rolled: 0.9434\n"
     ]
    }
   ],
   "source": [
    "# Bayes' Thm\n",
    "p5Given6 = 1/6\n",
    "p6 = six/total\n",
    "pSixGiven5 = (p5Given6 * p6)/p\n",
    "print(\"Probability of Six-Sided Given a 5 is Rolled: {0:0.4f}\".format(pSixGiven5))"
   ]
  },
  {
   "cell_type": "markdown",
   "metadata": {},
   "source": [
    "**Part C:**  Are the events $R_5$ and $S$ independent?  Justify your answer **using math**."
   ]
  },
  {
   "cell_type": "markdown",
   "metadata": {
    "collapsed": true
   },
   "source": [
    "No because $P(S \\, | \\, R_5) \\neq P(R_5)$. The $P(S \\, | \\, R_5) = 0.7937$ while $P(R_5) = 0.0525$. "
   ]
  },
  {
   "cell_type": "markdown",
   "metadata": {},
   "source": [
    "**Part D:**  Suppose you roll your die $n$ times and record each outcome.  Obviously, if you roll 5 or 6 you know you did *not* pick a Four-sided die, and if you roll a 7 or higher, you must have picked a Twenty-sided die.\n",
    "\n",
    "But, if you roll $n$ times in a row and get only 1, 2, 3 or 4, you would have a stronger belief that you in fact grabbed one of the Four-sided dice.  Let $E_n$ be the event that you roll $n$ rolls of 1, 2, 3 or 4 in a row.  For example, one outcome in $E_3$ is the sequence 2, 3, 1.\n",
    "\n",
    "Given that you roll a single value of 1, 2, 3 or 4, what is the probability that you have grabbed a Four-sided die?  That is, calculate **by hand** $P(F \\mid E_1)$."
   ]
  },
  {
   "cell_type": "code",
   "execution_count": 225,
   "metadata": {},
   "outputs": [
    {
     "name": "stdout",
     "output_type": "stream",
     "text": [
      "Probability of Four-Sided Given something less than or equal to 4 is Rolled Once: 0.7985\n"
     ]
    }
   ],
   "source": [
    "# Bayes' Thm\n",
    "pE1GivenF = 1 # Given that you have a 4-sided die, you definitely rolled between 1 and 4\n",
    "pF = four/total\n",
    "pE1 = (four/total)*1 + (six/total)*(4/6) + (twenty/total)*(4/20)\n",
    "pFGivenE1 = (pE1GivenF * pF)/pE1\n",
    "print(\"Probability of Four-Sided Given something less than or equal to 4 is Rolled Once: {0:0.4f}\".format(pFGivenE1))"
   ]
  },
  {
   "cell_type": "markdown",
   "metadata": {},
   "source": [
    "**Part E**:  \n",
    "\n",
    "First, work out **by hand** a formula for the probability in general that you are rolling a Four-sided die, given that you have rolled $n$ values in a row that are 1, 2, 3 or 4 (that is, $E_n$).  So you want a formula for $P(F \\mid E_n)$ in terms of $n$.\n",
    "\n",
    "Then, define a function `prob_four` to calculate $P(F \\mid E_n)$.  This function should only take one positive integer argument, $n$.\n",
    "\n",
    "Verify that your function is performing as expected by checking your answer to **Part C**."
   ]
  },
  {
   "cell_type": "code",
   "execution_count": 226,
   "metadata": {},
   "outputs": [
    {
     "name": "stdout",
     "output_type": "stream",
     "text": [
      "Probability of Four-Sided Given something less than or equal to 4 is Rolled 1 time(s): 0.7985\n",
      "Probability of Four-Sided Given something less than or equal to 4 is Rolled 5 time(s): 0.9551\n"
     ]
    }
   ],
   "source": [
    "# Only pE1 changes\n",
    "def prob_four(n):\n",
    "    pEGivenF = 1 # Given that you have a 4-sided die, you definitely rolled between 1 and 4\n",
    "    pF = four/total\n",
    "    pEn = (four/total)*1 + (six/total)*((4/6)**n) + (twenty/total)*((4/20)**n)\n",
    "    return (pEGivenF * pF)/pEn\n",
    "\n",
    "# Check\n",
    "n = 1\n",
    "print(\"Probability of Four-Sided Given something less than or \" + \\\n",
    "      \"equal to 4 is Rolled {0:1.0f} time(s): {1:0.4f}\".format(n, prob_four(n)))\n",
    "n = 5\n",
    "print(\"Probability of Four-Sided Given something less than or \" + \\\n",
    "      \"equal to 4 is Rolled {0:1.0f} time(s): {1:0.4f}\".format(n, prob_four(n)))"
   ]
  },
  {
   "cell_type": "markdown",
   "metadata": {},
   "source": [
    "**Part F:**  What is the smallest value of $n$ successive rolls of 1, 2, 3 or 4 that would make you believe that there's a better-than-95% chance that the die you grabbed is Four-sided?  Plugging larger and larger values for $n$ into your `prob_four` function is a very reasonable way to check this."
   ]
  },
  {
   "cell_type": "code",
   "execution_count": 227,
   "metadata": {},
   "outputs": [
    {
     "name": "stdout",
     "output_type": "stream",
     "text": [
      "Probability of Four-Sided Given something less than or equal to 4 is Rolled 1 time(s): 0.7000\n",
      "Probability of Four-Sided Given something less than or equal to 4 is Rolled 2 time(s): 0.7985\n",
      "Probability of Four-Sided Given something less than or equal to 4 is Rolled 3 time(s): 0.8609\n",
      "Probability of Four-Sided Given something less than or equal to 4 is Rolled 4 time(s): 0.9038\n",
      "Probability of Four-Sided Given something less than or equal to 4 is Rolled 5 time(s): 0.9340\n",
      "Probability of Four-Sided Given something less than or equal to 4 is Rolled 6 time(s): 0.9551\n",
      "Probability of Four-Sided Given something less than or equal to 4 is Rolled 7 time(s): 0.9696\n",
      "Probability of Four-Sided Given something less than or equal to 4 is Rolled 8 time(s): 0.9795\n",
      "Probability of Four-Sided Given something less than or equal to 4 is Rolled 9 time(s): 0.9863\n",
      "Probability of Four-Sided Given something less than or equal to 4 is Rolled 10 time(s): 0.9908\n"
     ]
    }
   ],
   "source": [
    "for n in range(0, 10):\n",
    "    print(\"Probability of Four-Sided Given something less than or \" + \\\n",
    "      \"equal to 4 is Rolled {0:1.0f} time(s): {1:0.4f}\".format(n+1, prob_four(n)))"
   ]
  },
  {
   "cell_type": "markdown",
   "metadata": {},
   "source": [
    "Better than 95% chance with 6 rolls in a row $\\leq$4. "
   ]
  },
  {
   "cell_type": "markdown",
   "metadata": {},
   "source": [
    "***\n",
    "<a/ id='p3'></a>\n",
    "[Back to top](#top)\n",
    "\n",
    "### [30 points] Problem 3\n",
    "\n",
    "When Chris and Dan leave work in the CU Engineering Center ($E$), they each head for one of five other locations: the Gym to get big ($G$), the Library to get learned ($L$), the Boulder Reservoir to have a nice swim ($R$), the Hill to have a sandwich ($H$), or to Brewing Market to have a nice Coffee ($C$).  \n",
    "\n",
    "Here are some rules governing their movements throughout the fair city of Boulder:\n",
    "* When Chris and/or Dan is leaving one location, they randomly select one of the available adjacent locations, with equal probability.\n",
    "* This includes back-tracking, but note that to return to their original location would require 2 moves.\n",
    "* Assume that all moves require the same amount of time.\n",
    "* They are also not allowed to stay put; they always must move to some *other* adjacent location.\n",
    "* Chris and Dan, being the think-for-yourselfers that they are, also act **independently** of one another. That is, the probability that Chris goes from one place to another is independent of the probability of Dan's movements.\n",
    "\n",
    "<img src=\"http://www.cs.colorado.edu/~tonyewong/home/resources/chris_and_dan_statespace.png\" style=\"width: 300px;\"/>"
   ]
  },
  {
   "cell_type": "markdown",
   "metadata": {},
   "source": [
    "**Part A**: Compute (by hand) the probability that Dan ends up at the the Library ($L$) after first visiting one other location, after he is initially at the Engineering Center ($E$). "
   ]
  },
  {
   "cell_type": "code",
   "execution_count": 228,
   "metadata": {},
   "outputs": [
    {
     "name": "stdout",
     "output_type": "stream",
     "text": [
      "Probability of Ending up at the Library: 0.1538\n"
     ]
    }
   ],
   "source": [
    "total = 13 # possible combos for 2 moves \n",
    "library = 2\n",
    "print(\"Probability of Ending up at the Library: {0:0.4f}\".format(library/total))"
   ]
  },
  {
   "cell_type": "markdown",
   "metadata": {},
   "source": [
    "**Part B**: Compute (by hand) the probability that Chris ends up at the Gym _either_ as his first _or_ second location visited after leaving the Reservsoir. (Again, assume that Chris wanders the streets of Boulder randomly using the same rules described above.)"
   ]
  },
  {
   "cell_type": "code",
   "execution_count": 229,
   "metadata": {},
   "outputs": [
    {
     "name": "stdout",
     "output_type": "stream",
     "text": [
      "Probability of Ending up at the Gym First or Second: 0.6429\n"
     ]
    }
   ],
   "source": [
    "pFirst = 1/2 # Two choices, one success\n",
    "pSecond = 1/7 # Seven choices, one success\n",
    "print(\"Probability of Ending up at the Gym First or Second: {0:0.4f}\".format(pFirst + pSecond))"
   ]
  },
  {
   "cell_type": "markdown",
   "metadata": {},
   "source": [
    "**Part C**: Suppose that Chris works late at the Engineering Center, while Dan goes to the Hill.  Later, they both leave and wander around, randomly and independently of one another, as described above. \n",
    "1. What is the probability that they run into each other in the same location on the first location visited?  \n",
    "2. Given their two initial locations, what is the probability that they meet at the Hill after 2 moves?"
   ]
  },
  {
   "cell_type": "code",
   "execution_count": 230,
   "metadata": {},
   "outputs": [
    {
     "name": "stdout",
     "output_type": "stream",
     "text": [
      "Probability of meeting up after one move: 0.2500\n",
      "Probability of meeting up at hill after two moves: 0.0629\n"
     ]
    }
   ],
   "source": [
    "p1BothAccessible = 3/4 # Probability Chris even goes to a location that can be reached by both after one move.\n",
    "p1SameChoice = 1/3 # Probability Dan and Chris choose the same location.\n",
    "p1 = p1BothAccessible * p1SameChoice # Pt. 1 probability\n",
    "# Just successess divided by total outcomes. Multiply because both events must happen\n",
    "p2DanAtHill = 3/11\n",
    "p2ChrisAtHill = 3/(2+4+4+3)\n",
    "p2 = p2DanAtHill * p2ChrisAtHill\n",
    "print(\"Probability of meeting up after one move: {0:0.4f}\".format(p1))\n",
    "print(\"Probability of meeting up at hill after two moves: {0:0.4f}\".format(p2))"
   ]
  },
  {
   "cell_type": "markdown",
   "metadata": {},
   "source": [
    "**Part D**: Write a simulation to confirm that your by-hand calculations in **Part A**, **Part B**, and **Part C** (both parts of C) are correct. Make sure you run your simulations for enough trials that your estimates are reasonably close to your analytic results. In addition to showing your code, you should explain in Markdown (not just in code comments) what your code is doing and why it is a reasonable approximation of the probabilities in **Part A**, **Part B**, and **Part C**.  "
   ]
  },
  {
   "cell_type": "code",
   "execution_count": 231,
   "metadata": {},
   "outputs": [
    {
     "name": "stdout",
     "output_type": "stream",
     "text": [
      "Ends up at library after 2 moves probability: 0.1459\n",
      "Ends up going through gym probability: 0.6280\n",
      "Ends up in same location after one move probability: 0.2588\n",
      "Ends up in hill after two moves probability: 0.2588\n"
     ]
    }
   ],
   "source": [
    "boulder = {\n",
    "    'G': ['H', 'L', 'E', 'R'],\n",
    "    'R': ['G', 'E'],\n",
    "    'H': ['G', 'L', 'C'],\n",
    "    'L': ['H', 'G', 'E', 'C'],\n",
    "    'E': ['G', 'R', 'L', 'C'],\n",
    "    'C': ['H', 'L', 'E']\n",
    "}\n",
    "nSims = 10000\n",
    "\n",
    "# Part A\n",
    "outcomes = np.zeros(nSims)\n",
    "\n",
    "for n in range(0,nSims): \n",
    "    dan = 'E'\n",
    "    for move in range(0,2):\n",
    "        newLocation = rand.randint(0, len(boulder[dan]))\n",
    "        dan = boulder[dan][newLocation]\n",
    "    outcomes[n] = (dan == 'L')\n",
    "\n",
    "print(\"Ends up at library after 2 moves probability: {0:0.4f}\".format(outcomes.mean()))\n",
    "\n",
    "# Part B\n",
    "outcomes = np.zeros(nSims)\n",
    "\n",
    "for n in range(0,nSims): \n",
    "    dan = 'R'\n",
    "    for move in range(0,2):\n",
    "        newLocation = rand.randint(0, len(boulder[dan]))\n",
    "        dan = boulder[dan][newLocation]\n",
    "        outcomes[n] = (dan == 'G') or outcomes[n]\n",
    "        \n",
    "print(\"Ends up going through gym probability: {0:0.4f}\".format(outcomes.mean()))\n",
    "\n",
    "# Part C\n",
    "outcomes1 = np.zeros(nSims)\n",
    "outcomes2 = np.zeros(nSims)\n",
    "\n",
    "for n in range(0,nSims):\n",
    "    dan = 'H'\n",
    "    chris = 'E'\n",
    "    \n",
    "    # Move 1\n",
    "    newDanLocation = rand.randint(0, len(boulder[dan]))\n",
    "    newChrisLocation = rand.randint(0, len(boulder[chris]))\n",
    "    dan = boulder[dan][newDanLocation]\n",
    "    chris = boulder[chris][newChrisLocation]\n",
    "    \n",
    "    outcomes1[n] = (dan == chris)\n",
    "    \n",
    "    # Move 2\n",
    "    newDanLocation = rand.randint(0, len(boulder[dan]))\n",
    "    newChrisLocation = rand.randint(0, len(boulder[chris]))\n",
    "    dan = boulder[dan][newDanLocation]\n",
    "    chris = boulder[chris][newChrisLocation]\n",
    "        \n",
    "    outcomes2[n] = (dan == chris) and (dan == 'H')\n",
    "    \n",
    "print(\"Ends up in same location after one move probability: {0:0.4f}\".format(outcomes1.mean()))\n",
    "print(\"Ends up in hill after two moves probability: {0:0.4f}\".format(outcomes1.mean()))"
   ]
  },
  {
   "cell_type": "markdown",
   "metadata": {},
   "source": [
    "This code creates a graph representing Boulder using a python dictionary. The keys are nodes and the values are their edges. For each part, a variable stores where our protagonist(s) are and they are moved through the graph. For each run of the nSims simulations, the criteria for \"success\" in that part is checked. If successful, a \"1\" is stored in the outcomes array such that taking the mean of the array at the end gives the probability.\n",
    "\n",
    "In Part A, Dan is moved twice and if he is at the library at the end (dan='L'), that is a success.\n",
    "\n",
    "In Part B, Dan is moved twice this time starting from the reservoir. It is checked if Dan is at the gym for either move.\n",
    "\n",
    "In Part C, it is checked if Dan and Chris are at the same node after they are each moved once. Then they are moved again. Afterwards it is checked if they are at the same location and that location is the hill.\n",
    "\n",
    "This is a reasonable approximation of the probability because of the large number of trials, which is far greater that the number of possible outcomes."
   ]
  },
  {
   "cell_type": "markdown",
   "metadata": {},
   "source": [
    "***\n",
    "<a/ id='p4'></a>\n",
    "[Back to top](#top)\n",
    "\n",
    "### [30 points] Problem 4\n",
    "\n",
    "\n",
    "In this problem you will write some code to simulate the game of **Miniopoly** (a very rough approximation of [Monopoly](https://en.wikipedia.org/wiki/Monopoly_(game)).  The game consists of a round board with 40 \"squares\" numbered from $0$ to $40$, where squares $0$ and $40$ are [coincident](https://en.wikipedia.org/wiki/Coincident) and called **GO**.  A player starts on **GO** with \\$200 in their pocket.  On each turn the player rolls a pair of dice and then moves a number of spaces equal to the sum of the dice.  Landing on different squares have different results: \n",
    "\n",
    "- Squares 2, 7, 17, 22, 33, and 36 cause you to draw a card.  The cards tell you to collect \\$50, \\$100 or \\$200, or pay the bank \\$50 or \\$100.  There is always an equal probability associated with each of these possible cards.\n",
    "\n",
    "<p> </p>\n",
    "\n",
    "- Squares 0, 10, and 20 do not trigger any action \n",
    "\n",
    "<p> </p>\n",
    "\n",
    "- Square 30 is **Go To Jail**, which sends the player directly to **Jail** and ends the turn \n",
    "\n",
    "<p> </p>\n",
    "\n",
    "- If a player starts a turn from **Jail** she rolls two dice: \n",
    "\n",
    "    - If the player rolls doubles (i.e. the dice have equal values) the player moves from Square 10 a number of squares equal to the sum of the dice\n",
    "    \n",
    "    - If the player rolls anything other than doubles she pays the bank \\$20 and remains in **Jail** \n",
    "    \n",
    "<p> </p>\n",
    "\n",
    "- If the player passes or lands on **GO** she collects \\$200. \n",
    "\n",
    "<p> </p>\n",
    "\n",
    "- If the player lands on any other square not mentioned above, she pays the bank an amount equal to the square's number (e.g. if she lands on Square 29 she pays the bank \\$29). \n",
    "\n",
    "<p> </p>\n",
    "\n",
    "If at any point the player has \\$0 or less they go bankrupt and the game ends. \n",
    "\n",
    "<br>\n",
    "\n",
    "**Part A**: Complete the function miniopoly_turn below. The function should simulate one turn of Miniopoly.  It should take as arguments the player's current location on the board as well as the player's current cash reserves, and return the player's new location and cash reserves after the turn has completed. Note that if a player goes bankrupt during the game you should return their cash as 0 instead of a negative value.  "
   ]
  },
  {
   "cell_type": "code",
   "execution_count": 232,
   "metadata": {
    "scrolled": true
   },
   "outputs": [],
   "source": [
    "def draw_card():\n",
    "    cashout = [50, 100, 200, -50, -100]\n",
    "    return cashout[rand.randint(0,len(cashout))]\n",
    "\n",
    "def miniopoly_turn(state, cash):\n",
    "    \n",
    "    if cash == 0: return state, cash\n",
    "    \n",
    "    roll1 = rand.randint(1,7) # Get roll 1\n",
    "    roll2 = rand.randint(1,7) # Get roll 2\n",
    "    \n",
    "    total = roll1 + roll2\n",
    "    \n",
    "    if state != 30:\n",
    "        new_state = state + total\n",
    "        new_cash = cash\n",
    "\n",
    "        if new_state > 40: \n",
    "            new_state -= 40\n",
    "            new_cash += 200\n",
    "\n",
    "        if new_state in [2, 7, 17, 22, 33, 36]:\n",
    "            new_cash += draw_card()\n",
    "        elif new_state in [0, 10, 20]:\n",
    "            pass\n",
    "        elif new_state == 30: # jail\n",
    "            pass\n",
    "        else:\n",
    "            new_cash -= new_state\n",
    "        \n",
    "        state = new_state\n",
    "        cash = new_cash\n",
    "    else:\n",
    "        if roll1 == roll2:\n",
    "            state = 10 + total\n",
    "        else:\n",
    "            cash -= 20\n",
    "    \n",
    "    if cash < 0: cash = 0\n",
    "    \n",
    "    return state, cash "
   ]
  },
  {
   "cell_type": "markdown",
   "metadata": {},
   "source": [
    "**Part B**: Use your function from **Part A** to Simulate at least 5000 30-turn games of Miniopoly and make a frequency histogram of the player's cash at the end of the game. Be sure to label your axes!"
   ]
  },
  {
   "cell_type": "code",
   "execution_count": 233,
   "metadata": {},
   "outputs": [
    {
     "data": {
      "image/png": "[encoded data removed]",
      "text/plain": [
       "<matplotlib.figure.Figure at 0x7feb14fa59b0>"
      ]
     },
     "metadata": {},
     "output_type": "display_data"
    }
   ],
   "source": [
    "nSims = 5000\n",
    "cash_arr = np.zeros(nSims)\n",
    "jail_arr = np.zeros(nSims)\n",
    "\n",
    "for n in range(0,nSims):\n",
    "    state = 1\n",
    "    cash = 200\n",
    "    for turn in range(0, 30):\n",
    "        state, cash = miniopoly_turn(state, cash)\n",
    "    cash_arr[n] = cash\n",
    "    if state == 30: jail_arr[n] = 1\n",
    "    \n",
    "df_dic = {'cash': cash_arr, 'jail': jail_arr}\n",
    "df = pd.DataFrame(df_dic)\n",
    "fig, axes = plt.subplots(figsize=(8,8))\n",
    "\n",
    "my_bins = range(0,2000,100)\n",
    "\n",
    "df.hist(column=\"cash\", ax=axes, facecolor=\"steelblue\", edgecolor=\"white\", bins=my_bins)\n",
    "                                                      \n",
    "# Add titles and labels \n",
    "axes.set_title(\"Cash at end of 30-turn Miniopoly\", fontsize=20)\n",
    "axes.set_xlabel(\"Cash\", fontsize=16)\n",
    "axes.set_ylabel(\"Frequency\", fontsize=16)\n",
    "\n",
    "# Make grid lighter and set behind data\n",
    "axes.grid(alpha=0.25)\n",
    "axes.set_axisbelow(True)\n",
    "\n",
    "# Set x and y axis limits \n",
    "axes.set_xlim([0,2000])\n",
    "axes.set_ylim([0,1000]);"
   ]
  },
  {
   "cell_type": "markdown",
   "metadata": {},
   "source": [
    "**Part C**: Use your codes to estimate the probability that a player goes bankrupt in the first 30 turns of the game. "
   ]
  },
  {
   "cell_type": "code",
   "execution_count": 234,
   "metadata": {},
   "outputs": [
    {
     "name": "stdout",
     "output_type": "stream",
     "text": [
      "P(Bankrupt in 30 turns or less) = 0.1444\n"
     ]
    }
   ],
   "source": [
    "print(\"P(Bankrupt in 30 turns or less) = {}\".format(len(df[df[\"cash\"] == 0])/nSims))"
   ]
  },
  {
   "cell_type": "markdown",
   "metadata": {},
   "source": [
    "**Part D**: Use your codes to estimate the probability that a player goes bankrupt in the first 30 turns _given_ that they went to **Jail** at least once.  Is a player more or less likely to go bankrupt if they've been to **Jail**?  "
   ]
  },
  {
   "cell_type": "code",
   "execution_count": 235,
   "metadata": {},
   "outputs": [
    {
     "name": "stdout",
     "output_type": "stream",
     "text": [
      "P(Bankrupt in 30 turns or less | Went to Jail) = 0.288622754491018\n"
     ]
    }
   ],
   "source": [
    "broke_n_booked = len(df.loc[(df[\"jail\"] == 1) & (df[\"cash\"] == 0)])\n",
    "just_booked = len(df.loc[df[\"jail\"] == 1])\n",
    "print(\"P(Bankrupt in 30 turns or less | Went to Jail) = {}\".format(broke_n_booked/just_booked))"
   ]
  },
  {
   "cell_type": "markdown",
   "metadata": {},
   "source": [
    "**Part E**: Use your code from **Part A** to estimate the probability (either directly or using Bayes' Rule) that a player has gone to jail at least once, given that the player went bankrupt in the first 30 turns."
   ]
  },
  {
   "cell_type": "code",
   "execution_count": 236,
   "metadata": {},
   "outputs": [
    {
     "name": "stdout",
     "output_type": "stream",
     "text": [
      "P(Went to Jail | Bankrupt in 30 turns or less) = 0.3337950138504155\n"
     ]
    }
   ],
   "source": [
    "just_broke = len(df[df[\"cash\"] == 0])\n",
    "print(\"P(Went to Jail | Bankrupt in 30 turns or less) = {}\".format(broke_n_booked/just_broke))"
   ]
  }
 ],
 "metadata": {
  "kernelspec": {
   "display_name": "Python 3",
   "language": "python",
   "name": "python3"
  },
  "language_info": {
   "codemirror_mode": {
    "name": "ipython",
    "version": 3
   },
   "file_extension": ".py",
   "mimetype": "text/x-python",
   "name": "python",
   "nbconvert_exporter": "python",
   "pygments_lexer": "ipython3",
   "version": "3.6.3"
  }
 },
 "nbformat": 4,
 "nbformat_minor": 2
}
