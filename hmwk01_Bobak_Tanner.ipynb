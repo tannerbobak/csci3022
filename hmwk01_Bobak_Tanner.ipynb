{
 "cells": [
  {
   "cell_type": "markdown",
   "metadata": {},
   "source": [
    "<a/ id='top'></a>\n",
    "\n",
    "### Homework 1: Exploratory Data Analysis and Data Cleaning\n",
    "***\n",
    "\n",
    "**Name**:\n",
    "\n",
    "***\n",
    "\n",
    "This assignment is due on Moodle by **12 PM noon on Friday 8 June**. Your solutions to theoretical questions should be done in Markdown directly below the associated question.  Your solutions to computational questions should include any specified Python code and results as well as written commentary on your conclusions.  Remember that you are encouraged to discuss the problems with your classmates, but **you must write all code and solutions on your own**.   \n",
    "\n",
    "**NOTES**: \n",
    "\n",
    "- Unless a URL is given for a data set, you will find the required data on Piazza in the Resources tab, under the Data section.\n",
    "- If you are not familiar with typesetting math directly into Markdown then by all means, do your work on paper first and then typeset it later.  There is a [reference guide](https://math.meta.stackexchange.com/questions/5020/mathjax-basic-tutorial-and-quick-reference) linked on Piazza on writing math in Markdown. \n",
    "- It is **bad form** to make your reader interpret numerical output from your code.  If a question asks you to compute some value from the data you should show your code output **AND** write a summary of the results in Markdown directly below your code. It is always advisable to do what you can to make the person grading your work happy :)\n",
    "\n",
    "---\n",
    "**Shortcuts:**  [Problem 1](#p1) | [Problem 2](#p2) | [Problem 3](#p3) | [Problem 4](#p4)\n",
    "\n",
    "---"
   ]
  },
  {
   "cell_type": "code",
   "execution_count": null,
   "metadata": {
    "collapsed": true
   },
   "outputs": [],
   "source": [
    "import pandas as pd\n",
    "import numpy as np\n",
    "import matplotlib.pylab as plt\n",
    "%matplotlib inline"
   ]
  },
  {
   "cell_type": "markdown",
   "metadata": {},
   "source": [
    "<br>\n",
    "\n",
    "<a/ id='p1'></a>\n",
    "[Back to top](#top)\n",
    "*** \n",
    "### [10 pts] Problem 1\n",
    "\n",
    "Dan has just finished baking a bunch of cookies for his wonderful friends. But, because he is also a good friend, he wants to test the cookies to estimate how delicious they are.  After all, if he baked gross cookies, he probably shouldn't give them to his friends, right?\n",
    "\n",
    "In Dan's batch, there are 50 chocolate chip, 20 oatmeal raisin, 20 macadamia nut and 10 snickerdoodle cookies.  To estimate the deliciousness of the batch, Dan randomly selects 10 cookies and tastes them.  Dan is quite methodical, so he has a log of all of the cookies he has baked, and he intentionally selects 5 chocolate chip, 2 oatmeal raisin, 2 macadamia nut and 1 snickerdoodle cookie from his log to test.\n",
    "\n",
    "Identify the following: \n",
    "\n",
    "- the population \n",
    "- the sample frame \n",
    "- the sample \n",
    "- the type of sample \n",
    "- the quantity of interest"
   ]
  },
  {
   "cell_type": "markdown",
   "metadata": {},
   "source": [
    "Answer:\n",
    "\n",
    "The **population** is the fifty cookies in Dan's batch.\n",
    "\n",
    "The **sample frame** is log of all the cookies that Dan has baked.\n",
    "\n",
    "The **sample** is the ten cookies that Dan selects to try.\n",
    "\n",
    "The **type of sample** is stratified, sampling every 10th cookie in each homogenous group.\n",
    "\n",
    "The **quantity of interest** is how delicious the cookies are, presumably on some rating scale such as 1-10. However he may be using the ISO 7457-E cookie rating standard which assigns cookie deliciousness on a logarithmic scale. ;P"
   ]
  },
  {
   "cell_type": "markdown",
   "metadata": {},
   "source": [
    "<br>\n",
    "\n",
    "<a/ id='p2'></a>\n",
    "[Back to top](#top)\n",
    "*** \n",
    "### [20 pts] Problem 2 \n",
    "\n",
    "A method to investigate the sensitivity of the sample mean and the sample median to extreme outliers is to replace one or more elements in a given dataset by a number $y$ and investigate the eﬀect when $y$ goes to inﬁnity. To illustrate this, consider the dataset\n",
    "\n",
    "$$\n",
    "4.6 \\quad \n",
    "5.0 \\quad\n",
    "6.5 \\quad\n",
    "7.2 \\quad\n",
    "4.2 \\quad\n",
    "3.0 \\quad\n",
    "6.6\n",
    "$$\n",
    "\n",
    "**Part A**: Compute the sample mean and sample median.\n"
   ]
  },
  {
   "cell_type": "code",
   "execution_count": 3,
   "metadata": {},
   "outputs": [
    {
     "name": "stdout",
     "output_type": "stream",
     "text": [
      "5.3 is the mean.\n",
      "5.0 is the median.\n"
     ]
    }
   ],
   "source": [
    "# Import the numpy module. Not really necessary to be this robust for part A but it is good practice.\n",
    "import numpy as np\n",
    "\n",
    "# Data\n",
    "pt2_data = np.array([4.6,5.0,6.5,7.2,4.2,3.0,6.6], dtype=float)\n",
    "\n",
    "# Print the mean\n",
    "print(\"{} is the mean.\".format(np.mean(pt2_data)))\n",
    "\n",
    "# Print the meadian\n",
    "print(\"{} is the median.\".format(np.median(pt2_data)))"
   ]
  },
  {
   "cell_type": "markdown",
   "metadata": {},
   "source": [
    "**Part B**: We replace the element $5.0$ by some real number $z$. What happens with the sample mean and the sample median of this new dataset as $z \\rightarrow \\infty$?"
   ]
  },
  {
   "cell_type": "markdown",
   "metadata": {},
   "source": [
    "Answer:\n",
    "\n",
    "As $z \\rightarrow \\infty$, the sample mean will increase towards infinity as well. The sample median will be $z$ for $z < 6.6$, and then change to $6.5$ for $z > 6.5$."
   ]
  },
  {
   "cell_type": "markdown",
   "metadata": {},
   "source": [
    "**Part C**: We replace a number of elements by some real number $z$. How many elements do we need to replace so that the sample median of the new dataset goes to infinity as $z \\rightarrow \\infty$?"
   ]
  },
  {
   "cell_type": "markdown",
   "metadata": {},
   "source": [
    "Answer:\n",
    "\n",
    "The four largest elements must be replaced by $z$ for the sample median to tend toward infinity as $z \\rightarrow \\infty$. "
   ]
  },
  {
   "cell_type": "markdown",
   "metadata": {},
   "source": [
    "**Part D**: Suppose we have another data set of size $n$. How many elements do we need to replace by some real number $z$, so that the sample mean of the new dataset diverges as $z \\rightarrow \\infty$? And how many elements do we need to replace, so that the sample median of the new dataset goes to infinity? "
   ]
  },
  {
   "cell_type": "markdown",
   "metadata": {},
   "source": [
    "Answer:\n",
    "\n",
    "For a data set of size $n$, only one number must be replaced by $z$ for the sample mean to diverge as $z \\rightarrow \\infty$. On the other hand, the $\\left \\lceil{\\frac{n}{2}} \\right \\rceil$ largest elements must be replaced for the sample median to diverge as $z \\rightarrow \\infty$."
   ]
  },
  {
   "cell_type": "markdown",
   "metadata": {},
   "source": [
    "<br>\n",
    "\n",
    "<a/ id='p3'></a>\n",
    "[Back to top](#top)\n",
    "*** \n",
    "### [35 pts] Problem 3 \n",
    "\n",
    "Let $x_1, x_2, \\ldots, x_n$ be $n$ observations of a variable of interest.  Recall that the sample mean $\\bar{x}_n$ and sample variance $s^2_n$ are given by \n",
    "\n",
    "$$\n",
    "\\bar{x}_n = \\frac{1}{n}\\sum_{k=1}^n x_k \\quad \\textrm{and} \\quad s^2_n = \\frac{1}{n-1}\\sum_{k=1}^n \\left( x_k - \\bar{x}_n\\right)^2\n",
    "$$\n",
    "\n",
    "where here the subscript $n$'s indicate the number of observations in the sample. Notice that a natural computation of the variance requires two passes over the data: one to compute the mean, and a second to subtract the mean from each observation and compute the sum of squares. It is often useful to be able to compute the variance in a single pass, inspecting each value $x_k$ only once; for example, when the data are being collected without enough storage to keep all the values, or when costs of memory access dominate those of computation. In this problem you will explore two methods for such an _online_ computation of the mean and variance.  \n",
    "\n",
    "**Part A**: Show algebraically that the following relation holds between the mean of the first $n-1$ observations and the mean of all $n$ observations: \n",
    "\n",
    "$$\n",
    "\\bar{x}_n = \\bar{x}_{n-1} + \\frac{x_n - \\bar{x}_{n-1}}{n}\n",
    "$$"
   ]
  },
  {
   "cell_type": "markdown",
   "metadata": {},
   "source": [
    "Answer:\n",
    "\n",
    "$\\bar{x}_n = \\frac{1}{n}\\sum_{k=1}^n x_k \\implies \\bar{x}_{n-1} = \\frac{1}{n-1}\\sum_{k=1}^{n-1} x_k$\n",
    "\n",
    "$\\bar{x}_n = \\frac{1}{n}\\sum_{k=1}^n x_k = \\bar{x}_n = \\frac{1}{n} \\left[ \\left( \\sum_{k=1}^{n-1} x_k \\right) + x_n \\right]$\n",
    "\n",
    "$= \\frac{1}{n} \\left[ \\left( (n-1)\\bar{x}_{n-1} \\right) + x_n \\right]$"
   ]
  },
  {
   "cell_type": "markdown",
   "metadata": {},
   "source": [
    "$= \\frac{(n-1)\\,\\bar{x}_{n-1}}{n} + \\frac{x_n}{n}$"
   ]
  },
  {
   "cell_type": "markdown",
   "metadata": {},
   "source": [
    "$= \\frac{n\\,\\bar{x}_{n-1}}{n} - \\frac{\\bar{x}_{n-1}}{n} + \\frac{x_n}{n}$"
   ]
  },
  {
   "cell_type": "markdown",
   "metadata": {},
   "source": [
    "$= \\bar{x}_{n-1} + \\frac{x_n - \\bar{x}_{n-1}}{n} \\quad \\mathrm{\\blacksquare}$ "
   ]
  },
  {
   "cell_type": "markdown",
   "metadata": {},
   "source": [
    "**Part B**: Write a function `my_sample_mean` that takes as its input a numpy array and returns the mean of that numpy array using the formulas from class (written above). Write another function `my_sample_var` that takes as its input a numpy array and returns the variance of that numpy array, again using the formulas from class (written above). You may **not** use any built-in sample mean or variance functions."
   ]
  },
  {
   "cell_type": "code",
   "execution_count": 5,
   "metadata": {
    "collapsed": true
   },
   "outputs": [],
   "source": [
    "def my_sample_mean(arr):\n",
    "    \"\"\"\n",
    "    Calculate the sample mean using the formula learned in class.\n",
    "    \"\"\"\n",
    "    \n",
    "    # Length of array\n",
    "    n = len(arr)\n",
    "    \n",
    "    # Accumulate sum \n",
    "    my_sum = 0\n",
    "    \n",
    "    # The summation (does not use built-in functions)\n",
    "    for i in range(0,n):\n",
    "        my_sum += arr[i]\n",
    "        \n",
    "    # Divide the sum by n\n",
    "    return my_sum / n\n",
    "\n",
    "def my_sample_var(arr):\n",
    "    \"\"\"\n",
    "    Calculate the sample variance using the formula learned in class.\n",
    "    \"\"\"\n",
    "    \n",
    "    # Length of array\n",
    "    n = len(arr)\n",
    "    \n",
    "    # Get the sample mean using the previously defined function\n",
    "    xbar = my_sample_mean(arr)\n",
    "    \n",
    "    # Accumulator\n",
    "    my_sum = 0\n",
    "    \n",
    "    # Perform the summation\n",
    "    for i in range(0,n):\n",
    "        my_sum += (arr[i] - xbar)**2\n",
    "        \n",
    "    # Divide the sum by n-1\n",
    "    return my_sum / (n - 1)"
   ]
  },
  {
   "cell_type": "markdown",
   "metadata": {},
   "source": [
    "**Part C**: Use your functions from Part B to compute the sample mean and sample variance of the following array of bicycle ride lengths.\n",
    "\n",
    "`ride_lengths = [25, 23, 12, 38, 6, 6, 28, 45, 64, 17, 20, 100]`"
   ]
  },
  {
   "cell_type": "code",
   "execution_count": 8,
   "metadata": {},
   "outputs": [
    {
     "name": "stdout",
     "output_type": "stream",
     "text": [
      "my_sample_mean: 32.0\n",
      "my_sample_var: 738.1818181818181\n",
      "numpy mean: 32.0\n",
      "numpy var: 738.1818181818181\n"
     ]
    }
   ],
   "source": [
    "# Ride lengths as a numpy array\n",
    "ride_lengths = np.array([25, 23, 12, 38, 6, 6, 28, 45, 64, 17, 20, 100])\n",
    "\n",
    "# Print results of my functions\n",
    "print(\"my_sample_mean: {}\".format(my_sample_mean(ride_lengths)))\n",
    "print(\"my_sample_var: {}\".format(my_sample_var(ride_lengths)))\n",
    "\n",
    "# Print results of built in functions to verify\n",
    "print(\"numpy mean: {}\".format(ride_lengths.mean()))\n",
    "print(\"numpy var: {}\".format(ride_lengths.var(ddof = 1))) # DDOF=1 adds makes the leading coeff 1/(n-1)"
   ]
  },
  {
   "cell_type": "markdown",
   "metadata": {},
   "source": [
    "**Part D**: Implement a third function called `update_mean` that implements the formula whose validity you proved in Part A. (Note: this function will need to take as its input three things: $x_n$, $\\bar{x}_{n-1}$ and $n$.)\n",
    "\n",
    "Use this function to compute the values that you get from taking the mean of the first one ride, the first two rides, the first three rides, and so on up to all the bike rides. Store your ride length means in a numpy array called `rolling_means`.  Report all 12 estimates in `rolling_means`."
   ]
  },
  {
   "cell_type": "code",
   "execution_count": 14,
   "metadata": {},
   "outputs": [
    {
     "data": {
      "text/html": [
       "<div>\n",
       "<style>\n",
       "    .dataframe thead tr:only-child th {\n",
       "        text-align: right;\n",
       "    }\n",
       "\n",
       "    .dataframe thead th {\n",
       "        text-align: left;\n",
       "    }\n",
       "\n",
       "    .dataframe tbody tr th {\n",
       "        vertical-align: top;\n",
       "    }\n",
       "</style>\n",
       "<table border=\"1\" class=\"dataframe\">\n",
       "  <thead>\n",
       "    <tr style=\"text-align: right;\">\n",
       "      <th></th>\n",
       "      <th>Rolling Means</th>\n",
       "    </tr>\n",
       "  </thead>\n",
       "  <tbody>\n",
       "    <tr>\n",
       "      <th>0</th>\n",
       "      <td>25.000000</td>\n",
       "    </tr>\n",
       "    <tr>\n",
       "      <th>1</th>\n",
       "      <td>24.000000</td>\n",
       "    </tr>\n",
       "    <tr>\n",
       "      <th>2</th>\n",
       "      <td>20.000000</td>\n",
       "    </tr>\n",
       "    <tr>\n",
       "      <th>3</th>\n",
       "      <td>24.500000</td>\n",
       "    </tr>\n",
       "    <tr>\n",
       "      <th>4</th>\n",
       "      <td>20.800000</td>\n",
       "    </tr>\n",
       "    <tr>\n",
       "      <th>5</th>\n",
       "      <td>18.333333</td>\n",
       "    </tr>\n",
       "    <tr>\n",
       "      <th>6</th>\n",
       "      <td>19.714286</td>\n",
       "    </tr>\n",
       "    <tr>\n",
       "      <th>7</th>\n",
       "      <td>22.875000</td>\n",
       "    </tr>\n",
       "    <tr>\n",
       "      <th>8</th>\n",
       "      <td>27.444444</td>\n",
       "    </tr>\n",
       "    <tr>\n",
       "      <th>9</th>\n",
       "      <td>26.400000</td>\n",
       "    </tr>\n",
       "    <tr>\n",
       "      <th>10</th>\n",
       "      <td>25.818182</td>\n",
       "    </tr>\n",
       "    <tr>\n",
       "      <th>11</th>\n",
       "      <td>32.000000</td>\n",
       "    </tr>\n",
       "  </tbody>\n",
       "</table>\n",
       "</div>"
      ],
      "text/plain": [
       "    Rolling Means\n",
       "0       25.000000\n",
       "1       24.000000\n",
       "2       20.000000\n",
       "3       24.500000\n",
       "4       20.800000\n",
       "5       18.333333\n",
       "6       19.714286\n",
       "7       22.875000\n",
       "8       27.444444\n",
       "9       26.400000\n",
       "10      25.818182\n",
       "11      32.000000"
      ]
     },
     "execution_count": 14,
     "metadata": {},
     "output_type": "execute_result"
    }
   ],
   "source": [
    "# Fancy formatting\n",
    "import pandas as pd\n",
    "\n",
    "# Function definition\n",
    "def update_mean(xn, xn1, n):\n",
    "    return xn1 + (xn - xn1)/n\n",
    "\n",
    "# Save length\n",
    "n = len(ride_lengths)\n",
    "\n",
    "# Allocate array\n",
    "rolling_means = np.zeros(n)\n",
    "\n",
    "# Handle case where there is no \"n-1\" element, the start of the recurrence.\n",
    "rolling_means[0] = ride_lengths[0]\n",
    "\n",
    "# Calculate\n",
    "for i in range(1,n):\n",
    "    rolling_means[i] = update_mean(ride_lengths[i], rolling_means[i-1], i+1)\n",
    "\n",
    "# Display results with Pandas\n",
    "data = {\"Rolling Means\": rolling_means}\n",
    "df = pd.DataFrame(data)\n",
    "df\n"
   ]
  },
  {
   "cell_type": "markdown",
   "metadata": {},
   "source": [
    "**Part E:** There is a similar relation for an online update of the variance. This relation between the variance of the first $n-1$ observations and the variance of all $n$ observations is:\n",
    "\n",
    "$$\n",
    "s^2_n = \\frac{(n-2)}{(n-1)}s^2_{n-1} + \\frac{(x_n - \\bar{x}_{n-1})^2}{n}\n",
    "$$\n",
    "\n",
    "Implement a function called `update_var` that implements this update for the variance.  Note that the function will require four things as input: $\\bar{x}_{n-1}$, $s^2_{n-1}$, $x_n$ and $n$. You may start the recurrence with $s^2_1 = 0$.\n",
    "\n",
    "Then, use this function to compute the values that you get for the variance of the first two rides, the first three rides, and so on up to all of the bike rides. Store your ride length variances in a numpy array called `rolling_vars`. Report all variance estimates from `rolling_vars`, and be sure your final estimate using all of the data agrees with your answer from **Part C**."
   ]
  },
  {
   "cell_type": "code",
   "execution_count": 15,
   "metadata": {},
   "outputs": [
    {
     "data": {
      "text/html": [
       "<div>\n",
       "<style>\n",
       "    .dataframe thead tr:only-child th {\n",
       "        text-align: right;\n",
       "    }\n",
       "\n",
       "    .dataframe thead th {\n",
       "        text-align: left;\n",
       "    }\n",
       "\n",
       "    .dataframe tbody tr th {\n",
       "        vertical-align: top;\n",
       "    }\n",
       "</style>\n",
       "<table border=\"1\" class=\"dataframe\">\n",
       "  <thead>\n",
       "    <tr style=\"text-align: right;\">\n",
       "      <th></th>\n",
       "      <th>Rolling Means</th>\n",
       "      <th>Rolling Vars</th>\n",
       "    </tr>\n",
       "  </thead>\n",
       "  <tbody>\n",
       "    <tr>\n",
       "      <th>0</th>\n",
       "      <td>25.000000</td>\n",
       "      <td>0.000000</td>\n",
       "    </tr>\n",
       "    <tr>\n",
       "      <th>1</th>\n",
       "      <td>24.000000</td>\n",
       "      <td>2.000000</td>\n",
       "    </tr>\n",
       "    <tr>\n",
       "      <th>2</th>\n",
       "      <td>20.000000</td>\n",
       "      <td>49.000000</td>\n",
       "    </tr>\n",
       "    <tr>\n",
       "      <th>3</th>\n",
       "      <td>24.500000</td>\n",
       "      <td>113.666667</td>\n",
       "    </tr>\n",
       "    <tr>\n",
       "      <th>4</th>\n",
       "      <td>20.800000</td>\n",
       "      <td>153.700000</td>\n",
       "    </tr>\n",
       "    <tr>\n",
       "      <th>5</th>\n",
       "      <td>18.333333</td>\n",
       "      <td>159.466667</td>\n",
       "    </tr>\n",
       "    <tr>\n",
       "      <th>6</th>\n",
       "      <td>19.714286</td>\n",
       "      <td>146.238095</td>\n",
       "    </tr>\n",
       "    <tr>\n",
       "      <th>7</th>\n",
       "      <td>22.875000</td>\n",
       "      <td>205.267857</td>\n",
       "    </tr>\n",
       "    <tr>\n",
       "      <th>8</th>\n",
       "      <td>27.444444</td>\n",
       "      <td>367.527778</td>\n",
       "    </tr>\n",
       "    <tr>\n",
       "      <th>9</th>\n",
       "      <td>26.400000</td>\n",
       "      <td>337.600000</td>\n",
       "    </tr>\n",
       "    <tr>\n",
       "      <th>10</th>\n",
       "      <td>25.818182</td>\n",
       "      <td>307.563636</td>\n",
       "    </tr>\n",
       "    <tr>\n",
       "      <th>11</th>\n",
       "      <td>32.000000</td>\n",
       "      <td>738.181818</td>\n",
       "    </tr>\n",
       "  </tbody>\n",
       "</table>\n",
       "</div>"
      ],
      "text/plain": [
       "    Rolling Means  Rolling Vars\n",
       "0       25.000000      0.000000\n",
       "1       24.000000      2.000000\n",
       "2       20.000000     49.000000\n",
       "3       24.500000    113.666667\n",
       "4       20.800000    153.700000\n",
       "5       18.333333    159.466667\n",
       "6       19.714286    146.238095\n",
       "7       22.875000    205.267857\n",
       "8       27.444444    367.527778\n",
       "9       26.400000    337.600000\n",
       "10      25.818182    307.563636\n",
       "11      32.000000    738.181818"
      ]
     },
     "execution_count": 15,
     "metadata": {},
     "output_type": "execute_result"
    }
   ],
   "source": [
    "# Function definition\n",
    "def update_var(xn, xn1, n, sn1):\n",
    "    return ( (n - 2) / (n - 1) ) * sn1 + ( ((xn - xn1) ** 2) / n )\n",
    "\n",
    "# Save length\n",
    "n = len(ride_lengths)\n",
    "\n",
    "# Allocate array\n",
    "rolling_vars = np.zeros(n)\n",
    "rolling_means = np.zeros(n)\n",
    "\n",
    "# Start of recurrence\n",
    "rolling_vars[0] = 0\n",
    "rolling_means[0] = ride_lengths[0]\n",
    "\n",
    "# Calculate\n",
    "for i in range(1,n):\n",
    "    rolling_means[i] = update_mean(ride_lengths[i], rolling_means[i-1], i+1)\n",
    "    rolling_vars[i] = update_var(ride_lengths[i], rolling_means[i-1], i+1, rolling_vars[i-1])\n",
    "\n",
    "# Display results with Pandas\n",
    "data = {\"Rolling Means\": rolling_means,\n",
    "        \"Rolling Vars\" : rolling_vars}\n",
    "df = pd.DataFrame(data)\n",
    "df"
   ]
  },
  {
   "cell_type": "markdown",
   "metadata": {},
   "source": [
    "<br>\n",
    "\n",
    "<a/ id='p4'></a>\n",
    "[Back to top](#top)\n",
    "*** \n",
    "### [35 pts] Problem 4\n",
    "\n",
    "Some claim that the final hours aboard the RMS Titanic were marked by class warfare; others claim it was characterized by male chivalry.  We have the data on survival rates by class and by sex, so let's figure out whether there is evidence for these scenarios.\n",
    "\n",
    "Access the dirty Titanic data in [`titanic_data.csv`](https://piazza.com/class_profile/get_resource/jhaqogsdelf76h/jhz5hca2axb6zw) (linked here) and store it in a Pandas DataFrame. The data contains information pertaining to class status (**Pclass**), survival of passengers (**Survived**), and gender (**Sex**), among others.\n",
    "\n",
    "Please make sure you do **NOT** accidentally use the `clean_titanic_data.csv` data set from the first in-class notebook."
   ]
  },
  {
   "cell_type": "code",
   "execution_count": 16,
   "metadata": {},
   "outputs": [
    {
     "data": {
      "text/html": [
       "<div>\n",
       "<style>\n",
       "    .dataframe thead tr:only-child th {\n",
       "        text-align: right;\n",
       "    }\n",
       "\n",
       "    .dataframe thead th {\n",
       "        text-align: left;\n",
       "    }\n",
       "\n",
       "    .dataframe tbody tr th {\n",
       "        vertical-align: top;\n",
       "    }\n",
       "</style>\n",
       "<table border=\"1\" class=\"dataframe\">\n",
       "  <thead>\n",
       "    <tr style=\"text-align: right;\">\n",
       "      <th></th>\n",
       "      <th>PassengerId</th>\n",
       "      <th>Survived</th>\n",
       "      <th>Pclass</th>\n",
       "      <th>Name</th>\n",
       "      <th>Sex</th>\n",
       "      <th>Age</th>\n",
       "      <th>SibSp</th>\n",
       "      <th>Parch</th>\n",
       "      <th>Ticket</th>\n",
       "      <th>Fare</th>\n",
       "      <th>Cabin</th>\n",
       "      <th>Embarked</th>\n",
       "    </tr>\n",
       "  </thead>\n",
       "  <tbody>\n",
       "    <tr>\n",
       "      <th>0</th>\n",
       "      <td>1</td>\n",
       "      <td>0</td>\n",
       "      <td>3</td>\n",
       "      <td>Braund, Mr. Owen Harris</td>\n",
       "      <td>male</td>\n",
       "      <td>36.0</td>\n",
       "      <td>1</td>\n",
       "      <td>0</td>\n",
       "      <td>A/5 21171</td>\n",
       "      <td>7.2500</td>\n",
       "      <td>NaN</td>\n",
       "      <td>S</td>\n",
       "    </tr>\n",
       "    <tr>\n",
       "      <th>1</th>\n",
       "      <td>2</td>\n",
       "      <td>1</td>\n",
       "      <td>1</td>\n",
       "      <td>Cumings, Mrs. John Bradley (Florence Briggs Th...</td>\n",
       "      <td>female</td>\n",
       "      <td>18.0</td>\n",
       "      <td>1</td>\n",
       "      <td>0</td>\n",
       "      <td>PC 17599</td>\n",
       "      <td>71.2833</td>\n",
       "      <td>C85</td>\n",
       "      <td>C</td>\n",
       "    </tr>\n",
       "    <tr>\n",
       "      <th>2</th>\n",
       "      <td>3</td>\n",
       "      <td>1</td>\n",
       "      <td>3</td>\n",
       "      <td>Heikkinen, Miss. Laina</td>\n",
       "      <td>female</td>\n",
       "      <td>14.0</td>\n",
       "      <td>0</td>\n",
       "      <td>0</td>\n",
       "      <td>STON/O2. 3101282</td>\n",
       "      <td>7.9250</td>\n",
       "      <td>NaN</td>\n",
       "      <td>S</td>\n",
       "    </tr>\n",
       "    <tr>\n",
       "      <th>3</th>\n",
       "      <td>4</td>\n",
       "      <td>1</td>\n",
       "      <td>1</td>\n",
       "      <td>Futrelle, Mrs. Jacques Heath (Lily May Peel)</td>\n",
       "      <td>female</td>\n",
       "      <td>27.0</td>\n",
       "      <td>1</td>\n",
       "      <td>0</td>\n",
       "      <td>113803</td>\n",
       "      <td>53.1000</td>\n",
       "      <td>C123</td>\n",
       "      <td>S</td>\n",
       "    </tr>\n",
       "    <tr>\n",
       "      <th>4</th>\n",
       "      <td>5</td>\n",
       "      <td>0</td>\n",
       "      <td>3</td>\n",
       "      <td>Allen, Mr. William Henry</td>\n",
       "      <td>male</td>\n",
       "      <td>63.0</td>\n",
       "      <td>0</td>\n",
       "      <td>0</td>\n",
       "      <td>373450</td>\n",
       "      <td>8.0500</td>\n",
       "      <td>NaN</td>\n",
       "      <td>S</td>\n",
       "    </tr>\n",
       "  </tbody>\n",
       "</table>\n",
       "</div>"
      ],
      "text/plain": [
       "   PassengerId  Survived  Pclass  \\\n",
       "0            1         0       3   \n",
       "1            2         1       1   \n",
       "2            3         1       3   \n",
       "3            4         1       1   \n",
       "4            5         0       3   \n",
       "\n",
       "                                                Name     Sex   Age  SibSp  \\\n",
       "0                            Braund, Mr. Owen Harris    male  36.0      1   \n",
       "1  Cumings, Mrs. John Bradley (Florence Briggs Th...  female  18.0      1   \n",
       "2                             Heikkinen, Miss. Laina  female  14.0      0   \n",
       "3       Futrelle, Mrs. Jacques Heath (Lily May Peel)  female  27.0      1   \n",
       "4                           Allen, Mr. William Henry    male  63.0      0   \n",
       "\n",
       "   Parch            Ticket     Fare Cabin Embarked  \n",
       "0      0         A/5 21171   7.2500   NaN        S  \n",
       "1      0          PC 17599  71.2833   C85        C  \n",
       "2      0  STON/O2. 3101282   7.9250   NaN        S  \n",
       "3      0            113803  53.1000  C123        S  \n",
       "4      0            373450   8.0500   NaN        S  "
      ]
     },
     "execution_count": 16,
     "metadata": {},
     "output_type": "execute_result"
    }
   ],
   "source": [
    "# Two different paths to the data\n",
    "# Modify the `local path` to wherever it lives on your machine\n",
    "local_path = '../data/titanic_data.csv'\n",
    "web_path = 'https://piazza.com/class_profile/get_resource/jhaqogsdelf76h/jhz5hca2axb6zw'\n",
    "\n",
    "# Select the path that works for you \n",
    "file_path = web_path \n",
    "\n",
    "# Load the data into a DataFrame \n",
    "df = pd.read_csv(file_path)\n",
    "df.head()"
   ]
  },
  {
   "cell_type": "markdown",
   "metadata": {},
   "source": [
    "**Part A**: Consider the two claims: class warfare, and male chivalry. Suppose that class warfare occurred in the final hours aboard the Titanic.  What patterns might you expect to see in the data?  Suppose that male chivalry was widespread during the final hours instead. What patterns might you then expect to see in the data?  Explain both of these hypothesized patterns in words. Are these two hypotheses mutually exclusive or not?"
   ]
  },
  {
   "cell_type": "markdown",
   "metadata": {},
   "source": [
    "Answer:\n",
    "\n",
    "If there was extensive class warfare, then we could expect a higher number of high class people relative to low class people to have survived because the safety of the high class would be prioritized over those of lower classes.\n",
    "\n",
    "If there was extensive male chi"
   ]
  },
  {
   "cell_type": "markdown",
   "metadata": {},
   "source": [
    "**Part B**: Create a clean data set by removing any rows from the DataFrame that are missing values corresponding to **Survived**, **Pclass**, **Age**, or **Sex**. Store the clean data in a DataFrame called dfTitanic. \n",
    "\n",
    "Also, answer these questions and display any relevant codes:\n",
    "1. How many rows were in the original DataFrame?\n",
    "2. How many rows are in the cleaned DataFrame?"
   ]
  },
  {
   "cell_type": "code",
   "execution_count": null,
   "metadata": {
    "collapsed": true
   },
   "outputs": [],
   "source": []
  },
  {
   "cell_type": "markdown",
   "metadata": {},
   "source": [
    "**Part C**: Determine the fraction of survivors from each passenger class. Round your answers to **3 decimal places**."
   ]
  },
  {
   "cell_type": "code",
   "execution_count": null,
   "metadata": {
    "collapsed": true
   },
   "outputs": [],
   "source": []
  },
  {
   "cell_type": "markdown",
   "metadata": {},
   "source": [
    "**Part D**: Compute the fraction of survivors according to class and gender.  Did men in first class or women in third class have a higher survival rate? \n",
    "\n",
    "Note that there are 6 class-gender combinations to report survival fractions for."
   ]
  },
  {
   "cell_type": "code",
   "execution_count": null,
   "metadata": {
    "collapsed": true
   },
   "outputs": [],
   "source": []
  },
  {
   "cell_type": "markdown",
   "metadata": {},
   "source": [
    "**Part E**: How would you characterize the distribution of **AGE**? (By _characterize_ we mean that you should indicate whether the data are unimodal, bimodal, multimodal, symmetric, negatively skewed, positively skewed, etc.)  Make any necessary graphical summaries to justify your conclusion. "
   ]
  },
  {
   "cell_type": "code",
   "execution_count": null,
   "metadata": {
    "collapsed": true
   },
   "outputs": [],
   "source": []
  },
  {
   "cell_type": "markdown",
   "metadata": {},
   "source": [
    "**Part F**: Were the median and mean ages for females who survived higher or lower than for females who did not survive?  "
   ]
  },
  {
   "cell_type": "code",
   "execution_count": null,
   "metadata": {
    "collapsed": true
   },
   "outputs": [],
   "source": []
  },
  {
   "cell_type": "markdown",
   "metadata": {},
   "source": [
    "**Part G**: Do the data suggest class warfare, male chivalry, or some combination of both characteristics in the final hours aboard the Titanic?  Justify your conclusion based on the computations done above, or do any other analysis that you like, but be sure to clearly justify your conclusion. "
   ]
  },
  {
   "cell_type": "code",
   "execution_count": null,
   "metadata": {
    "collapsed": true
   },
   "outputs": [],
   "source": []
  },
  {
   "cell_type": "markdown",
   "metadata": {},
   "source": [
    "---\n",
    "[Back to top](#top)"
   ]
  }
 ],
 "metadata": {
  "kernelspec": {
   "display_name": "Python 3",
   "language": "python",
   "name": "python3"
  },
  "language_info": {
   "codemirror_mode": {
    "name": "ipython",
    "version": 3
   },
   "file_extension": ".py",
   "mimetype": "text/x-python",
   "name": "python",
   "nbconvert_exporter": "python",
   "pygments_lexer": "ipython3",
   "version": "3.6.3"
  }
 },
 "nbformat": 4,
 "nbformat_minor": 2
}
