{
 "cells": [
  {
   "cell_type": "markdown",
   "metadata": {},
   "source": [
    "<a id='top'></a>\n",
    "\n",
    "# CSCI 3022: Intro to Data Science - Summer 2018 Practicum \n",
    "***\n",
    "\n",
    "This practicum is due on Moodle by **11:55 PM on Monday July 23**. Your solutions to theoretical questions should be done in Markdown/MathJax directly below the associated question.  Your solutions to computational questions should include any specified Python code and results as well as written commentary on your conclusions.  \n",
    "\n",
    "**Here are the rules:** \n",
    "\n",
    "1. All work, code and analysis, must be your own. \n",
    "1. You may use your course notes, posted lecture slides, textbooks, in-class notebooks, and homework solutions as resources.  You may also search online for answers to general knowledge questions like the form of a probability distribution function or how to perform a particular operation in Python/Pandas. \n",
    "1. This is meant to be like a coding portion of your final exam. So, I will be much less helpful than I typically am with homework. For example, I will not check answers, help debug your code, and so on.\n",
    "1. If something is left open-ended, it is probably because I intend for you to code it up however you want, and only care about the plots/analysis I see at the end. Feel free to ask clarifying questions though.\n",
    "2. You may **NOT** post to message boards or other online resources asking for help.\n",
    "3. You may **NOT** copy-paste solutions *from anywhere*.\n",
    "4. You may **NOT** collaborate with classmates or anyone else.  \n",
    "5. In short, **your work must be your own**. It really is that simple.\n",
    "\n",
    "Violation of the above rules will result in an immediate academic sanction (*at the very least*, you will receive a 0 on the practicum or an F in the course, depending on severity), and a trip to the Honor Code Council.\n",
    "\n",
    "***\n",
    "\n",
    "**By writing your name below you agree to abide by the rules given above:**\n",
    "\n",
    "**Name**: Tanner Bobak\n",
    "\n",
    "***\n",
    "\n",
    "\n",
    "**NOTES**: \n",
    "\n",
    "- You may not use late days on the practicum nor can you drop your practicum grade. \n",
    "- If you have a question for Tony, post it as a **PRIVATE** message on Piazza.  If I decide that the question is appropriate for the entire class I add it to a Practicum clarifications thread. \n",
    "- Do **NOT** load or use any Python packages that are not available in Anaconda 3.6. \n",
    "- Some problems with code may be autograded.  If we provide a function API **do not** change it.  If we do not provide a function API then you're free to structure your code however you like. \n",
    "- Submit only this Jupyter notebook to Moodle.  Do not compress it using tar, rar, zip, etc. \n",
    "- This should go without saying, but... For any question that asks you to calculate something, you **must show all work to receive credit**. Sparse or nonexistent work will receive sparse or nonexistent credit.\n",
    "\n",
    "---\n",
    "**Shortcuts:**  [Problem 1](#p1) | [Problem 2](#p2) | [Problem 3](#p3) | [Problem 4](#p4)\n",
    "\n",
    "---"
   ]
  },
  {
   "cell_type": "code",
   "execution_count": 26,
   "metadata": {},
   "outputs": [],
   "source": [
    "from scipy import stats\n",
    "import numpy as np \n",
    "import statsmodels.api as sm\n",
    "import pandas as pd\n",
    "import matplotlib.pyplot as plt\n",
    "%matplotlib inline"
   ]
  },
  {
   "cell_type": "markdown",
   "metadata": {},
   "source": [
    "<br>\n",
    "\n",
    "---\n",
    "[Back to top](#top)\n",
    "<a id='p1'></a>\n",
    "\n",
    "### [25 points] Problem 1: CSCI 3022 goes bowling!\n",
    "\n",
    "**Part A:** Build a function `bowling_game_simple` to simulate a **simplified version** of a single game of traditional [10-pin bowling](https://en.wikipedia.org/wiki/Ten-pin_bowling). If you are not familiar with bowling, you are encouraged to watch some videos on YouTube. Even better, you can go to the UMC and actually go bowling!\n",
    "\n",
    "Here is a summary of the simplified rules for the first part of this problem:\n",
    "* There are 10 frames (like rounds).\n",
    "* You get 2 rolls in each frame.\n",
    "* Each frame begins with 10 pins.\n",
    "* It is possible to knock down zero pins (a \"gutter ball\" - womp womp).\n",
    "* Your score for each frame is the total number of pins knocked down by your two rolls.\n",
    "* If you knock all 10 pins down with your first roll, that is called a \"strike\" and you do not get a second roll for that frame.\n",
    "* If you knock all 10 pins down but require both rolls in a frame, that is called a \"spare\".\n",
    "* Assume that the probability of knocking down a single pin is a parameter $p$.\n",
    "    \n",
    "You should use an appropriate distribution that you have learned to model the knocking down of pins for each roll. In Markdown/MathJax, you must name and fully justify your choice of distribution and other modeling choices. Note that the parameter(s) of this distribution might change, depending on the current sitution (i.e., how many pins are left). Simplifications are okay, as long as you mention and justify them."
   ]
  },
  {
   "cell_type": "markdown",
   "metadata": {},
   "source": [
    "---\n",
    "\n",
    "The simplified bowling situation is best described by a binomial distribution of the form\n",
    "\n",
    "$$\n",
    "P_X (k) = \\begin{pmatrix} n \\\\ k \\end{pmatrix} p^k (1-p)^{n-k}\n",
    "$$\n",
    "\n",
    "where $X$ is a random variable describing the number of pins that are knocked down. $n$ is the total number of pins left. For the first roll, this will always be 10 pins. Subsequent rolls will have less than or equal to this value. $p$ is the probability of knocking down a single pin. Finally, $k$ is the number of pins that are knocked down, implying $P_X (k)$ is the probability of knocking down $k$ pins. $k$ assumes a value from 0 to $n$. \n",
    "\n",
    "A binomial distribution is most appropriate to describe this situation because we are interested in modeling the number of pins that are knocked down (\"successes\") out of the total number of pins (\"trials\"). This model does ignore some very major features of the game, however. First, the trajectory of the ball would obviously impact the probability of some pins being knocked down relative to the others. Next, each pin being knocked down is not truly independent from the others. One pin falling can affect the outcome of the others falling. Additionally, it is not totally reasonable to assume that $p$ is an unchanging parameter. For example, the probability of knocking down a pin on the first throw is far different than if the pins were in a split configuration. \n",
    "\n",
    "Despite these drawbacks, the binomial distribution should reasonably approximate this simplified game of bowling, especially for the first throw of a frame where the pin configuration would always be the same."
   ]
  },
  {
   "cell_type": "code",
   "execution_count": 166,
   "metadata": {},
   "outputs": [
    {
     "name": "stdout",
     "output_type": "stream",
     "text": [
      "[99, 95, 99, 96, 95, 97, 95, 95, 95, 95]\n"
     ]
    }
   ],
   "source": [
    "def bowling_game_simple(p, frames=10, rolls_per_frame=2, pin_number=10):\n",
    "\n",
    "    score = 0\n",
    "    for frame in range(0,frames):\n",
    "        pins = pin_number\n",
    "        for roll in range(0,rolls_per_frame):\n",
    "            hits = stats.binom.rvs(pins, p)\n",
    "            pins -= hits\n",
    "            if hits == pin_number: \n",
    "                break\n",
    "        score += (pin_number - pins)\n",
    "    \n",
    "    return score\n",
    "\n",
    "\n",
    "some_games = [bowling_game_simple(0.8) for _ in range(0,10)]\n",
    "print(some_games)"
   ]
  },
  {
   "cell_type": "markdown",
   "metadata": {},
   "source": [
    "---\n",
    "\n",
    "**Part B:** Simulate 1,000 games of bowling with $p=0.5$ and plot a density histogram of the resulting total scores. Be sure to label your axes.\n",
    "\n",
    "What is the empirical expected value of total score from your simulations? Explain fully why this does or does not match what you would expect."
   ]
  },
  {
   "cell_type": "code",
   "execution_count": 167,
   "metadata": {
    "scrolled": false
   },
   "outputs": [
    {
     "data": {
      "image/png": "[encoded data removed]",
      "text/plain": [
       "<matplotlib.figure.Figure at 0x7fa24ec15550>"
      ]
     },
     "metadata": {},
     "output_type": "display_data"
    }
   ],
   "source": [
    "# Borrow my super duper histogram plotter from HWMK06\n",
    "def tanner_flavored_histogram(data_arr, lower, upper, bin_width, density=True, fwidth=1, \\\n",
    "                              legend_labels=(), xlabel='x', ylabel='Frequency', title='Histogram', \\\n",
    "                              tick_skip=1, dtype='float'):\n",
    "    \"\"\"\n",
    "    I really don't like the default histogram plotting so I made a better version.\n",
    "    \n",
    "    data_arr: vector of data sets you wish to plot.\n",
    "    lower: lower bound to plot\n",
    "    upper: upper bound to plot\n",
    "    bin_width: width of each bin\n",
    "    density: make it a density plot or nah\n",
    "    fwidth: width that the bars take up within a bin\n",
    "    legend_labels: legend bits\n",
    "    \n",
    "    The rest is self explanatory\n",
    "    \n",
    "    \"\"\"\n",
    "    plt.figure(figsize=(15,10))\n",
    "    n_bins = int((upper-lower)/bin_width)\n",
    "    \n",
    "    nelem = np.shape(data_arr)[0]\n",
    "    for elem in range(0, nelem):\n",
    "        data = data_arr[elem]\n",
    "        hist, edges = np.histogram(data, bins=n_bins, range=(lower,upper))\n",
    "        histd = hist\n",
    "        if density:\n",
    "            histd = hist/np.sum(hist)\n",
    "            \n",
    "        left_edges = edges[:(len(edges)-1)]\n",
    "        filled_width = bin_width * fwidth\n",
    "        individual_width = filled_width/nelem\n",
    "        bins = left_edges + (bin_width-filled_width/2) + individual_width*elem\n",
    "        \n",
    "        plt.bar(bins, histd, width=individual_width, align='edge')\n",
    "        \n",
    "    plt.legend(legend_labels)\n",
    "    plt.grid()\n",
    "    plt.gca().set_axisbelow(True)\n",
    "    plt.xlabel(xlabel)\n",
    "    plt.ylabel(ylabel)\n",
    "    plt.title(title)\n",
    "    plt.xticks((edges+bin_width/2)[::tick_skip], (edges.astype(dtype).astype('str'))[::tick_skip])\n",
    "    plt.xlim((lower,upper))\n",
    "    plt.show();\n",
    "    \n",
    "    \n",
    "# Perform Simulations\n",
    "n_sims = 1000\n",
    "sim_games = [bowling_game_simple(0.5) for _ in range(0,n_sims)]\n",
    "tanner_flavored_histogram([sim_games], 0, 150, 5, density=False, fwidth=0.8, \\\n",
    "                          xlabel='Score', ylabel='Frequency',  \\\n",
    "                          title='Frequency of Scores in Simplified Bowling', tick_skip=2, dtype='int')"
   ]
  },
  {
   "cell_type": "code",
   "execution_count": 98,
   "metadata": {},
   "outputs": [
    {
     "name": "stdout",
     "output_type": "stream",
     "text": [
      "Empirical expected value of simplified bowling: 75.053 points\n"
     ]
    }
   ],
   "source": [
    "# Find the empirical mean\n",
    "print(\"Empirical expected value of simplified bowling: {:0.3f} points\".format(np.mean(sim_games)))"
   ]
  },
  {
   "cell_type": "markdown",
   "metadata": {},
   "source": [
    "Empirically, the expected score for a simplified bowling game is about 75 points. This value is reasonable because the expected value of a binomial distribution is $np$. For the parameters given, this evaluates to 5 points for the first frame of each game.  For the second roll, there would only be about $p$ times as many pins as the first roll. For the given value of $p=0.5$, this means there are only 5 pins left to knock down, and it would be expected that half of those would be knocked down. Therefore, about 7.5 pins are knocked over each frame. Taken across all ten frames, this means that it should be expected that 75 points should be scored, which is what was observed."
   ]
  },
  {
   "cell_type": "markdown",
   "metadata": {},
   "source": [
    "---\n",
    "\n",
    "**Part C:** Build a function `bowling_game` to simulate a more realistic version of a single game of traditional [10-pin bowling](https://en.wikipedia.org/wiki/Ten-pin_bowling).  Here are the additional [rules](https://en.wikipedia.org/wiki/Ten-pin_bowling#Rules_of_play) to add:\n",
    "* *Generally*, your score for each frame is the total number of pins knocked down by your two rolls.\n",
    "* If you get a strike, then:\n",
    "    * you do not get a second roll for that frame, and\n",
    "    * your score for that frame is the 10 from what you just knocked down _plus_ the total number of pins you knock down on your next 2 rolls.\n",
    "* If you get a spare, then your score for that frame is the 10 from what you just knocked down _plus_ the number of pins you knock down on your next roll.\n",
    "* The tenth frame has a few of special rules too:\n",
    "    * If you get a strike on your first roll, then you are awarded two extra rolls.\n",
    "    * If you get a spare on your second roll, then you are awarded one extra roll.\n",
    "    * Your score for the tenth frame is simply the total number of pins knocked down.\n",
    "    \n",
    "An example bowling game and the total score will be provided in a \"Practicum Q&A\" Piazza post."
   ]
  },
  {
   "cell_type": "code",
   "execution_count": 76,
   "metadata": {},
   "outputs": [
    {
     "name": "stdout",
     "output_type": "stream",
     "text": [
      "_____________________________________________________________________________________________________________\n",
      "Frame #:        |   1    |   2    |   3    |   4    |   5    |   6    |   7    |   8    |   9    |     10      \n",
      "-------------------------------------------------------------------------------------------------------------\n",
      "Shot Outcome:   | 8   /  | 8   /  | 9   /  | X      | 9   /  | 8   /  | 9   /  | 6   1  | 7   2  | 8   /   7  \n",
      "-------------------------------------------------------------------------------------------------------------\n",
      "Score:          |   18   |   37   |   57   |   85   |  103   |  122   |  138   |  145   |  154   |     171     \n",
      "‾‾‾‾‾‾‾‾‾‾‾‾‾‾‾‾‾‾‾‾‾‾‾‾‾‾‾‾‾‾‾‾‾‾‾‾‾‾‾‾‾‾‾‾‾‾‾‾‾‾‾‾‾‾‾‾‾‾‾‾‾‾‾‾‾‾‾‾‾‾‾‾‾‾‾‾‾‾‾‾‾‾‾‾‾‾‾‾‾‾‾‾‾‾‾‾‾‾‾‾‾‾‾‾‾‾‾‾‾\n"
     ]
    }
   ],
   "source": [
    "def get_pins(shot_type, idx, pin_number=10):\n",
    "    if shot_type[idx] == -2 or shot_type[idx] == -1:\n",
    "        return pin_number\n",
    "    elif shot_type[idx] >= 0:\n",
    "        return shot_type[idx]\n",
    "    elif shot_type[idx] == -3:\n",
    "        return get_pins(shot_type, idx+1, pin_number)\n",
    "    else:\n",
    "        return 0\n",
    "\n",
    "\n",
    "def print_game(shot_type, scores=None, rolls_per_frame=2, num_pad=3):\n",
    "    frastr = \"Frame #:        |\"\n",
    "    outstr = \"Shot Outcome:   |\"\n",
    "    scostr = \"Score:          |\"\n",
    "    if scores is None:\n",
    "        scostr = \"\"\n",
    "    frame_padding = (num_pad+2)*rolls_per_frame - 2\n",
    "    for roll in range(0,len(shot_type)):\n",
    "        if shot_type[roll] > 0:\n",
    "            outstr += (\" {:^\" + str(num_pad) + \"d} \").format(int(shot_type[roll]))\n",
    "        elif shot_type[roll] == 0:\n",
    "            outstr += (\"{:^\" + str(num_pad+2) + \"s}\").format(\"-\")\n",
    "        elif shot_type[roll] == -1:\n",
    "            outstr += (\"{:^\" + str(num_pad+2) + \"s}\").format(\"/\")\n",
    "        elif shot_type[roll] == -2:\n",
    "            outstr += (\"{:^\" + str(num_pad+2) + \"s}\").format(\"X\")\n",
    "        elif shot_type[roll] == -3:\n",
    "            outstr += \" \" * (num_pad+2)\n",
    "        \n",
    "        last_frame = (roll > len(shot_type)-(rolls_per_frame+1))\n",
    "        if (roll+1) % rolls_per_frame == 0 and not last_frame:\n",
    "            frastr += (\" {:^\" + str(frame_padding) + \"d} |\").format(int(1 + roll // rolls_per_frame))\n",
    "            outstr += \"|\"\n",
    "            if scores is not None:\n",
    "                scostr += (\" {:^\" + str(frame_padding) + \"d} |\").format(int(np.sum(scores[:((roll // rolls_per_frame)+1)])))\n",
    "        elif (roll+1) % rolls_per_frame == 0 and last_frame:\n",
    "            frastr += (\" {:^\" + str(frame_padding+5) + \"d} \").format(int(1 + roll // rolls_per_frame))\n",
    "            if scores is not None:\n",
    "                scostr += (\" {:^\" + str(frame_padding+5) + \"d} \").format(int(np.sum(scores)))\n",
    "    \n",
    "    print('_' * (len(outstr)-1))\n",
    "    print(frastr)\n",
    "    print('-' * (len(outstr)-1))\n",
    "    print(outstr)\n",
    "    if scores is not None:\n",
    "        print('-' * (len(outstr)-1))\n",
    "        print(scostr)\n",
    "    print('\\u203e' * (len(outstr)-1))\n",
    "\n",
    "    \n",
    "def bowling_game(p, frames=10, rolls_per_frame=2, pin_number=10, print_results=False):\n",
    "\n",
    "    \"\"\"\n",
    "    This isn't your average everyday bowling. This is...\n",
    "    \n",
    "    ~*~ A D V A N C E D   B O W L I N G ~*~\n",
    "    \n",
    "    Has advanced support for any number of frames, pins, and any number of rolls per frame\n",
    "    greater than 1. Also can be configured to print formatted results of the game containing\n",
    "    the frame number, outcome of a roll, and running score.\n",
    "    \n",
    "    Arguments:\n",
    "    p: Probability of knocking down a single pin. Binomial distribution simulates probability\n",
    "       of knocking down different numbers of pins.\n",
    "    frames: Number of frames.\n",
    "    rolls_per_frame: Times the \"ball is rolled\" during each frame. Must be >= 2\n",
    "    pin_number: Total pins that can be knocked over.\n",
    "    print_results: Should the game's outcome be printed in a formatted block?\n",
    "    \n",
    "    Returns:\n",
    "    score: Total game score.\n",
    "    \"\"\"\n",
    "    \n",
    "    assert rolls_per_frame > 1, \"Need at least 2 rolls per frame.\"\n",
    "    assert frames > 0, \"Frames must be positive.\"\n",
    "    assert pin_number > 0, \"Pins must be positive.\"\n",
    "    \n",
    "    total_rolls = frames*rolls_per_frame+1\n",
    "    shot_type = np.zeros(total_rolls) # Track shot type, 0-9 is normal, -1 is spare, -2 is strike, -3 is no roll (after strike)\n",
    "    scores = np.zeros(frames)\n",
    "    \n",
    "    frame = 0\n",
    "    while frame < frames:\n",
    "        pins = pin_number\n",
    "        last_frame = (frame == frames-1)\n",
    "        rolls_this_frame = rolls_per_frame if not last_frame else (rolls_per_frame + 1)\n",
    "        for roll in range(0,rolls_this_frame):\n",
    "            roll_idx = frame*rolls_per_frame + roll\n",
    "            next_frame_idx = (frame+1)*rolls_per_frame\n",
    "            hits = stats.binom.rvs(pins, p)\n",
    "            pins -= hits\n",
    "            if pins == 0:\n",
    "                if not last_frame:\n",
    "                    if roll == 0: # Strike\n",
    "                        shot_type[roll_idx] = -2\n",
    "                        shot_type[(roll_idx+1):(next_frame_idx+1)] = -3\n",
    "                    else: # Spare\n",
    "                        shot_type[roll_idx] = -1\n",
    "                        if roll_idx + 1 <= next_frame_idx:\n",
    "                            shot_type[(roll_idx+1):(next_frame_idx+1)] = -3\n",
    "                    break\n",
    "                else:\n",
    "                    if hits == pin_number: # Strike\n",
    "                        shot_type[roll_idx] = -2\n",
    "                    else: # Spare\n",
    "                        shot_type[roll_idx] = -1\n",
    "                    pins = pin_number  \n",
    "            else: # Normal\n",
    "                shot_type[roll_idx] = hits\n",
    "                if last_frame and not shot_type[roll_idx-1] == -2 and roll == (rolls_per_frame-1):\n",
    "                    break\n",
    "                \n",
    "        frame += 1\n",
    "        \n",
    "    # Calculate score\n",
    "    for frame in range(0, frames):\n",
    "        score = 0\n",
    "        last_frame = (frame == frames-1)\n",
    "        rolls_this_frame = rolls_per_frame if not last_frame else (rolls_per_frame + 1)\n",
    "        for roll in range(0,rolls_this_frame):\n",
    "            roll_idx = frame*rolls_per_frame + roll\n",
    "            stype = shot_type[roll_idx]\n",
    "            if not last_frame:\n",
    "                if stype == -2: # strike\n",
    "                    score = pin_number + get_pins(shot_type, roll_idx+1, pin_number) + \\\n",
    "                            get_pins(shot_type, roll_idx+2, pin_number)\n",
    "                    break\n",
    "                elif stype == -1: # spare\n",
    "                    score += (pin_number - get_pins(shot_type, roll_idx-1, pin_number)) + \\\n",
    "                             get_pins(shot_type, roll_idx+1, pin_number)\n",
    "                    break\n",
    "                elif stype >= 0: # other\n",
    "                    score += shot_type[roll_idx]\n",
    "            else:\n",
    "                if stype == -2: # strike\n",
    "                    score += pin_number\n",
    "                elif stype == -1: # spare\n",
    "                    score += (pin_number - get_pins(shot_type, roll_idx-1, pin_number))\n",
    "                elif stype >= 0: # other\n",
    "                    score += shot_type[roll_idx]\n",
    "        scores[frame] = score\n",
    "        \n",
    "    if print_results:  \n",
    "        print_game(shot_type, scores=scores, rolls_per_frame=rolls_per_frame, num_pad=2)\n",
    "    \n",
    "    return np.sum(scores)\n",
    "\n",
    "\n",
    "bowling_game(0.8, print_results=True);"
   ]
  },
  {
   "cell_type": "markdown",
   "metadata": {},
   "source": [
    "**Part D:** Use your `bowling_game` function to simulate 1,000 games of more realistic bowling with $p=0.5$. Plot a density histogram of the scores. Compare the distributions with and without the strike, spare and tenth frame bonuses using concepts from this class. That is, compare your results from Part B with the results here. Write a few sentences commenting on any key differences you see."
   ]
  },
  {
   "cell_type": "code",
   "execution_count": 100,
   "metadata": {},
   "outputs": [
    {
     "data": {
      "image/png": "[encoded data removed]",
      "text/plain": [
       "<matplotlib.figure.Figure at 0x7f72c60e34a8>"
      ]
     },
     "metadata": {},
     "output_type": "display_data"
    }
   ],
   "source": [
    "# Perform Simulations\n",
    "n_sims = 1000\n",
    "sim_games_normal = [bowling_game(0.5) for _ in range(0,n_sims)]\n",
    "tanner_flavored_histogram([sim_games,sim_games_normal], 0, 150, 5, density=False, fwidth=0.8, \\\n",
    "                          xlabel='Score', ylabel='Frequency', legend_labels=(\"Simple\",\"Normal\"), \\\n",
    "                          title='Frequency of Scores in Simple vs. Normal Bowling', tick_skip=2, dtype='int')"
   ]
  },
  {
   "cell_type": "code",
   "execution_count": 113,
   "metadata": {},
   "outputs": [
    {
     "name": "stdout",
     "output_type": "stream",
     "text": [
      "Empirical expected value of simple bowling: 75.053 points\n",
      "Empirical expected value of normal bowling: 78.112 points\n",
      "Empirical variance of simple bowling: 20.355 points\n",
      "Empirical variance of normal bowling: 52.764 points\n"
     ]
    }
   ],
   "source": [
    "# Find some stats\n",
    "print(\"Empirical expected value of simple bowling: {:0.3f} points\".format(np.mean(sim_games)))\n",
    "print(\"Empirical expected value of normal bowling: {:0.3f} points\".format(np.mean(sim_games_normal)))\n",
    "\n",
    "print(\"Empirical variance of simple bowling: {:0.3f} points\".format(np.var(sim_games, ddof=1)))\n",
    "print(\"Empirical variance of normal bowling: {:0.3f} points\".format(np.var(sim_games_normal, ddof=1)))"
   ]
  },
  {
   "cell_type": "markdown",
   "metadata": {},
   "source": [
    "As seen in the histogram above, the distribution of scores of a normal bowling game that accounts for the effects of strikes, spares, and a tenth frame is shifted slightly from the simplified model of the bowling game. Notably, the normal game's distribution has a slightly higher mean, a higher variance, and is positively skewed relative to the approximately symmetric distribution of the simplified game. In addition, there are some scores in the normal bowling distribution that exceed 100 points. Scores above 100 would be impossible in the simplified bowling game because the simplified bowling has no strikes, spares, or final frame effects. It is also because of these effects that the mean is pulled higher. "
   ]
  },
  {
   "cell_type": "markdown",
   "metadata": {},
   "source": [
    "---\n",
    "\n",
    "**Part E:** Compare the effects of the strike, spare and 10th frame bonuses for a better bowler, with $p=0.75$. Include any new simulations, figures and/or statistics that you think are relevant. Write a few sentences to comment on any differences you notice."
   ]
  },
  {
   "cell_type": "code",
   "execution_count": 115,
   "metadata": {},
   "outputs": [
    {
     "data": {
      "image/png": "[encoded data removed]",
      "text/plain": [
       "<matplotlib.figure.Figure at 0x7f72c5c1ee80>"
      ]
     },
     "metadata": {},
     "output_type": "display_data"
    }
   ],
   "source": [
    "# Simulate 1,000 games for both the simple bowling and normal bowling.\n",
    "n_sims = 1000\n",
    "p = 0.75\n",
    "better_sim_games = [bowling_game_simple(p) for _ in range(0,n_sims)]\n",
    "better_sim_games_normal = [bowling_game(p) for _ in range(0,n_sims)]\n",
    "tanner_flavored_histogram([better_sim_games,better_sim_games_normal], 0, 220, 5, density=False, fwidth=0.8, \\\n",
    "                          xlabel='Score', ylabel='Frequency', legend_labels=(\"Simple\",\"Normal\"), \\\n",
    "                          title='Frequency of Scores in Simplified vs. Normal Bowling for a Better Bowler', \\\n",
    "                          tick_skip=2, dtype='int')"
   ]
  },
  {
   "cell_type": "code",
   "execution_count": 116,
   "metadata": {},
   "outputs": [
    {
     "name": "stdout",
     "output_type": "stream",
     "text": [
      "Empirical expected value of simple bowling: 93.901 points\n",
      "Empirical expected value of normal bowling: 136.457 points\n",
      "Empirical variance of simple bowling: 5.981 points\n",
      "Empirical variance of normal bowling: 285.560 points\n"
     ]
    }
   ],
   "source": [
    "# Find some stats\n",
    "print(\"Empirical expected value of simple bowling: {:0.3f} points\".format(np.mean(better_sim_games)))\n",
    "print(\"Empirical expected value of normal bowling: {:0.3f} points\".format(np.mean(better_sim_games_normal)))\n",
    "\n",
    "print(\"Empirical variance of simple bowling: {:0.3f} points\".format(np.var(better_sim_games, ddof=1)))\n",
    "print(\"Empirical variance of normal bowling: {:0.3f} points\".format(np.var(better_sim_games_normal, ddof=1)))"
   ]
  },
  {
   "cell_type": "markdown",
   "metadata": {},
   "source": [
    "With a better bowler, the effects of strikes, spares, and the tenth frame are much more exaggerated. There are a few key obeservations that can be made.\n",
    "\n",
    "First, the maximum score that can be achieved in the simplified model is observed. No scores over 100 are found in the simple model, and the small blue bar that appears greater than 100 in the above histogram is an merely an artifact that bins are inclusive on the lower end and exclusive on the upper end. The value 100 is therefore included in the bin over the interval $[100,105)$. \n",
    "\n",
    "Next, the spread of the scores in the normal game is much more evident. The variance of the scores in the normal game is 50 to 60 times that of the simplified game.\n",
    "\n",
    "Finally, the mean score for the normal bowling game is significantly higher than for a simple bowling game when a better bowler is playing."
   ]
  },
  {
   "cell_type": "markdown",
   "metadata": {},
   "source": [
    "<br>\n",
    "\n",
    "---\n",
    "[Back to top](#top)\n",
    "<a id='p2'></a>\n",
    "\n",
    "### [25 points] Problem 2: Absenteeism at work\n",
    "\n",
    "The data set [`Absenteeism_at_work.csv`](https://piazza.com/class_profile/get_resource/jhaqogsdelf76h/jjd2ujdkm674tf) (linked here, and on Piazza) examines a variety of factors surrounding employees at a courier in Brazil between 2007 and 2010. The data include characteristics of the employees like education, age, number of children and pets, and so on, as well as the amount of time absent from work (hours) each occurrence. A file describing the data set is available from the UC Irvine repository, as well as [linked on Piazza](https://piazza.com/class_profile/get_resource/jhaqogsdelf76h/jjd2uj0fzds4t9) under Resources, alongside the data set.\n",
    "\n",
    "---\n",
    "\n",
    "**Part A**:  Load the data set `Absenteeism_at_work.csv` as a Pandas data frame and use Pandas rename all of the columns to concise, descriptive, single-word column titles. Use Pandas built-in methods to display the first few rows and the column titles of your new and improved data frame."
   ]
  },
  {
   "cell_type": "code",
   "execution_count": 2,
   "metadata": {
    "scrolled": false
   },
   "outputs": [
    {
     "data": {
      "text/html": [
       "<div>\n",
       "<style scoped>\n",
       "    .dataframe tbody tr th:only-of-type {\n",
       "        vertical-align: middle;\n",
       "    }\n",
       "\n",
       "    .dataframe tbody tr th {\n",
       "        vertical-align: top;\n",
       "    }\n",
       "\n",
       "    .dataframe thead th {\n",
       "        text-align: right;\n",
       "    }\n",
       "</style>\n",
       "<table border=\"1\" class=\"dataframe\">\n",
       "  <thead>\n",
       "    <tr style=\"text-align: right;\">\n",
       "      <th></th>\n",
       "      <th>ID</th>\n",
       "      <th>Reason</th>\n",
       "      <th>Month</th>\n",
       "      <th>Day</th>\n",
       "      <th>Season</th>\n",
       "      <th>Trans_$</th>\n",
       "      <th>Distance</th>\n",
       "      <th>Service</th>\n",
       "      <th>Age</th>\n",
       "      <th>Workload</th>\n",
       "      <th>...</th>\n",
       "      <th>Discipline</th>\n",
       "      <th>Education</th>\n",
       "      <th>Son</th>\n",
       "      <th>Drink</th>\n",
       "      <th>Smoke</th>\n",
       "      <th>Pet</th>\n",
       "      <th>Weight</th>\n",
       "      <th>Height</th>\n",
       "      <th>BMI</th>\n",
       "      <th>Absent</th>\n",
       "    </tr>\n",
       "  </thead>\n",
       "  <tbody>\n",
       "    <tr>\n",
       "      <th>0</th>\n",
       "      <td>11</td>\n",
       "      <td>26</td>\n",
       "      <td>7</td>\n",
       "      <td>3</td>\n",
       "      <td>1</td>\n",
       "      <td>289</td>\n",
       "      <td>36</td>\n",
       "      <td>13</td>\n",
       "      <td>33</td>\n",
       "      <td>239.554</td>\n",
       "      <td>...</td>\n",
       "      <td>0</td>\n",
       "      <td>1</td>\n",
       "      <td>2</td>\n",
       "      <td>1</td>\n",
       "      <td>0</td>\n",
       "      <td>1</td>\n",
       "      <td>90</td>\n",
       "      <td>172</td>\n",
       "      <td>30</td>\n",
       "      <td>4</td>\n",
       "    </tr>\n",
       "    <tr>\n",
       "      <th>1</th>\n",
       "      <td>36</td>\n",
       "      <td>0</td>\n",
       "      <td>7</td>\n",
       "      <td>3</td>\n",
       "      <td>1</td>\n",
       "      <td>118</td>\n",
       "      <td>13</td>\n",
       "      <td>18</td>\n",
       "      <td>50</td>\n",
       "      <td>239.554</td>\n",
       "      <td>...</td>\n",
       "      <td>1</td>\n",
       "      <td>1</td>\n",
       "      <td>1</td>\n",
       "      <td>1</td>\n",
       "      <td>0</td>\n",
       "      <td>0</td>\n",
       "      <td>98</td>\n",
       "      <td>178</td>\n",
       "      <td>31</td>\n",
       "      <td>0</td>\n",
       "    </tr>\n",
       "    <tr>\n",
       "      <th>2</th>\n",
       "      <td>3</td>\n",
       "      <td>23</td>\n",
       "      <td>7</td>\n",
       "      <td>4</td>\n",
       "      <td>1</td>\n",
       "      <td>179</td>\n",
       "      <td>51</td>\n",
       "      <td>18</td>\n",
       "      <td>38</td>\n",
       "      <td>239.554</td>\n",
       "      <td>...</td>\n",
       "      <td>0</td>\n",
       "      <td>1</td>\n",
       "      <td>0</td>\n",
       "      <td>1</td>\n",
       "      <td>0</td>\n",
       "      <td>0</td>\n",
       "      <td>89</td>\n",
       "      <td>170</td>\n",
       "      <td>31</td>\n",
       "      <td>2</td>\n",
       "    </tr>\n",
       "    <tr>\n",
       "      <th>3</th>\n",
       "      <td>7</td>\n",
       "      <td>7</td>\n",
       "      <td>7</td>\n",
       "      <td>5</td>\n",
       "      <td>1</td>\n",
       "      <td>279</td>\n",
       "      <td>5</td>\n",
       "      <td>14</td>\n",
       "      <td>39</td>\n",
       "      <td>239.554</td>\n",
       "      <td>...</td>\n",
       "      <td>0</td>\n",
       "      <td>1</td>\n",
       "      <td>2</td>\n",
       "      <td>1</td>\n",
       "      <td>1</td>\n",
       "      <td>0</td>\n",
       "      <td>68</td>\n",
       "      <td>168</td>\n",
       "      <td>24</td>\n",
       "      <td>4</td>\n",
       "    </tr>\n",
       "    <tr>\n",
       "      <th>4</th>\n",
       "      <td>11</td>\n",
       "      <td>23</td>\n",
       "      <td>7</td>\n",
       "      <td>5</td>\n",
       "      <td>1</td>\n",
       "      <td>289</td>\n",
       "      <td>36</td>\n",
       "      <td>13</td>\n",
       "      <td>33</td>\n",
       "      <td>239.554</td>\n",
       "      <td>...</td>\n",
       "      <td>0</td>\n",
       "      <td>1</td>\n",
       "      <td>2</td>\n",
       "      <td>1</td>\n",
       "      <td>0</td>\n",
       "      <td>1</td>\n",
       "      <td>90</td>\n",
       "      <td>172</td>\n",
       "      <td>30</td>\n",
       "      <td>2</td>\n",
       "    </tr>\n",
       "  </tbody>\n",
       "</table>\n",
       "<p>5 rows × 21 columns</p>\n",
       "</div>"
      ],
      "text/plain": [
       "   ID  Reason  Month  Day  Season  Trans_$  Distance  Service  Age  Workload  \\\n",
       "0  11      26      7    3       1      289        36       13   33   239.554   \n",
       "1  36       0      7    3       1      118        13       18   50   239.554   \n",
       "2   3      23      7    4       1      179        51       18   38   239.554   \n",
       "3   7       7      7    5       1      279         5       14   39   239.554   \n",
       "4  11      23      7    5       1      289        36       13   33   239.554   \n",
       "\n",
       "    ...    Discipline  Education  Son  Drink  Smoke  Pet  Weight  Height  BMI  \\\n",
       "0   ...             0          1    2      1      0    1      90     172   30   \n",
       "1   ...             1          1    1      1      0    0      98     178   31   \n",
       "2   ...             0          1    0      1      0    0      89     170   31   \n",
       "3   ...             0          1    2      1      1    0      68     168   24   \n",
       "4   ...             0          1    2      1      0    1      90     172   30   \n",
       "\n",
       "   Absent  \n",
       "0       4  \n",
       "1       0  \n",
       "2       2  \n",
       "3       4  \n",
       "4       2  \n",
       "\n",
       "[5 rows x 21 columns]"
      ]
     },
     "execution_count": 2,
     "metadata": {},
     "output_type": "execute_result"
    }
   ],
   "source": [
    "df = pd.read_csv(\"https://piazza.com/class_profile/get_resource/jhaqogsdelf76h/jjd2ujdkm674tf\", sep=';')\n",
    "df.columns = [\"ID\", \"Reason\", \"Month\", \"Day\", \"Season\", \"Trans_$\", \"Distance\", \"Service\", \"Age\", \"Workload\", \"Target\", \\\n",
    "              \"Discipline\", \"Education\", \"Son\", \"Drink\", \"Smoke\", \"Pet\", \"Weight\", \"Height\", \"BMI\", \"Absent\"]\n",
    "df.head()"
   ]
  },
  {
   "cell_type": "markdown",
   "metadata": {},
   "source": [
    "---\n",
    "\n",
    "**Part B**: Is any one day of the week more/less likely for employees to be absent at work on that day? Fully justify your response using statistical techniques from this class."
   ]
  },
  {
   "cell_type": "code",
   "execution_count": 3,
   "metadata": {},
   "outputs": [
    {
     "data": {
      "image/png": "[encoded data removed]",
      "text/plain": [
       "<matplotlib.figure.Figure at 0x7fa27aa210b8>"
      ]
     },
     "metadata": {},
     "output_type": "display_data"
    }
   ],
   "source": [
    "ax = df.hist(column=\"Day\", bins=5, rwidth=0.8, figsize=(15,10))[0,0];\n",
    "ax.set_title(\"Absence Frequency by Day\");\n",
    "ax.set_ylabel(\"Frequency\");\n",
    "ax.set_xlabel(\"Day of the Week\");\n",
    "ax.set_axisbelow(True)\n",
    "ax.set_xticks(np.linspace(2,6,6) + 0.4);\n",
    "ax.set_xlim(2,6);\n",
    "ax.set_xticklabels([\"Monday\", \"Tuesday\", \"Wednesday\", \"Thursday\", \"Friday\"]);"
   ]
  },
  {
   "cell_type": "markdown",
   "metadata": {},
   "source": [
    "This histogram is a little misleading because there is almost a 40 absence difference between Monday and Thursday, but it is a good starting point. It looks like Thursday may have a lower absence rate upon first inspection.\n",
    "\n",
    "Ultimately, it is desired to determine if the absence rate for any one day is significantly different from the average absence rate. In other words, is the proportion of absences on one day different from the mean proportion of absences?\n",
    "\n",
    "To test this, the the null and alternative hypotheses are formalized like so.\n",
    "\n",
    "$$\n",
    "H_0 : \\, p_i = p \\\\\n",
    "H_1 : \\, p_i \\neq p\n",
    "$$\n",
    "\n",
    "where $p_i$ is the proportion of weekly absences that happen on a given day and $p$ is the expected proportion absences on a given day. Here, $p=0.2$ because there are five days of the work week and $1/5 = 0.2$. \n",
    "\n",
    "Finally, a two tailed p-test at the $\\alpha=0.05$ significance level to determine if any given day has a significantly lower or higher absence rate. Five total tests will need to be performed, one for each day. Calculations are below."
   ]
  },
  {
   "cell_type": "code",
   "execution_count": 24,
   "metadata": {},
   "outputs": [
    {
     "name": "stdout",
     "output_type": "stream",
     "text": [
      "Day 2: Absence Proportion=0.2176, Z=1.1947, p-value=0.2322. Reject Null: False\n",
      "Day 3: Absence Proportion=0.2081, Z=0.5514, p-value=0.5814. Reject Null: False\n",
      "Day 4: Absence Proportion=0.2108, Z=0.7352, p-value=0.4622. Reject Null: False\n",
      "Day 5: Absence Proportion=0.1689, Z=-2.1137, p-value=0.0345. Reject Null: True\n",
      "Day 6: Absence Proportion=0.1946, Z=-0.3676, p-value=0.7132. Reject Null: False\n"
     ]
    }
   ],
   "source": [
    "alpha = 0.05\n",
    "p = 0.2\n",
    "\n",
    "n = len(df)\n",
    "\n",
    "for day in range(2,7):\n",
    "    pi = len(df[df[\"Day\"] == day])/n\n",
    "    z = (pi - p)/np.sqrt((p*(1-p))/(n))\n",
    "    pval = 2*stats.norm.cdf(-np.abs(z))\n",
    "    \n",
    "    print(\"Day {0:d}: Absence Proportion={1:0.4f}, Z={2:0.4f}, p-value={3:0.4f}. Reject Null: {4}\".format(day, pi, z, pval, pval<alpha))"
   ]
  },
  {
   "cell_type": "markdown",
   "metadata": {},
   "source": [
    "It can be seen that the p-value for the proportion of absences is only less than $\\alpha$ on Thursdays (day=5). Therefore, the null hypothesis can only be rejected for Thursdays, and we can conclude that at the $\\alpha=0.05$ significance level the rate of absenteeism on Thursdays is significantly different than the expected rate of absenteeism."
   ]
  },
  {
   "cell_type": "markdown",
   "metadata": {},
   "source": [
    "---\n",
    "\n",
    "**Part C**: How many distinct employees are represented in the data set? Show in Python how you calculated this (opening and counting in Excel or a text editor is not an option)."
   ]
  },
  {
   "cell_type": "markdown",
   "metadata": {},
   "source": [
    "The number of distinct employees can be calculated by determining the number of unique IDs in the \"ID\" column of the data frame. This calculation is done with the Pandas `unique` method."
   ]
  },
  {
   "cell_type": "code",
   "execution_count": 7,
   "metadata": {},
   "outputs": [
    {
     "name": "stdout",
     "output_type": "stream",
     "text": [
      "36 unique employees.\n"
     ]
    }
   ],
   "source": [
    "n_unique_employees = len(df[\"ID\"].unique())\n",
    "print(\"{} unique employees.\".format(n_unique_employees))"
   ]
  },
  {
   "cell_type": "markdown",
   "metadata": {},
   "source": [
    "As seen above, the data set contains 36 unique employees, as counted by the number of unique employee ID numbers."
   ]
  },
  {
   "cell_type": "markdown",
   "metadata": {},
   "source": [
    "---\n",
    "**Part D**: Create a new data frame with only one row corresponding to each employee. Include the original employee ID, as well as these columns, that we might want to investigate further:\n",
    "* total number of absences\n",
    "* total time of absences\n",
    "* distance to work\n",
    "* age\n",
    "* number of children\n",
    "* whether they are a social drinker\n",
    "* whether they are a social smoker\n",
    "* number of pets"
   ]
  },
  {
   "cell_type": "code",
   "execution_count": 48,
   "metadata": {},
   "outputs": [
    {
     "name": "stdout",
     "output_type": "stream",
     "text": [
      "    ID  Absences\n",
      "0    1        23\n",
      "1    2         6\n",
      "2    3       113\n",
      "3    4         1\n",
      "4    5        19\n",
      "5    6         8\n",
      "6    7         6\n",
      "7    8         2\n",
      "8    9         8\n",
      "9   10        24\n",
      "10  11        40\n",
      "11  12         7\n",
      "12  13        15\n",
      "13  14        29\n",
      "14  15        37\n",
      "15  16         2\n",
      "16  17        20\n",
      "17  18        16\n",
      "18  19         3\n",
      "19  20        42\n",
      "20  21         3\n",
      "21  22        46\n",
      "22  23         8\n",
      "23  24        30\n",
      "24  25        10\n",
      "25  26         5\n",
      "26  27         7\n",
      "27  28        76\n",
      "28  29         5\n",
      "29  30         7\n",
      "30  31         3\n",
      "31  32         5\n",
      "32  33        24\n",
      "33  34        55\n",
      "34  35         1\n",
      "35  36        34\n"
     ]
    }
   ],
   "source": [
    "group = df.groupby('ID').size().reset_index(name='Absences');\n",
    "#absence_count = group.size()\n",
    "#absence_time = group['Absent'].agg(['sum'])\n",
    "print(group)"
   ]
  },
  {
   "cell_type": "markdown",
   "metadata": {},
   "source": [
    "---\n",
    "**Part E:**  One might hypothesize that employees with pets would be absent from work more often than employees without pets. Use an appropriate statistical technique to obtain 95% confidence interval for the difference in mean total time absent for the employees with pets and those without pets. What can you conclude?"
   ]
  },
  {
   "cell_type": "markdown",
   "metadata": {},
   "source": [
    "<br>\n",
    "\n",
    "---\n",
    "[Back to top](#top)\n",
    "<a id='p3'></a>\n",
    "\n",
    "### [30 points] Problem 3: Sharknado Prediction\n",
    "\n",
    "Governor Hickenlooper has charged you with the task of assessing the factors associated with sharknado risk in Colorado. As everyone knows, sharknadoes are a leading cause of sharknado-related illness, and you are a world-renowned data/shark scientist.\n",
    "\n",
    "You decide to use multiple linear regression to understand and predict what factors lead to increased sharknado hazard. Your lead scientist, aptly named Fin, has collected lots of relevant data at a local sharknado hotspot, the Boulder Reservoir[\\*](#footnote). The data cover a variety of sharknado-related environmental and other conditions, and you'll find this data in the file [`sharknadoes.csv`](https://piazza.com/class_profile/get_resource/jhaqogsdelf76h/jjd2uiqgi2l4t6) (linked here, and on Piazza). \n",
    "\n",
    "**Response**: \n",
    "\n",
    "- $\\texttt{sharknado hazard}$: the hazard of a sharknado, where 1 is very unlikely and 100 is highly likely\n",
    "\n",
    "**Features**: \n",
    "\n",
    "- $\\texttt{temperature}$: the outside temperature, measured in degrees Fahrenheit\n",
    "- $\\texttt{clouds}$: what percentage of the sky was covered by clouds (fraction, 0-1)\n",
    "- $\\texttt{humidity}$: relative humidity (percent, 0-100)\n",
    "- $\\texttt{pressure}$: local air pressure (millibar)\n",
    "- $\\texttt{earthquake}$: the intensity of the most recent earthquake measured in the continental United States\n",
    "- $\\texttt{taunts}$: the number of times over the past year that someone has taunted a shark\n",
    "- $\\texttt{ice cream sold}$: the number of units of ice cream sold at the beach concession stand \n",
    "- $\\texttt{shark attacks}$: the number of shark attacks on the day of observation"
   ]
  },
  {
   "cell_type": "markdown",
   "metadata": {},
   "source": [
    "---\n",
    "**Part A**: Read the data from `sharknadoes.csv` into a Pandas DataFrame.  Note that since we will be doing a multiple linear regression we will need all of the features, so you should drop any row in the DataFrame that is missing data. "
   ]
  },
  {
   "cell_type": "code",
   "execution_count": 27,
   "metadata": {},
   "outputs": [
    {
     "name": "stdout",
     "output_type": "stream",
     "text": [
      "Number of rows of data before cleaning: 85\n",
      "Number of rows of data after cleaning: 85\n"
     ]
    },
    {
     "data": {
      "text/html": [
       "<div>\n",
       "<style scoped>\n",
       "    .dataframe tbody tr th:only-of-type {\n",
       "        vertical-align: middle;\n",
       "    }\n",
       "\n",
       "    .dataframe tbody tr th {\n",
       "        vertical-align: top;\n",
       "    }\n",
       "\n",
       "    .dataframe thead th {\n",
       "        text-align: right;\n",
       "    }\n",
       "</style>\n",
       "<table border=\"1\" class=\"dataframe\">\n",
       "  <thead>\n",
       "    <tr style=\"text-align: right;\">\n",
       "      <th></th>\n",
       "      <th>temperature</th>\n",
       "      <th>clouds</th>\n",
       "      <th>humidity</th>\n",
       "      <th>pressure</th>\n",
       "      <th>earthquake</th>\n",
       "      <th>taunts</th>\n",
       "      <th>shark attacks</th>\n",
       "      <th>ice cream sold</th>\n",
       "      <th>sharknado hazard</th>\n",
       "    </tr>\n",
       "  </thead>\n",
       "  <tbody>\n",
       "    <tr>\n",
       "      <th>0</th>\n",
       "      <td>78.0</td>\n",
       "      <td>1.00</td>\n",
       "      <td>86.41</td>\n",
       "      <td>847.12</td>\n",
       "      <td>7.1</td>\n",
       "      <td>15.0</td>\n",
       "      <td>2.0</td>\n",
       "      <td>273.0</td>\n",
       "      <td>40.22</td>\n",
       "    </tr>\n",
       "    <tr>\n",
       "      <th>1</th>\n",
       "      <td>89.0</td>\n",
       "      <td>1.00</td>\n",
       "      <td>96.67</td>\n",
       "      <td>844.34</td>\n",
       "      <td>7.4</td>\n",
       "      <td>20.0</td>\n",
       "      <td>4.0</td>\n",
       "      <td>184.0</td>\n",
       "      <td>36.42</td>\n",
       "    </tr>\n",
       "    <tr>\n",
       "      <th>2</th>\n",
       "      <td>65.0</td>\n",
       "      <td>1.00</td>\n",
       "      <td>53.85</td>\n",
       "      <td>839.48</td>\n",
       "      <td>7.0</td>\n",
       "      <td>0.0</td>\n",
       "      <td>9.0</td>\n",
       "      <td>141.0</td>\n",
       "      <td>19.54</td>\n",
       "    </tr>\n",
       "    <tr>\n",
       "      <th>3</th>\n",
       "      <td>36.0</td>\n",
       "      <td>0.13</td>\n",
       "      <td>88.72</td>\n",
       "      <td>851.28</td>\n",
       "      <td>7.9</td>\n",
       "      <td>34.0</td>\n",
       "      <td>2.0</td>\n",
       "      <td>146.0</td>\n",
       "      <td>85.00</td>\n",
       "    </tr>\n",
       "    <tr>\n",
       "      <th>4</th>\n",
       "      <td>72.0</td>\n",
       "      <td>1.00</td>\n",
       "      <td>63.08</td>\n",
       "      <td>852.67</td>\n",
       "      <td>7.5</td>\n",
       "      <td>6.0</td>\n",
       "      <td>2.0</td>\n",
       "      <td>178.0</td>\n",
       "      <td>56.34</td>\n",
       "    </tr>\n",
       "  </tbody>\n",
       "</table>\n",
       "</div>"
      ],
      "text/plain": [
       "   temperature  clouds  humidity  pressure  earthquake  taunts  shark attacks  \\\n",
       "0         78.0    1.00     86.41    847.12         7.1    15.0            2.0   \n",
       "1         89.0    1.00     96.67    844.34         7.4    20.0            4.0   \n",
       "2         65.0    1.00     53.85    839.48         7.0     0.0            9.0   \n",
       "3         36.0    0.13     88.72    851.28         7.9    34.0            2.0   \n",
       "4         72.0    1.00     63.08    852.67         7.5     6.0            2.0   \n",
       "\n",
       "   ice cream sold  sharknado hazard  \n",
       "0           273.0             40.22  \n",
       "1           184.0             36.42  \n",
       "2           141.0             19.54  \n",
       "3           146.0             85.00  \n",
       "4           178.0             56.34  "
      ]
     },
     "execution_count": 27,
     "metadata": {},
     "output_type": "execute_result"
    }
   ],
   "source": [
    "dfS = pd.read_csv(\"https://piazza.com/class_profile/get_resource/jhaqogsdelf76h/jjd2uiqgi2l4t6\")\n",
    "print(\"Number of rows of data before cleaning: {}\".format(len(dfS)))\n",
    "dfS = dfS.dropna()\n",
    "print(\"Number of rows of data after cleaning: {}\".format(len(dfS)))\n",
    "dfS.head()"
   ]
  },
  {
   "cell_type": "markdown",
   "metadata": {},
   "source": [
    "There are no rows in the data frame that are missing data."
   ]
  },
  {
   "cell_type": "markdown",
   "metadata": {},
   "source": [
    "---\n",
    "\n",
    "**Part B**: Perform the appropriate statistical test at the $\\alpha = 0.01$ significance level to determine if _at least one_ of the features is related to the the response $y$.  Clearly describe your methodology and show all computations in Python. "
   ]
  },
  {
   "cell_type": "markdown",
   "metadata": {},
   "source": [
    "An F-test is appropriate to determine if at least one of the features is related to the response, $y$. The null hypothesis is that no features are important and the alternative hypothesis is that at least one of the features is important to the response. First, a multiple feature model and its response is constructed for the data. The data is also summarized with the StatsModels OLS summary feature to find the value of the F-statistic."
   ]
  },
  {
   "cell_type": "code",
   "execution_count": 125,
   "metadata": {},
   "outputs": [
    {
     "data": {
      "text/html": [
       "<table class=\"simpletable\">\n",
       "<caption>OLS Regression Results</caption>\n",
       "<tr>\n",
       "  <th>Dep. Variable:</th>    <td>sharknado hazard</td> <th>  R-squared:         </th> <td>   0.973</td>\n",
       "</tr>\n",
       "<tr>\n",
       "  <th>Model:</th>                   <td>OLS</td>       <th>  Adj. R-squared:    </th> <td>   0.971</td>\n",
       "</tr>\n",
       "<tr>\n",
       "  <th>Method:</th>             <td>Least Squares</td>  <th>  F-statistic:       </th> <td>   347.2</td>\n",
       "</tr>\n",
       "<tr>\n",
       "  <th>Date:</th>             <td>Mon, 23 Jul 2018</td> <th>  Prob (F-statistic):</th> <td>1.44e-56</td>\n",
       "</tr>\n",
       "<tr>\n",
       "  <th>Time:</th>                 <td>17:26:22</td>     <th>  Log-Likelihood:    </th> <td> -209.89</td>\n",
       "</tr>\n",
       "<tr>\n",
       "  <th>No. Observations:</th>      <td>    85</td>      <th>  AIC:               </th> <td>   437.8</td>\n",
       "</tr>\n",
       "<tr>\n",
       "  <th>Df Residuals:</th>          <td>    76</td>      <th>  BIC:               </th> <td>   459.8</td>\n",
       "</tr>\n",
       "<tr>\n",
       "  <th>Df Model:</th>              <td>     8</td>      <th>                     </th>     <td> </td>   \n",
       "</tr>\n",
       "<tr>\n",
       "  <th>Covariance Type:</th>      <td>nonrobust</td>    <th>                     </th>     <td> </td>   \n",
       "</tr>\n",
       "</table>\n",
       "<table class=\"simpletable\">\n",
       "<tr>\n",
       "         <td></td>           <th>coef</th>     <th>std err</th>      <th>t</th>      <th>P>|t|</th>  <th>[0.025</th>    <th>0.975]</th>  \n",
       "</tr>\n",
       "<tr>\n",
       "  <th>const</th>          <td>-2547.5254</td> <td>   59.894</td> <td>  -42.534</td> <td> 0.000</td> <td>-2666.815</td> <td>-2428.236</td>\n",
       "</tr>\n",
       "<tr>\n",
       "  <th>temperature</th>    <td>   -0.4415</td> <td>    0.046</td> <td>   -9.598</td> <td> 0.000</td> <td>   -0.533</td> <td>   -0.350</td>\n",
       "</tr>\n",
       "<tr>\n",
       "  <th>clouds</th>         <td>   -0.2182</td> <td>    2.356</td> <td>   -0.093</td> <td> 0.926</td> <td>   -4.911</td> <td>    4.475</td>\n",
       "</tr>\n",
       "<tr>\n",
       "  <th>humidity</th>       <td>    0.0134</td> <td>    0.023</td> <td>    0.581</td> <td> 0.563</td> <td>   -0.033</td> <td>    0.060</td>\n",
       "</tr>\n",
       "<tr>\n",
       "  <th>pressure</th>       <td>    3.0696</td> <td>    0.071</td> <td>   43.021</td> <td> 0.000</td> <td>    2.927</td> <td>    3.212</td>\n",
       "</tr>\n",
       "<tr>\n",
       "  <th>earthquake</th>     <td>    2.2193</td> <td>    0.419</td> <td>    5.292</td> <td> 0.000</td> <td>    1.384</td> <td>    3.055</td>\n",
       "</tr>\n",
       "<tr>\n",
       "  <th>taunts</th>         <td>    0.3091</td> <td>    0.036</td> <td>    8.533</td> <td> 0.000</td> <td>    0.237</td> <td>    0.381</td>\n",
       "</tr>\n",
       "<tr>\n",
       "  <th>shark attacks</th>  <td>   -0.0336</td> <td>    0.136</td> <td>   -0.247</td> <td> 0.806</td> <td>   -0.305</td> <td>    0.237</td>\n",
       "</tr>\n",
       "<tr>\n",
       "  <th>ice cream sold</th> <td>    0.0068</td> <td>    0.007</td> <td>    0.972</td> <td> 0.334</td> <td>   -0.007</td> <td>    0.021</td>\n",
       "</tr>\n",
       "</table>\n",
       "<table class=\"simpletable\">\n",
       "<tr>\n",
       "  <th>Omnibus:</th>       <td> 0.444</td> <th>  Durbin-Watson:     </th> <td>   2.066</td>\n",
       "</tr>\n",
       "<tr>\n",
       "  <th>Prob(Omnibus):</th> <td> 0.801</td> <th>  Jarque-Bera (JB):  </th> <td>   0.162</td>\n",
       "</tr>\n",
       "<tr>\n",
       "  <th>Skew:</th>          <td> 0.093</td> <th>  Prob(JB):          </th> <td>   0.922</td>\n",
       "</tr>\n",
       "<tr>\n",
       "  <th>Kurtosis:</th>      <td> 3.105</td> <th>  Cond. No.          </th> <td>1.60e+05</td>\n",
       "</tr>\n",
       "</table>"
      ],
      "text/plain": [
       "<class 'statsmodels.iolib.summary.Summary'>\n",
       "\"\"\"\n",
       "                            OLS Regression Results                            \n",
       "==============================================================================\n",
       "Dep. Variable:       sharknado hazard   R-squared:                       0.973\n",
       "Model:                            OLS   Adj. R-squared:                  0.971\n",
       "Method:                 Least Squares   F-statistic:                     347.2\n",
       "Date:                Mon, 23 Jul 2018   Prob (F-statistic):           1.44e-56\n",
       "Time:                        17:26:22   Log-Likelihood:                -209.89\n",
       "No. Observations:                  85   AIC:                             437.8\n",
       "Df Residuals:                      76   BIC:                             459.8\n",
       "Df Model:                           8                                         \n",
       "Covariance Type:            nonrobust                                         \n",
       "==================================================================================\n",
       "                     coef    std err          t      P>|t|      [0.025      0.975]\n",
       "----------------------------------------------------------------------------------\n",
       "const          -2547.5254     59.894    -42.534      0.000   -2666.815   -2428.236\n",
       "temperature       -0.4415      0.046     -9.598      0.000      -0.533      -0.350\n",
       "clouds            -0.2182      2.356     -0.093      0.926      -4.911       4.475\n",
       "humidity           0.0134      0.023      0.581      0.563      -0.033       0.060\n",
       "pressure           3.0696      0.071     43.021      0.000       2.927       3.212\n",
       "earthquake         2.2193      0.419      5.292      0.000       1.384       3.055\n",
       "taunts             0.3091      0.036      8.533      0.000       0.237       0.381\n",
       "shark attacks     -0.0336      0.136     -0.247      0.806      -0.305       0.237\n",
       "ice cream sold     0.0068      0.007      0.972      0.334      -0.007       0.021\n",
       "==============================================================================\n",
       "Omnibus:                        0.444   Durbin-Watson:                   2.066\n",
       "Prob(Omnibus):                  0.801   Jarque-Bera (JB):                0.162\n",
       "Skew:                           0.093   Prob(JB):                        0.922\n",
       "Kurtosis:                       3.105   Cond. No.                     1.60e+05\n",
       "==============================================================================\n",
       "\n",
       "Warnings:\n",
       "[1] Standard Errors assume that the covariance matrix of the errors is correctly specified.\n",
       "[2] The condition number is large, 1.6e+05. This might indicate that there are\n",
       "strong multicollinearity or other numerical problems.\n",
       "\"\"\""
      ]
     },
     "execution_count": 125,
     "metadata": {},
     "output_type": "execute_result"
    }
   ],
   "source": [
    "x = dfS.iloc[:,:-1]\n",
    "y = dfS[\"sharknado hazard\"]\n",
    "\n",
    "x = sm.add_constant(x)\n",
    "\n",
    "model = sm.OLS(y, x).fit()\n",
    "\n",
    "sse_full = model.mse_resid*model.df_resid # Used later\n",
    "\n",
    "model.summary()"
   ]
  },
  {
   "cell_type": "markdown",
   "metadata": {},
   "source": [
    "From the above, we see that $F = 347.2$. Already, this is a strong indication that at least one feature is important since it is so much larger than 1. To verify, we find the critical value of the F-statistic at the $\\alpha=0.01$ significance level using `stats.f.ppf`. "
   ]
  },
  {
   "cell_type": "code",
   "execution_count": 42,
   "metadata": {},
   "outputs": [
    {
     "name": "stdout",
     "output_type": "stream",
     "text": [
      "Critical F-Statistic: 2.7547\n"
     ]
    }
   ],
   "source": [
    "alpha = 0.01\n",
    "p = model.df_model # number of features\n",
    "n = model.nobs # number of observations\n",
    "f_crit = stats.f.ppf(1-alpha, p, n-p-1)\n",
    "print(\"Critical F-Statistic: {:0.4f}\".format(f_crit))"
   ]
  },
  {
   "cell_type": "markdown",
   "metadata": {},
   "source": [
    "Clearly, $F = 347.2 \\gg 2.7547 = F_{\\alpha,\\, p,\\, n-p-1}$. So, the null hypothesis that none of the features of the model are important is rejected in favor of the alternative hypothesis that at least one feature is important."
   ]
  },
  {
   "cell_type": "markdown",
   "metadata": {},
   "source": [
    "---\n",
    "\n",
    "**Part C**: \n",
    "\n",
    "*First,* write a function `forward_select(df, resp_str, maxk)` that takes in the DataFrame, the name of the column corresponding to the response, and the maximum number of desired features, and returns a list of feature names corresponding to the `maxk` most important features via forward selection.  At each stage in forward selection you should add the feature whose inclusion in the model would result in the lowest sum of squared errors $(SSE)$.\n",
    "\n",
    "*Second,* use your function to determine the best $k=4$ features to include in the model. Clearly indicate which feature was added in each stage. \n",
    "\n",
    "**Note**: The point of this exercise is to see if you can implement **foward_select** yourself.  You may of course use canned routines like statmodels OLS, but you may not call any Python method that explicitly performs forward selection."
   ]
  },
  {
   "cell_type": "code",
   "execution_count": 130,
   "metadata": {},
   "outputs": [
    {
     "name": "stdout",
     "output_type": "stream",
     "text": [
      "['pressure', 'temperature', 'taunts', 'earthquake']\n"
     ]
    }
   ],
   "source": [
    "def forward_select(df, resp_str, maxk):\n",
    "    \"\"\"\n",
    "    Perform forward selection to determine the best maxk features\n",
    "    in df to model the response indicated by resp_str.\n",
    "    \"\"\"\n",
    "    \n",
    "    # List all of the columns in the data frame and remove the \n",
    "    # response variable.\n",
    "    all_features = list(df)\n",
    "    all_features.remove(resp_str)\n",
    "    \n",
    "    # List that will store the best features\n",
    "    features = []\n",
    "    \n",
    "    # Iterate maxk times\n",
    "    for _ in range(0,maxk):\n",
    "        \n",
    "        # Get the number of features remaining that could be added.\n",
    "        p = len(all_features)\n",
    "        \n",
    "        # Array to store SSE values.\n",
    "        sse_values = np.zeros(p)\n",
    "        \n",
    "        # Iterate through all the features that could be added.\n",
    "        for pi in range(0, p):\n",
    "            \n",
    "            # Create model based on features that have already\n",
    "            # been added, plus the current feature of interest.\n",
    "            key_features = features + [all_features[pi]]\n",
    "            x = dfS.loc[:, key_features]\n",
    "            y = dfS.loc[:, resp_str]\n",
    "            x = sm.add_constant(x)\n",
    "            \n",
    "            # Fit the model\n",
    "            model = sm.OLS(y,x).fit()\n",
    "            \n",
    "            # Save the SSE of the model\n",
    "            # Also documentation is trash this looks like it \n",
    "            # it should be SSR but it is actually SSE.\n",
    "            sse_values[pi] = model.mse_resid\n",
    "            \n",
    "        # Get the index of the minimum SSE for the features\n",
    "        # that were added this step.\n",
    "        min_sse_idx = np.argmin(sse_values)\n",
    "        \n",
    "        # Get the name of the best feature this step.\n",
    "        best_feature = all_features[min_sse_idx]\n",
    "        \n",
    "        # Add the best feature to the list that saves the best\n",
    "        # features, and remove it from the list of features that\n",
    "        # still could be added.\n",
    "        features.append(best_feature)\n",
    "        all_features.remove(best_feature)\n",
    "    \n",
    "    # Return the list of best features.\n",
    "    return features\n",
    "  \n",
    "\n",
    "params = forward_select(dfS, 'sharknado hazard', 4)\n",
    "print(params)"
   ]
  },
  {
   "cell_type": "markdown",
   "metadata": {},
   "source": [
    "The best four features to include in the model are pressure in millibars, temperature in Fahrenheit, number of shark taunts, and magnitude of the most recent earthquake. Pressure was the first feature added, then temperature, followed by the number of taunts, and finally the magnitude of the most recent earthquake."
   ]
  },
  {
   "cell_type": "markdown",
   "metadata": {},
   "source": [
    "---\n",
    "\n",
    "**Part D**: Write down the multiple linear regression model, including estimated parameters, obtained by your forward selection process. "
   ]
  },
  {
   "cell_type": "code",
   "execution_count": 134,
   "metadata": {},
   "outputs": [
    {
     "data": {
      "text/html": [
       "<table class=\"simpletable\">\n",
       "<caption>OLS Regression Results</caption>\n",
       "<tr>\n",
       "  <th>Dep. Variable:</th>    <td>sharknado hazard</td> <th>  R-squared:         </th> <td>   0.973</td>\n",
       "</tr>\n",
       "<tr>\n",
       "  <th>Model:</th>                   <td>OLS</td>       <th>  Adj. R-squared:    </th> <td>   0.972</td>\n",
       "</tr>\n",
       "<tr>\n",
       "  <th>Method:</th>             <td>Least Squares</td>  <th>  F-statistic:       </th> <td>   718.1</td>\n",
       "</tr>\n",
       "<tr>\n",
       "  <th>Date:</th>             <td>Mon, 23 Jul 2018</td> <th>  Prob (F-statistic):</th> <td>8.30e-62</td>\n",
       "</tr>\n",
       "<tr>\n",
       "  <th>Time:</th>                 <td>17:39:05</td>     <th>  Log-Likelihood:    </th> <td> -210.63</td>\n",
       "</tr>\n",
       "<tr>\n",
       "  <th>No. Observations:</th>      <td>    85</td>      <th>  AIC:               </th> <td>   431.3</td>\n",
       "</tr>\n",
       "<tr>\n",
       "  <th>Df Residuals:</th>          <td>    80</td>      <th>  BIC:               </th> <td>   443.5</td>\n",
       "</tr>\n",
       "<tr>\n",
       "  <th>Df Model:</th>              <td>     4</td>      <th>                     </th>     <td> </td>   \n",
       "</tr>\n",
       "<tr>\n",
       "  <th>Covariance Type:</th>      <td>nonrobust</td>    <th>                     </th>     <td> </td>   \n",
       "</tr>\n",
       "</table>\n",
       "<table class=\"simpletable\">\n",
       "<tr>\n",
       "       <td></td>          <th>coef</th>     <th>std err</th>      <th>t</th>      <th>P>|t|</th>  <th>[0.025</th>    <th>0.975]</th>  \n",
       "</tr>\n",
       "<tr>\n",
       "  <th>const</th>       <td>-2557.1602</td> <td>   56.465</td> <td>  -45.287</td> <td> 0.000</td> <td>-2669.530</td> <td>-2444.791</td>\n",
       "</tr>\n",
       "<tr>\n",
       "  <th>pressure</th>    <td>    3.0831</td> <td>    0.067</td> <td>   45.938</td> <td> 0.000</td> <td>    2.949</td> <td>    3.217</td>\n",
       "</tr>\n",
       "<tr>\n",
       "  <th>temperature</th> <td>   -0.4236</td> <td>    0.019</td> <td>  -21.878</td> <td> 0.000</td> <td>   -0.462</td> <td>   -0.385</td>\n",
       "</tr>\n",
       "<tr>\n",
       "  <th>taunts</th>      <td>    0.3151</td> <td>    0.033</td> <td>    9.406</td> <td> 0.000</td> <td>    0.248</td> <td>    0.382</td>\n",
       "</tr>\n",
       "<tr>\n",
       "  <th>earthquake</th>  <td>    2.0640</td> <td>    0.386</td> <td>    5.347</td> <td> 0.000</td> <td>    1.296</td> <td>    2.832</td>\n",
       "</tr>\n",
       "</table>\n",
       "<table class=\"simpletable\">\n",
       "<tr>\n",
       "  <th>Omnibus:</th>       <td> 0.955</td> <th>  Durbin-Watson:     </th> <td>   2.094</td>\n",
       "</tr>\n",
       "<tr>\n",
       "  <th>Prob(Omnibus):</th> <td> 0.620</td> <th>  Jarque-Bera (JB):  </th> <td>   0.727</td>\n",
       "</tr>\n",
       "<tr>\n",
       "  <th>Skew:</th>          <td> 0.226</td> <th>  Prob(JB):          </th> <td>   0.695</td>\n",
       "</tr>\n",
       "<tr>\n",
       "  <th>Kurtosis:</th>      <td> 3.010</td> <th>  Cond. No.          </th> <td>1.49e+05</td>\n",
       "</tr>\n",
       "</table>"
      ],
      "text/plain": [
       "<class 'statsmodels.iolib.summary.Summary'>\n",
       "\"\"\"\n",
       "                            OLS Regression Results                            \n",
       "==============================================================================\n",
       "Dep. Variable:       sharknado hazard   R-squared:                       0.973\n",
       "Model:                            OLS   Adj. R-squared:                  0.972\n",
       "Method:                 Least Squares   F-statistic:                     718.1\n",
       "Date:                Mon, 23 Jul 2018   Prob (F-statistic):           8.30e-62\n",
       "Time:                        17:39:05   Log-Likelihood:                -210.63\n",
       "No. Observations:                  85   AIC:                             431.3\n",
       "Df Residuals:                      80   BIC:                             443.5\n",
       "Df Model:                           4                                         \n",
       "Covariance Type:            nonrobust                                         \n",
       "===============================================================================\n",
       "                  coef    std err          t      P>|t|      [0.025      0.975]\n",
       "-------------------------------------------------------------------------------\n",
       "const       -2557.1602     56.465    -45.287      0.000   -2669.530   -2444.791\n",
       "pressure        3.0831      0.067     45.938      0.000       2.949       3.217\n",
       "temperature    -0.4236      0.019    -21.878      0.000      -0.462      -0.385\n",
       "taunts          0.3151      0.033      9.406      0.000       0.248       0.382\n",
       "earthquake      2.0640      0.386      5.347      0.000       1.296       2.832\n",
       "==============================================================================\n",
       "Omnibus:                        0.955   Durbin-Watson:                   2.094\n",
       "Prob(Omnibus):                  0.620   Jarque-Bera (JB):                0.727\n",
       "Skew:                           0.226   Prob(JB):                        0.695\n",
       "Kurtosis:                       3.010   Cond. No.                     1.49e+05\n",
       "==============================================================================\n",
       "\n",
       "Warnings:\n",
       "[1] Standard Errors assume that the covariance matrix of the errors is correctly specified.\n",
       "[2] The condition number is large, 1.49e+05. This might indicate that there are\n",
       "strong multicollinearity or other numerical problems.\n",
       "\"\"\""
      ]
     },
     "execution_count": 134,
     "metadata": {},
     "output_type": "execute_result"
    }
   ],
   "source": [
    "# Create the model with my parameters\n",
    "x = dfS.loc[:, params]\n",
    "y = dfS.loc[:, 'sharknado hazard']\n",
    "x = sm.add_constant(x)\n",
    "\n",
    "model_red = sm.OLS(y, x).fit()\n",
    "\n",
    "sse_red = model_red.mse_resid*model_red.df_resid # Used later\n",
    "\n",
    "model_red.summary()"
   ]
  },
  {
   "cell_type": "markdown",
   "metadata": {},
   "source": [
    "The model obtained by forward selection that minimizes the sum of squared errors is \n",
    "\n",
    "$$\n",
    "y = -2557.1602 + 3.0831 \\times x_1 - 0.4236 \\times x_2 + 0.3151 \\times x_3 + 2.0604 \\times x_4\n",
    "$$\n",
    "\n",
    "where $x_1$ through $x_4$ correspond to pressure, temperature, taunts, and earthquake magnitude, respectively."
   ]
  },
  {
   "cell_type": "markdown",
   "metadata": {},
   "source": [
    "---\n",
    "\n",
    "**Part E**: Perform the appropriate statistical test at the $\\alpha = 0.01$ significance level to determine whether there is a statistically significant difference between the full model with all features and the reduced model obtained by forward selection in **Part D**. "
   ]
  },
  {
   "cell_type": "markdown",
   "metadata": {},
   "source": [
    "Again, an F-test is appropriate to test if there is a statistically significant difference between the two models. Here, the null hypothesis is that the full and reduced model are no different. The alternative hypothesis is then that the full model and reduced model are different, that is one fits the data better than the other. First, the SSE for the full model and reduced model are recovered from Part B and Part D. These values are passed into the formula for the F-statistic that compares two multivariate models:\n",
    "\n",
    "$$\n",
    "F = \\frac{(SSE_{reduced} - SSE_{full}) / (p-k)}{SSE_{full} / (n-p-1)}\n",
    "$$\n",
    "\n",
    "where $p = 8$, the number of features in the full model and $k=4$, the number of features in the reduced model."
   ]
  },
  {
   "cell_type": "code",
   "execution_count": 180,
   "metadata": {},
   "outputs": [
    {
     "name": "stdout",
     "output_type": "stream",
     "text": [
      "F-Test Results: F=0.3324, Critical F=2.7547, Reject Null? False\n"
     ]
    }
   ],
   "source": [
    "n = len(dfS)\n",
    "p = 8\n",
    "k = 4\n",
    "alpha = 0.01\n",
    "f = ((sse_red - sse_full)/(p-k))/(sse_full/(n-p-1)) # sse_red and sse_full from previous parts\n",
    "f_crit = stats.f.ppf(1-alpha, p, n-p-1)\n",
    "print(\"F-Test Results: F={0:0.4f}, Critical F={1:0.4f}, Reject Null? {2}\".format(f, f_crit, f>f_crit))"
   ]
  },
  {
   "cell_type": "markdown",
   "metadata": {},
   "source": [
    "Because the test F-statistic is not greater than the critical F-statistic, we fail to reject the null hypothesis that the models are different at the $\\alpha=0.01$ significance level. This is good news because it means there is evidence that the reduced model is just as effective as the full model. "
   ]
  },
  {
   "cell_type": "markdown",
   "metadata": {},
   "source": [
    "---\n",
    "\n",
    "**Part F**: Based on your conclusions in **Part E**, use the _better_ of the two models to predict the sharknado hazard when the following features are observed: \n",
    "\n",
    "- $\\texttt{temperature}$: 67 degrees F\n",
    "- $\\texttt{clouds}$: 0.8\n",
    "- $\\texttt{humidity}$: 83\n",
    "- $\\texttt{pressure}$: 850 millibar \n",
    "- $\\texttt{earthquake}$: 7\n",
    "- $\\texttt{taunts}$: 47\n",
    "- $\\texttt{shark attacks}$: 11\n",
    "- $\\texttt{ice cream sold}$: 120"
   ]
  },
  {
   "cell_type": "markdown",
   "metadata": {},
   "source": [
    "Here the reduced model will be used because in Part E it was shown via an F-test that there is no significant difference between the full and reduced model. Generally, it is better to fit with fewer features rather than more, so it motivates the use of the reduced model.\n",
    "\n",
    "To predict the sharknado hazard with these parameters, the given values are simply applied to the equation in Part D."
   ]
  },
  {
   "cell_type": "code",
   "execution_count": 138,
   "metadata": {},
   "outputs": [
    {
     "name": "stdout",
     "output_type": "stream",
     "text": [
      "Sharknado Hazard: 64.3105\n"
     ]
    }
   ],
   "source": [
    "temp = 67\n",
    "press = 850\n",
    "taunts = 47\n",
    "earthquake = 7\n",
    "\n",
    "c = model_red.params\n",
    "\n",
    "hazard = c[0] + c[1]*press + c[2]*temp + c[3]*taunts + c[4]*earthquake\n",
    "\n",
    "print(\"Sharknado Hazard: {:0.4f}\".format(hazard))"
   ]
  },
  {
   "cell_type": "markdown",
   "metadata": {},
   "source": [
    "The sharknado hazard with these parameters is about 64.3. It might be wise to take shelter (or grab a chainsaw whatever floats your boat)."
   ]
  },
  {
   "cell_type": "markdown",
   "metadata": {},
   "source": [
    "<br>\n",
    "\n",
    "---\n",
    "[Back to top](#top)\n",
    "<a id='p4'></a>\n",
    "\n",
    "### [20 points] Problem 4:  Dealer's Choice\n",
    "\n",
    "For this problem, you may use a data set of your choosing. It must **not** be a data set used for any of the in-class notebooks, homework problem sets, or used in the rest of this practicum. \n",
    "\n",
    "---\n",
    "\n",
    "**Part A:** \n",
    "\n",
    "1. Give a few sentences summarizing your data set. Provide a few details about where you found it, when it was collected, who/what the sample population was, and what the key quantities of interest are.\n",
    "2. Also provide a hyperlink **and citation** to any relevant scientific paper. Most data sets include a \"cite this work as\" suggestion.\n",
    "3. Then, clearly state a research question that you would like to answer using the data set.  For example, \"Is a random bottle of red or white wine more likely to have a quality of 5 or higher?\""
   ]
  },
  {
   "cell_type": "markdown",
   "metadata": {},
   "source": [
    "My data set is a 2002 study by the National Sleep Foundation of over 1,000 responses to questions about sleep quality and duration. It lists respondents answers to [`this survey`](https://sleepfoundation.org/sites/default/files/SIAQuestionnaire2002.pdf). I found this by using Google to find data sets related to sleep duration, which directed me to here: [`https://sleepresearchsociety.org/career-education/public-datasets/`](https://sleepresearchsociety.org/career-education/public-datasets/). From this link I found the study to be examined here. The sample population in this case is Americans age 18 and over. My quantities of interest are Question 3 and Question 6, which address sleep duration on weekdays and on the weekends.\n",
    "\n",
    "The scientific summary of this data set can be found [`here`](https://sleepfoundation.org/sites/default/files/2002SleepInAmericaPoll.pdf): It has the following citation.\n",
    "\n",
    "2002 Sleep in America Poll – Adult Sleep Habits\n",
    "Sleep Health: Journal of the National Sleep Foundation, Volume 1, Issue 2, e1\n",
    "\n",
    "The question I wish to answer with this data set is do Americans over age 18 sleep for a longer duration during weekdays or the weekend, on average?"
   ]
  },
  {
   "cell_type": "markdown",
   "metadata": {},
   "source": [
    "---\n",
    "\n",
    "**Part B:** Read in data set, and perform any cleaning that is necessary. Write a sentence or two to describe any fill-values or missing data and how you dealt with them. If the data set is fine as-is, just say so and thank your lucky stars somebody else took the time to clean it."
   ]
  },
  {
   "cell_type": "markdown",
   "metadata": {},
   "source": [
    "I read in the data set locally because I had to first convert it from a .xls file to a .csv file. I converted the file by just copying the data into a blank Excel workbook and saving as a .csv. "
   ]
  },
  {
   "cell_type": "code",
   "execution_count": 160,
   "metadata": {},
   "outputs": [
    {
     "data": {
      "text/html": [
       "<div>\n",
       "<style scoped>\n",
       "    .dataframe tbody tr th:only-of-type {\n",
       "        vertical-align: middle;\n",
       "    }\n",
       "\n",
       "    .dataframe tbody tr th {\n",
       "        vertical-align: top;\n",
       "    }\n",
       "\n",
       "    .dataframe thead th {\n",
       "        text-align: right;\n",
       "    }\n",
       "</style>\n",
       "<table border=\"1\" class=\"dataframe\">\n",
       "  <thead>\n",
       "    <tr style=\"text-align: right;\">\n",
       "      <th></th>\n",
       "      <th>caseid</th>\n",
       "      <th>areacode</th>\n",
       "      <th>exchange</th>\n",
       "      <th>digits</th>\n",
       "      <th>market</th>\n",
       "      <th>state</th>\n",
       "      <th>region</th>\n",
       "      <th>qs1</th>\n",
       "      <th>qs2</th>\n",
       "      <th>qs3</th>\n",
       "      <th>...</th>\n",
       "      <th>d2b</th>\n",
       "      <th>d2c</th>\n",
       "      <th>d2d</th>\n",
       "      <th>d3</th>\n",
       "      <th>d4</th>\n",
       "      <th>d5</th>\n",
       "      <th>d6a</th>\n",
       "      <th>d6b</th>\n",
       "      <th>d7</th>\n",
       "      <th>age</th>\n",
       "    </tr>\n",
       "  </thead>\n",
       "  <tbody>\n",
       "    <tr>\n",
       "      <th>0</th>\n",
       "      <td>2</td>\n",
       "      <td>909</td>\n",
       "      <td>795</td>\n",
       "      <td>7795</td>\n",
       "      <td>West</td>\n",
       "      <td>CA</td>\n",
       "      <td>4</td>\n",
       "      <td>1</td>\n",
       "      <td>2</td>\n",
       "      <td>1</td>\n",
       "      <td>...</td>\n",
       "      <td>NaN</td>\n",
       "      <td>NaN</td>\n",
       "      <td>NaN</td>\n",
       "      <td>NaN</td>\n",
       "      <td>3</td>\n",
       "      <td>1</td>\n",
       "      <td>NaN</td>\n",
       "      <td>3.0</td>\n",
       "      <td>3</td>\n",
       "      <td>18.0</td>\n",
       "    </tr>\n",
       "    <tr>\n",
       "      <th>1</th>\n",
       "      <td>3</td>\n",
       "      <td>214</td>\n",
       "      <td>388</td>\n",
       "      <td>789</td>\n",
       "      <td>South</td>\n",
       "      <td>TX</td>\n",
       "      <td>3</td>\n",
       "      <td>1</td>\n",
       "      <td>1</td>\n",
       "      <td>2</td>\n",
       "      <td>...</td>\n",
       "      <td>96.0</td>\n",
       "      <td>96.0</td>\n",
       "      <td>1.0</td>\n",
       "      <td>10.0</td>\n",
       "      <td>2</td>\n",
       "      <td>2</td>\n",
       "      <td>1.0</td>\n",
       "      <td>NaN</td>\n",
       "      <td>1</td>\n",
       "      <td>NaN</td>\n",
       "    </tr>\n",
       "    <tr>\n",
       "      <th>2</th>\n",
       "      <td>4</td>\n",
       "      <td>608</td>\n",
       "      <td>526</td>\n",
       "      <td>9348</td>\n",
       "      <td>Midwest</td>\n",
       "      <td>WI</td>\n",
       "      <td>2</td>\n",
       "      <td>1</td>\n",
       "      <td>1</td>\n",
       "      <td>1</td>\n",
       "      <td>...</td>\n",
       "      <td>NaN</td>\n",
       "      <td>NaN</td>\n",
       "      <td>NaN</td>\n",
       "      <td>9.0</td>\n",
       "      <td>5</td>\n",
       "      <td>1</td>\n",
       "      <td>3.0</td>\n",
       "      <td>NaN</td>\n",
       "      <td>3</td>\n",
       "      <td>65.0</td>\n",
       "    </tr>\n",
       "    <tr>\n",
       "      <th>3</th>\n",
       "      <td>5</td>\n",
       "      <td>802</td>\n",
       "      <td>878</td>\n",
       "      <td>6061</td>\n",
       "      <td>South</td>\n",
       "      <td>VT</td>\n",
       "      <td>3</td>\n",
       "      <td>1</td>\n",
       "      <td>1</td>\n",
       "      <td>1</td>\n",
       "      <td>...</td>\n",
       "      <td>3.0</td>\n",
       "      <td>2.0</td>\n",
       "      <td>1.0</td>\n",
       "      <td>10.0</td>\n",
       "      <td>5</td>\n",
       "      <td>1</td>\n",
       "      <td>4.0</td>\n",
       "      <td>NaN</td>\n",
       "      <td>3</td>\n",
       "      <td>36.0</td>\n",
       "    </tr>\n",
       "    <tr>\n",
       "      <th>4</th>\n",
       "      <td>6</td>\n",
       "      <td>304</td>\n",
       "      <td>782</td>\n",
       "      <td>3926</td>\n",
       "      <td>South</td>\n",
       "      <td>WV</td>\n",
       "      <td>3</td>\n",
       "      <td>1</td>\n",
       "      <td>96</td>\n",
       "      <td>2</td>\n",
       "      <td>...</td>\n",
       "      <td>NaN</td>\n",
       "      <td>NaN</td>\n",
       "      <td>NaN</td>\n",
       "      <td>7.0</td>\n",
       "      <td>3</td>\n",
       "      <td>1</td>\n",
       "      <td>98.0</td>\n",
       "      <td>NaN</td>\n",
       "      <td>1</td>\n",
       "      <td>55.0</td>\n",
       "    </tr>\n",
       "  </tbody>\n",
       "</table>\n",
       "<p>5 rows × 175 columns</p>\n",
       "</div>"
      ],
      "text/plain": [
       "   caseid  areacode  exchange  digits   market state  region  qs1  qs2  qs3  \\\n",
       "0       2       909       795    7795     West    CA       4    1    2    1   \n",
       "1       3       214       388     789    South    TX       3    1    1    2   \n",
       "2       4       608       526    9348  Midwest    WI       2    1    1    1   \n",
       "3       5       802       878    6061    South    VT       3    1    1    1   \n",
       "4       6       304       782    3926    South    WV       3    1   96    2   \n",
       "\n",
       "   ...    d2b   d2c  d2d    d3  d4  d5   d6a  d6b  d7   age  \n",
       "0  ...    NaN   NaN  NaN   NaN   3   1   NaN  3.0   3  18.0  \n",
       "1  ...   96.0  96.0  1.0  10.0   2   2   1.0  NaN   1   NaN  \n",
       "2  ...    NaN   NaN  NaN   9.0   5   1   3.0  NaN   3  65.0  \n",
       "3  ...    3.0   2.0  1.0  10.0   5   1   4.0  NaN   3  36.0  \n",
       "4  ...    NaN   NaN  NaN   7.0   3   1  98.0  NaN   1  55.0  \n",
       "\n",
       "[5 rows x 175 columns]"
      ]
     },
     "execution_count": 160,
     "metadata": {},
     "output_type": "execute_result"
    }
   ],
   "source": [
    "dfSleep = pd.read_csv('data/sleepy.csv')\n",
    "dfSleep.head()"
   ]
  },
  {
   "cell_type": "markdown",
   "metadata": {},
   "source": [
    "Now I isolate the columns of interest, \"q3\" and \"q6\"."
   ]
  },
  {
   "cell_type": "code",
   "execution_count": 161,
   "metadata": {},
   "outputs": [],
   "source": [
    "dfSleep = dfSleep.loc[:, [\"q3\",\"q6\"]]\n",
    "dfSleep.columns = [\"Weekday_sleep_hrs\", \"Weekend_sleep_hrs\"]"
   ]
  },
  {
   "cell_type": "code",
   "execution_count": 162,
   "metadata": {},
   "outputs": [
    {
     "data": {
      "text/html": [
       "<div>\n",
       "<style scoped>\n",
       "    .dataframe tbody tr th:only-of-type {\n",
       "        vertical-align: middle;\n",
       "    }\n",
       "\n",
       "    .dataframe tbody tr th {\n",
       "        vertical-align: top;\n",
       "    }\n",
       "\n",
       "    .dataframe thead th {\n",
       "        text-align: right;\n",
       "    }\n",
       "</style>\n",
       "<table border=\"1\" class=\"dataframe\">\n",
       "  <thead>\n",
       "    <tr style=\"text-align: right;\">\n",
       "      <th></th>\n",
       "      <th>Weekday_sleep_hrs</th>\n",
       "      <th>Weekend_sleep_hrs</th>\n",
       "    </tr>\n",
       "  </thead>\n",
       "  <tbody>\n",
       "    <tr>\n",
       "      <th>0</th>\n",
       "      <td>7</td>\n",
       "      <td>8</td>\n",
       "    </tr>\n",
       "    <tr>\n",
       "      <th>1</th>\n",
       "      <td>5</td>\n",
       "      <td>7</td>\n",
       "    </tr>\n",
       "    <tr>\n",
       "      <th>2</th>\n",
       "      <td>7</td>\n",
       "      <td>8</td>\n",
       "    </tr>\n",
       "    <tr>\n",
       "      <th>3</th>\n",
       "      <td>7</td>\n",
       "      <td>9</td>\n",
       "    </tr>\n",
       "    <tr>\n",
       "      <th>4</th>\n",
       "      <td>9</td>\n",
       "      <td>9</td>\n",
       "    </tr>\n",
       "    <tr>\n",
       "      <th>5</th>\n",
       "      <td>9</td>\n",
       "      <td>8</td>\n",
       "    </tr>\n",
       "    <tr>\n",
       "      <th>6</th>\n",
       "      <td>10</td>\n",
       "      <td>10</td>\n",
       "    </tr>\n",
       "    <tr>\n",
       "      <th>7</th>\n",
       "      <td>7</td>\n",
       "      <td>1</td>\n",
       "    </tr>\n",
       "    <tr>\n",
       "      <th>8</th>\n",
       "      <td>8</td>\n",
       "      <td>9</td>\n",
       "    </tr>\n",
       "    <tr>\n",
       "      <th>9</th>\n",
       "      <td>7</td>\n",
       "      <td>9</td>\n",
       "    </tr>\n",
       "  </tbody>\n",
       "</table>\n",
       "</div>"
      ],
      "text/plain": [
       "   Weekday_sleep_hrs  Weekend_sleep_hrs\n",
       "0                  7                  8\n",
       "1                  5                  7\n",
       "2                  7                  8\n",
       "3                  7                  9\n",
       "4                  9                  9\n",
       "5                  9                  8\n",
       "6                 10                 10\n",
       "7                  7                  1\n",
       "8                  8                  9\n",
       "9                  7                  9"
      ]
     },
     "execution_count": 162,
     "metadata": {},
     "output_type": "execute_result"
    }
   ],
   "source": [
    "dfSleep.head(10)"
   ]
  },
  {
   "cell_type": "markdown",
   "metadata": {},
   "source": [
    "Print the total number of entries, then the number of entries after cleaning. Respondents would answer 98 or 99 if they refused to answer or did not know  how much sleep they got."
   ]
  },
  {
   "cell_type": "code",
   "execution_count": 163,
   "metadata": {},
   "outputs": [
    {
     "name": "stdout",
     "output_type": "stream",
     "text": [
      "Original number of entries: 1004\n",
      "Cleaned number of entries: 984\n"
     ]
    },
    {
     "data": {
      "text/html": [
       "<div>\n",
       "<style scoped>\n",
       "    .dataframe tbody tr th:only-of-type {\n",
       "        vertical-align: middle;\n",
       "    }\n",
       "\n",
       "    .dataframe tbody tr th {\n",
       "        vertical-align: top;\n",
       "    }\n",
       "\n",
       "    .dataframe thead th {\n",
       "        text-align: right;\n",
       "    }\n",
       "</style>\n",
       "<table border=\"1\" class=\"dataframe\">\n",
       "  <thead>\n",
       "    <tr style=\"text-align: right;\">\n",
       "      <th></th>\n",
       "      <th>Weekday_sleep_hrs</th>\n",
       "      <th>Weekend_sleep_hrs</th>\n",
       "    </tr>\n",
       "  </thead>\n",
       "  <tbody>\n",
       "    <tr>\n",
       "      <th>0</th>\n",
       "      <td>7</td>\n",
       "      <td>8</td>\n",
       "    </tr>\n",
       "    <tr>\n",
       "      <th>1</th>\n",
       "      <td>5</td>\n",
       "      <td>7</td>\n",
       "    </tr>\n",
       "    <tr>\n",
       "      <th>2</th>\n",
       "      <td>7</td>\n",
       "      <td>8</td>\n",
       "    </tr>\n",
       "    <tr>\n",
       "      <th>3</th>\n",
       "      <td>7</td>\n",
       "      <td>9</td>\n",
       "    </tr>\n",
       "    <tr>\n",
       "      <th>4</th>\n",
       "      <td>9</td>\n",
       "      <td>9</td>\n",
       "    </tr>\n",
       "    <tr>\n",
       "      <th>5</th>\n",
       "      <td>9</td>\n",
       "      <td>8</td>\n",
       "    </tr>\n",
       "    <tr>\n",
       "      <th>6</th>\n",
       "      <td>10</td>\n",
       "      <td>10</td>\n",
       "    </tr>\n",
       "    <tr>\n",
       "      <th>7</th>\n",
       "      <td>7</td>\n",
       "      <td>1</td>\n",
       "    </tr>\n",
       "    <tr>\n",
       "      <th>8</th>\n",
       "      <td>8</td>\n",
       "      <td>9</td>\n",
       "    </tr>\n",
       "    <tr>\n",
       "      <th>9</th>\n",
       "      <td>7</td>\n",
       "      <td>9</td>\n",
       "    </tr>\n",
       "  </tbody>\n",
       "</table>\n",
       "</div>"
      ],
      "text/plain": [
       "   Weekday_sleep_hrs  Weekend_sleep_hrs\n",
       "0                  7                  8\n",
       "1                  5                  7\n",
       "2                  7                  8\n",
       "3                  7                  9\n",
       "4                  9                  9\n",
       "5                  9                  8\n",
       "6                 10                 10\n",
       "7                  7                  1\n",
       "8                  8                  9\n",
       "9                  7                  9"
      ]
     },
     "execution_count": 163,
     "metadata": {},
     "output_type": "execute_result"
    }
   ],
   "source": [
    "print(\"Original number of entries: {}\".format(len(dfSleep)))\n",
    "dfSleep = dfSleep.loc[(dfSleep[\"Weekday_sleep_hrs\"] <= 24) & (dfSleep[\"Weekend_sleep_hrs\"] <= 24)]\n",
    "dfSleep = dfSleep.dropna()\n",
    "print(\"Cleaned number of entries: {}\".format(len(dfSleep)))\n",
    "dfSleep.head(10)"
   ]
  },
  {
   "cell_type": "markdown",
   "metadata": {},
   "source": [
    "---\n",
    "\n",
    "**Part C:** Perform some exploratory data analysis on your data set. Explain in Markdown/MathJax what you are doing and why. Include any summary statistics or figures that you believe will be helpful to build a case for the analysis you will do in Part D, to answer the research question from Part A. For example:\n",
    "* What are we going to look at, and why?\n",
    "* What techniques are we going to use, and why?\n",
    "* Can you provide some figures or statistics to justify the kind of relationship you hypothesized in Part A?"
   ]
  },
  {
   "cell_type": "markdown",
   "metadata": {},
   "source": [
    "First, I will create a histogram of sleep durations for both the weekdays and the weekends to get a rough idea of the shape of the distribution I'll be dealing with."
   ]
  },
  {
   "cell_type": "code",
   "execution_count": 173,
   "metadata": {},
   "outputs": [
    {
     "data": {
      "image/png": "[encoded data removed]",
      "text/plain": [
       "<matplotlib.figure.Figure at 0x7fa24e8b29b0>"
      ]
     },
     "metadata": {},
     "output_type": "display_data"
    }
   ],
   "source": [
    "# Use my slow-cooked and spicy histogram function.\n",
    "tanner_flavored_histogram([dfSleep[\"Weekday_sleep_hrs\"], dfSleep[\"Weekend_sleep_hrs\"]], 0, 20, 1, density=True, fwidth=0.8, \\\n",
    "                          legend_labels=(\"Weekdays\",\"Weekends\"), xlabel='Sleep Duration (hrs)', ylabel='Density',  \\\n",
    "                          title='Sleep Duration Density in Americans over 18', tick_skip=1, dtype='int')"
   ]
  },
  {
   "cell_type": "markdown",
   "metadata": {},
   "source": [
    "Simple observation of the histogram seems to indicate that Americans get more sleep on the weekends (the orange distribution is shifted right from the blue histogram). Additionally, we see that both distributions are approximately symmetric and normally shaped. Now, it must be asked if the right shift significant? To answer that, more information is needed. Next, the mean and variance of each distribution is calculated."
   ]
  },
  {
   "cell_type": "code",
   "execution_count": 175,
   "metadata": {},
   "outputs": [
    {
     "name": "stdout",
     "output_type": "stream",
     "text": [
      "Weekday mean sleep duration: 6.992; Weekday sleep duration variance: 2.138\n",
      "Weekend mean sleep duration: 7.744; Weekend sleep duration variance: 2.655\n"
     ]
    }
   ],
   "source": [
    "weekday_mean = np.mean(dfSleep[\"Weekday_sleep_hrs\"])\n",
    "weekend_mean = np.mean(dfSleep[\"Weekend_sleep_hrs\"])\n",
    "\n",
    "weekday_var = np.var(dfSleep[\"Weekday_sleep_hrs\"], ddof=1)\n",
    "weekend_var = np.var(dfSleep[\"Weekend_sleep_hrs\"], ddof=1)\n",
    "\n",
    "print(\"Weekday mean sleep duration: {0:0.3f}; Weekday sleep duration variance: {1:0.3f}\".format(weekday_mean, weekday_var))\n",
    "print(\"Weekend mean sleep duration: {0:0.3f}; Weekend sleep duration variance: {1:0.3f}\".format(weekend_mean, weekend_var))"
   ]
  },
  {
   "cell_type": "markdown",
   "metadata": {},
   "source": [
    "Again, we see that the mean sleep duration is higher on the weekends by about 0.75 hours. Knowing the mean and variance for a large sample lends itself nicely to performing a Z-test to verify the original hypothesis, which will be explored in Part D."
   ]
  },
  {
   "cell_type": "markdown",
   "metadata": {},
   "source": [
    "---\n",
    "\n",
    "**Part D:** Answer your research question proposed in Part A by carrying out at least one of the following.\n",
    "* confidence interval test\n",
    "* hypothesis test\n",
    "* linear regression (single or multivariate), including inference for coefficients\n",
    "\n",
    "Write a few sentences to summarize your findings. Include one sentence that clearly states your conclusion."
   ]
  },
  {
   "cell_type": "markdown",
   "metadata": {},
   "source": [
    "To answer the question of whether Americans over age 18 get more sleep on weekends, a confidence interval test and hypothesis test will be performed, both at the $\\alpha=0.05$ significance level. In these cases, the null hypothesis is that there is no difference in the amount of sleep Americans over 18 get on the weekends, while the alternative hypothesis is that the is a difference in the amount of sleep American over 18 get on the weekdays and the weekends. The confidence interval test is performed first. To do this test, I borrow the `ci_mean` method from homework five."
   ]
  },
  {
   "cell_type": "code",
   "execution_count": 177,
   "metadata": {},
   "outputs": [
    {
     "name": "stdout",
     "output_type": "stream",
     "text": [
      "Weekday CI: (6.901, 7.083)\n",
      "Weekend CI: (7.642, 7.846)\n"
     ]
    }
   ],
   "source": [
    "def ci_mean(x, y=None, sx=None, sy=None, alp=0.05):\n",
    "    xbar = np.mean(x)\n",
    "    n = np.shape(x)[0]\n",
    "    var = xbar\n",
    "    \n",
    "    xvar = 0\n",
    "    if sx is not None:\n",
    "        xvar = sx\n",
    "    else:\n",
    "        xvar = np.var(x, ddof=1)\n",
    "    \n",
    "    z = stats.norm.ppf(1-alp/2)\n",
    "    \n",
    "    scale = 0\n",
    "    if y is not None:\n",
    "        ybar = np.mean(y)\n",
    "        m = np.shape(y)[0]\n",
    "        yvar = 0\n",
    "        if sy is not None:\n",
    "            yvar = sy\n",
    "        else:\n",
    "            yvar = np.var(y, ddof=1)\n",
    "        \n",
    "        var = abs(xbar-ybar)\n",
    "        scale = z*np.sqrt(xvar/n + yvar/m)\n",
    "    else:\n",
    "        scale = z*np.sqrt(xvar/n)\n",
    "        \n",
    "    return (var - scale, var + scale)\n",
    "\n",
    "\n",
    "# Get the confidence intervals for both data sets individually.\n",
    "ci_weekday = ci_mean(dfSleep[\"Weekday_sleep_hrs\"])\n",
    "print(\"Weekday CI: ({0:0.3f}, {1:0.3f})\".format(ci_weekday[0], ci_weekday[1]))\n",
    "ci_weekend = ci_mean(dfSleep[\"Weekend_sleep_hrs\"])\n",
    "print(\"Weekend CI: ({0:0.3f}, {1:0.3f})\".format(ci_weekend[0], ci_weekend[1]))"
   ]
  },
  {
   "cell_type": "markdown",
   "metadata": {},
   "source": [
    "The initial confidence interval test indicates that the mean sleep duration on weekdays and weekend is different because the 95% confidence intervals do not overlap. To verify this result, an additional confidence interval test will be carried out that tests the difference between the two means."
   ]
  },
  {
   "cell_type": "code",
   "execution_count": 178,
   "metadata": {},
   "outputs": [
    {
     "name": "stdout",
     "output_type": "stream",
     "text": [
      "CI for mean sleep difference: (0.615, 0.889)\n"
     ]
    }
   ],
   "source": [
    "ci_diff= ci_mean(dfSleep[\"Weekday_sleep_hrs\"], y=dfSleep[\"Weekend_sleep_hrs\"])\n",
    "print(\"CI for mean sleep difference: ({0:0.3f}, {1:0.3f})\".format(ci_diff[0], ci_diff[1]))"
   ]
  },
  {
   "cell_type": "markdown",
   "metadata": {},
   "source": [
    "The 95% confidence interval for the difference between the two means does not include zero, lending additional evidence to reject the null hypothesis. However, one more test will be conducted just to be sure: a two-tailed Z-test for the difference between the means with $\\alpha=0.05$."
   ]
  },
  {
   "cell_type": "code",
   "execution_count": 179,
   "metadata": {},
   "outputs": [
    {
     "name": "stdout",
     "output_type": "stream",
     "text": [
      "Z=-10.7755, Z_crit=-1.9600, therefore do we reject the null hypothesis? True\n"
     ]
    }
   ],
   "source": [
    "alpha = 0.05\n",
    "n = len(dfSleep)\n",
    "z = ((weekday_mean - weekend_mean) - 0)/np.sqrt(weekday_var/n + weekend_var/n)\n",
    "z_crit = stats.norm.ppf(alpha/2)\n",
    "print(\"Z={0:0.4f}, Z_crit={1:0.4f}, therefore do we reject the null hypothesis? {2}\".format(z, z_crit, abs(z)>abs(z_crit)))"
   ]
  },
  {
   "cell_type": "markdown",
   "metadata": {},
   "source": [
    "Again, it is shown that the null hypothesis should be rejected because the Z-value that is obtained from this data is more extreme than the critical Z value at the $\\alpha=0.05$ significance level.\n",
    "\n",
    "Due to both confidence interval tests and the Z test pointing to reject the null hypothesis, I conclude that Americans over age 18 do get a different amount of sleep per day over the weekend than over the weekdays."
   ]
  },
  {
   "cell_type": "markdown",
   "metadata": {},
   "source": [
    "<br>\n",
    "\n",
    "---\n",
    "[Back to Problem 3](#p3)\n",
    "\n",
    "<a id='footnote'></a> Yeah yeah - fresh water versus salt water - I know, I know. But sharknadoes also are not real, so..."
   ]
  },
  {
   "cell_type": "markdown",
   "metadata": {},
   "source": [
    "*that's just what the government wants us to think*"
   ]
  }
 ],
 "metadata": {
  "kernelspec": {
   "display_name": "Python 3",
   "language": "python",
   "name": "python3"
  },
  "language_info": {
   "codemirror_mode": {
    "name": "ipython",
    "version": 3
   },
   "file_extension": ".py",
   "mimetype": "text/x-python",
   "name": "python",
   "nbconvert_exporter": "python",
   "pygments_lexer": "ipython3",
   "version": "3.6.4"
  }
 },
 "nbformat": 4,
 "nbformat_minor": 2
}
