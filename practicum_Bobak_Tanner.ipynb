{
 "cells": [
  {
   "cell_type": "markdown",
   "metadata": {},
   "source": [
    "<a id='top'></a>\n",
    "\n",
    "# CSCI 3022: Intro to Data Science - Summer 2018 Practicum \n",
    "***\n",
    "\n",
    "This practicum is due on Moodle by **11:55 PM on Monday July 23**. Your solutions to theoretical questions should be done in Markdown/MathJax directly below the associated question.  Your solutions to computational questions should include any specified Python code and results as well as written commentary on your conclusions.  \n",
    "\n",
    "**Here are the rules:** \n",
    "\n",
    "1. All work, code and analysis, must be your own. \n",
    "1. You may use your course notes, posted lecture slides, textbooks, in-class notebooks, and homework solutions as resources.  You may also search online for answers to general knowledge questions like the form of a probability distribution function or how to perform a particular operation in Python/Pandas. \n",
    "1. This is meant to be like a coding portion of your final exam. So, I will be much less helpful than I typically am with homework. For example, I will not check answers, help debug your code, and so on.\n",
    "1. If something is left open-ended, it is probably because I intend for you to code it up however you want, and only care about the plots/analysis I see at the end. Feel free to ask clarifying questions though.\n",
    "2. You may **NOT** post to message boards or other online resources asking for help.\n",
    "3. You may **NOT** copy-paste solutions *from anywhere*.\n",
    "4. You may **NOT** collaborate with classmates or anyone else.  \n",
    "5. In short, **your work must be your own**. It really is that simple.\n",
    "\n",
    "Violation of the above rules will result in an immediate academic sanction (*at the very least*, you will receive a 0 on the practicum or an F in the course, depending on severity), and a trip to the Honor Code Council.\n",
    "\n",
    "***\n",
    "\n",
    "**By writing your name below you agree to abide by the rules given above:**\n",
    "\n",
    "**Name**:  \n",
    "\n",
    "***\n",
    "\n",
    "\n",
    "**NOTES**: \n",
    "\n",
    "- You may not use late days on the practicum nor can you drop your practicum grade. \n",
    "- If you have a question for Tony, post it as a **PRIVATE** message on Piazza.  If I decide that the question is appropriate for the entire class I add it to a Practicum clarifications thread. \n",
    "- Do **NOT** load or use any Python packages that are not available in Anaconda 3.6. \n",
    "- Some problems with code may be autograded.  If we provide a function API **do not** change it.  If we do not provide a function API then you're free to structure your code however you like. \n",
    "- Submit only this Jupyter notebook to Moodle.  Do not compress it using tar, rar, zip, etc. \n",
    "- This should go without saying, but... For any question that asks you to calculate something, you **must show all work to receive credit**. Sparse or nonexistent work will receive sparse or nonexistent credit.\n",
    "\n",
    "---\n",
    "**Shortcuts:**  [Problem 1](#p1) | [Problem 2](#p2) | [Problem 3](#p3) | [Problem 4](#p4)\n",
    "\n",
    "---"
   ]
  },
  {
   "cell_type": "code",
   "execution_count": 547,
   "metadata": {
    "collapsed": true
   },
   "outputs": [],
   "source": [
    "from scipy import stats\n",
    "import numpy as np \n",
    "import statsmodels.api as sm\n",
    "import pandas as pd\n",
    "import matplotlib.pyplot as plt\n",
    "%matplotlib inline"
   ]
  },
  {
   "cell_type": "markdown",
   "metadata": {},
   "source": [
    "<br>\n",
    "\n",
    "---\n",
    "[Back to top](#top)\n",
    "<a id='p1'></a>\n",
    "\n",
    "### [25 points] Problem 1: CSCI 3022 goes bowling!\n",
    "\n",
    "**Part A:** Build a function `bowling_game_simple` to simulate a **simplified version** of a single game of traditional [10-pin bowling](https://en.wikipedia.org/wiki/Ten-pin_bowling). If you are not familiar with bowling, you are encouraged to watch some videos on YouTube. Even better, you can go to the UMC and actually go bowling!\n",
    "\n",
    "Here is a summary of the simplified rules for the first part of this problem:\n",
    "* There are 10 frames (like rounds).\n",
    "* You get 2 rolls in each frame.\n",
    "* Each frame begins with 10 pins.\n",
    "* It is possible to knock down zero pins (a \"gutter ball\" - womp womp).\n",
    "* Your score for each frame is the total number of pins knocked down by your two rolls.\n",
    "* If you knock all 10 pins down with your first roll, that is called a \"strike\" and you do not get a second roll for that frame.\n",
    "* If you knock all 10 pins down but require both rolls in a frame, that is called a \"spare\".\n",
    "* Assume that the probability of knocking down a single pin is a parameter $p$.\n",
    "    \n",
    "You should use an appropriate distribution that you have learned to model the knocking down of pins for each roll. In Markdown/MathJax, you must name and fully justify your choice of distribution and other modeling choices. Note that the parameter(s) of this distribution might change, depending on the current sitution (i.e., how many pins are left). Simplifications are okay, as long as you mention and justify them."
   ]
  },
  {
   "cell_type": "code",
   "execution_count": null,
   "metadata": {
    "collapsed": true
   },
   "outputs": [],
   "source": [
    "def bowling_game_simple( [parameters? other input?] ):\n",
    "\n",
    "    # your code goes here!\n",
    "    \n",
    "    return score"
   ]
  },
  {
   "cell_type": "markdown",
   "metadata": {},
   "source": [
    "**Part B:** Simulate 1,000 games of bowling with $p=0.5$ and plot a density histogram of the resulting total scores. Be sure to label your axes.\n",
    "\n",
    "What is the empirical expected value of total score from your simulations? Explain fully why this does or does not match what you would expect."
   ]
  },
  {
   "cell_type": "markdown",
   "metadata": {},
   "source": [
    "**Part C:** Build a function `bowling_game` to simulate a more realistic version of a single game of traditional [10-pin bowling](https://en.wikipedia.org/wiki/Ten-pin_bowling).  Here are the additional [rules](https://en.wikipedia.org/wiki/Ten-pin_bowling#Rules_of_play) to add:\n",
    "* *Generally*, your score for each frame is the total number of pins knocked down by your two rolls.\n",
    "* If you get a strike, then:\n",
    "    * you do not get a second roll for that frame, and\n",
    "    * your score for that frame is the 10 from what you just knocked down _plus_ the total number of pins you knock down on your next 2 rolls.\n",
    "* If you get a spare, then your score for that frame is the 10 from what you just knocked down _plus_ the number of pins you knock down on your next roll.\n",
    "* The tenth frame has a few of special rules too:\n",
    "    * If you get a strike on your first roll, then you are awarded two extra rolls.\n",
    "    * If you get a spare on your second roll, then you are awarded one extra roll.\n",
    "    * Your score for the tenth frame is simply the total number of pins knocked down.\n",
    "    \n",
    "An example bowling game and the total score will be provided in a \"Practicum Q&A\" Piazza post."
   ]
  },
  {
   "cell_type": "code",
   "execution_count": null,
   "metadata": {
    "collapsed": true
   },
   "outputs": [],
   "source": [
    "def bowling_game( [parameters? other input?] ):\n",
    "\n",
    "    # your code goes here!\n",
    "    \n",
    "    return score"
   ]
  },
  {
   "cell_type": "markdown",
   "metadata": {},
   "source": [
    "**Part D:** Use your `bowling_game` function to simulate 1,000 games of more realistic bowling with $p=0.5$. Plot a density histogram of the scores. Compare the distributions with and without the strike, spare and tenth frame bonuses using concepts from this class. That is, compare your results from Part B with the results here. Write a few sentences commenting on any key differences you see."
   ]
  },
  {
   "cell_type": "markdown",
   "metadata": {},
   "source": [
    "**Part E:** Compare the effects of the strike, spare and 10th frame bonuses for a better bowler, with $p=0.75$. Include any new simulations, figures and/or statistics that you think are relevant. Write a few sentences to comment on any differences you notice."
   ]
  },
  {
   "cell_type": "markdown",
   "metadata": {},
   "source": [
    "<br>\n",
    "\n",
    "---\n",
    "[Back to top](#top)\n",
    "<a id='p2'></a>\n",
    "\n",
    "### [25 points] Problem 2: Absenteeism at work\n",
    "\n",
    "The data set [`Absenteeism_at_work.csv`](https://piazza.com/class_profile/get_resource/jhaqogsdelf76h/jjd2ujdkm674tf) (linked here, and on Piazza) examines a variety of factors surrounding employees at a courier in Brazil between 2007 and 2010. The data include characteristics of the employees like education, age, number of children and pets, and so on, as well as the amount of time absent from work (hours) each occurrence. A file describing the data set is available from the UC Irvine repository, as well as [linked on Piazza](https://piazza.com/class_profile/get_resource/jhaqogsdelf76h/jjd2uj0fzds4t9) under Resources, alongside the data set.\n",
    "\n",
    "**Part A**:  Load the data set `Absenteeism_at_work.csv` as a Pandas data frame and use Pandas rename all of the columns to concise, descriptive, single-word column titles. Use Pandas built-in methods to display the first few rows and the column titles of your new and improved data frame."
   ]
  },
  {
   "cell_type": "markdown",
   "metadata": {},
   "source": [
    "**Part B**: Is any one day of the week more/less likely for employees to be absent at work on that day? Fully justify your response using statistical techniques from this class."
   ]
  },
  {
   "cell_type": "markdown",
   "metadata": {},
   "source": [
    "**Part C**: How many distinct employees are represented in the data set? Show in Python how you calculated this (opening and counting in Excel or a text editor is not an option)."
   ]
  },
  {
   "cell_type": "markdown",
   "metadata": {},
   "source": [
    "**Part D**: Create a new data frame with only one row corresponding to each employee. Include the original employee ID, as well as these columns, that we might want to investigate further:\n",
    "* total number of absences\n",
    "* total time of absences\n",
    "* distance to work\n",
    "* age\n",
    "* number of children\n",
    "* whether they are a social drinker\n",
    "* whether they are a social smoker\n",
    "* number of pets"
   ]
  },
  {
   "cell_type": "markdown",
   "metadata": {},
   "source": [
    "**Part E:**  One might hypothesize that employees with pets would be absent from work more often than employees without pets. Use an appropriate statistical technique to obtain 95% confidence interval for the difference in mean total time absent for the employees with pets and those without pets. What can you conclude?"
   ]
  },
  {
   "cell_type": "markdown",
   "metadata": {},
   "source": [
    "<br>\n",
    "\n",
    "---\n",
    "[Back to top](#top)\n",
    "<a id='p3'></a>\n",
    "\n",
    "### [30 points] Problem 3: Sharknado Prediction\n",
    "\n",
    "Governor Hickenlooper has charged you with the task of assessing the factors associated with sharknado risk in Colorado. As everyone knows, sharknadoes are a leading cause of sharknado-related illness, and you are a world-renowned data/shark scientist.\n",
    "\n",
    "You decide to use multiple linear regression to understand and predict what factors lead to increased sharknado hazard. Your lead scientist, aptly named Fin, has collected lots of relevant data at a local sharknado hotspot, the Boulder Reservoir[\\*](#footnote). The data cover a variety of sharknado-related environmental and other conditions, and you'll find this data in the file [`sharknadoes.csv`](https://piazza.com/class_profile/get_resource/jhaqogsdelf76h/jjd2uiqgi2l4t6) (linked here, and on Piazza). \n",
    "\n",
    "**Response**: \n",
    "\n",
    "- $\\texttt{sharknado hazard}$: the hazard of a sharknado, where 1 is very unlikely and 100 is highly likely\n",
    "\n",
    "**Features**: \n",
    "\n",
    "- $\\texttt{temperature}$: the outside temperature, measured in degrees Fahrenheit\n",
    "- $\\texttt{clouds}$: what percentage of the sky was covered by clouds (fraction, 0-1)\n",
    "- $\\texttt{humidity}$: relative humidity (percent, 0-100)\n",
    "- $\\texttt{pressure}$: local air pressure (millibar)\n",
    "- $\\texttt{earthquake}$: the intensity of the most recent earthquake measured in the continental United States\n",
    "- $\\texttt{taunts}$: the number of times over the past year that someone has taunted a shark\n",
    "- $\\texttt{ice cream sold}$: the number of units of ice cream sold at the beach concession stand \n",
    "- $\\texttt{shark attacks}$: the number of shark attacks on the day of observation"
   ]
  },
  {
   "cell_type": "markdown",
   "metadata": {},
   "source": [
    "**Part A**: Read the data from `sharknadoes.csv` into a Pandas DataFrame.  Note that since we will be doing a multiple linear regression we will need all of the features, so you should drop any row in the DataFrame that is missing data. "
   ]
  },
  {
   "cell_type": "markdown",
   "metadata": {},
   "source": [
    "**Part B**: Perform the appropriate statistical test at the $\\alpha = 0.01$ significance level to determine if _at least one_ of the features is related to the the response $y$.  Clearly describe your methodology and show all computations in Python. "
   ]
  },
  {
   "cell_type": "markdown",
   "metadata": {},
   "source": [
    "**Part C**: \n",
    "\n",
    "*First,* write a function `forward_select(df, resp_str, maxk)` that takes in the DataFrame, the name of the column corresponding to the response, and the maximum number of desired features, and returns a list of feature names corresponding to the `maxk` most important features via forward selection.  At each stage in forward selection you should add the feature whose inclusion in the model would result in the lowest sum of squared errors $(SSE)$.\n",
    "\n",
    "*Second,* use your function to determine the best $k=4$ features to include in the model. Clearly indicate which feature was added in each stage. \n",
    "\n",
    "**Note**: The point of this exercise is to see if you can implement **foward_select** yourself.  You may of course use canned routines like statmodels OLS, but you may not call any Python method that explicitly performs forward selection."
   ]
  },
  {
   "cell_type": "markdown",
   "metadata": {},
   "source": [
    "**Part D**: Write down the multiple linear regression model, including estimated parameters, obtained by your forward selection process. "
   ]
  },
  {
   "cell_type": "markdown",
   "metadata": {},
   "source": [
    "**Part E**: Perform the appropriate statistical test at the $\\alpha = 0.01$ significance level to determine whether there is a statistically significant difference between the full model with all features and the reduced model obtained by forward selection in **Part D**. "
   ]
  },
  {
   "cell_type": "markdown",
   "metadata": {},
   "source": [
    "**Part F**: Based on your conclusions in **Part E**, use the _better_ of the two models to predict the sharknado hazard when the following features are observed: \n",
    "\n",
    "- $\\texttt{temperature}$: 67 degrees F\n",
    "- $\\texttt{clouds}$: 0.8\n",
    "- $\\texttt{humidity}$: 83\n",
    "- $\\texttt{pressure}$: 850 millibar \n",
    "- $\\texttt{earthquake}$: 7\n",
    "- $\\texttt{taunts}$: 47\n",
    "- $\\texttt{shark attacks}$: 11\n",
    "- $\\texttt{ice cream sold}$: 120"
   ]
  },
  {
   "cell_type": "markdown",
   "metadata": {},
   "source": [
    "<br>\n",
    "\n",
    "---\n",
    "[Back to top](#top)\n",
    "<a id='p4'></a>\n",
    "\n",
    "### [20 points] Problem 4:  Dealer's Choice\n",
    "\n",
    "For this problem, you may use a data set of your choosing. It must **not** be a data set used for any of the in-class notebooks, homework problem sets, or used in the rest of this practicum. \n",
    "\n",
    "**Part A:** \n",
    "\n",
    "1. Give a few sentences summarizing your data set. Provide a few details about where you found it, when it was collected, who/what the sample population was, and what the key quantities of interest are.\n",
    "2. Also provide a hyperlink **and citation** to any relevant scientific paper. Most data sets include a \"cite this work as\" suggestion.\n",
    "3. Then, clearly state a research question that you would like to answer using the data set.  For example, \"Is a random bottle of red or white wine more likely to have a quality of 5 or higher?\""
   ]
  },
  {
   "cell_type": "markdown",
   "metadata": {},
   "source": [
    "**Part B:** Read in data set, and perform any cleaning that is necessary. Write a sentence or two to describe any fill-values or missing data and how you dealt with them. If the data set is fine as-is, just say so and thank your lucky stars somebody else took the time to clean it."
   ]
  },
  {
   "cell_type": "markdown",
   "metadata": {},
   "source": [
    "**Part C:** Perform some exploratory data analysis on your data set. Explain in Markdown/MathJax what you are doing and why. Include any summary statistics or figures that you believe will be helpful to build a case for the analysis you will do in Part D, to answer the research question from Part A. For example:\n",
    "* What are we going to look at, and why?\n",
    "* What techniques are we going to use, and why?\n",
    "* Can you provide some figures or statistics to justify the kind of relationship you hypothesized in Part A?"
   ]
  },
  {
   "cell_type": "markdown",
   "metadata": {},
   "source": [
    "**Part D:** Answer your research question proposed in Part A by carrying out at least one of the following.\n",
    "* confidence interval test\n",
    "* hypothesis test\n",
    "* linear regression (single or multivariate), including inference for coefficients\n",
    "\n",
    "Write a few sentences to summarize your findings. Include one sentence that clearly states your conclusion."
   ]
  },
  {
   "cell_type": "markdown",
   "metadata": {},
   "source": [
    "<br>\n",
    "\n",
    "---\n",
    "[Back to Problem 3](#p3)\n",
    "\n",
    "<a id='footnote'></a> Yeah yeah - fresh water versus salt water - I know, I know. But sharknadoes also are not real, so..."
   ]
  },
  {
   "cell_type": "code",
   "execution_count": null,
   "metadata": {
    "collapsed": true
   },
   "outputs": [],
   "source": []
  }
 ],
 "metadata": {
  "kernelspec": {
   "display_name": "Python 3",
   "language": "python",
   "name": "python3"
  },
  "language_info": {
   "codemirror_mode": {
    "name": "ipython",
    "version": 3
   },
   "file_extension": ".py",
   "mimetype": "text/x-python",
   "name": "python",
   "nbconvert_exporter": "python",
   "pygments_lexer": "ipython3",
   "version": "3.6.1"
  }
 },
 "nbformat": 4,
 "nbformat_minor": 2
}
