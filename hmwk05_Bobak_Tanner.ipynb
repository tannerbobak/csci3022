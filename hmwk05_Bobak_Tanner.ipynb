{
 "cells": [
  {
   "cell_type": "markdown",
   "metadata": {},
   "source": [
    "<a id='top'></a>\n",
    "\n",
    "# Homework 5: Confidence intervals and other things\n",
    "***\n",
    "\n",
    "**Name**:\n",
    "\n",
    "***\n",
    "\n",
    "This assignment is due on Moodle by **5 PM on Friday July 6**. Your solutions to theoretical questions should be done in Markdown/MathJax directly below the associated question.  Your solutions to computational questions should include any specified Python code and results as well as written commentary on your conclusions.  Remember that you are encouraged to discuss the problems with your instructors and classmates, but **you must write all code and solutions on your own**.  \n",
    "\n",
    "**NOTES**: \n",
    "\n",
    "- Do **NOT** load or use any Python packages that are not available in Anaconda 3.6. \n",
    "- Some problems with code may be autograded.  If we provide a function API **do not** change it.  If we do not provide a function API then you're free to structure your code however you like. \n",
    "- Because you can technically evaluate notebook cells is a non-linear order, it's a good idea to do Cell $\\rightarrow$ Run All as a check before submitting your solutions.  That way if we need to run your code you will know that it will work as expected. \n",
    "- Submit only this Jupyter notebook to Moodle.  Do not compress it using tar, rar, zip, etc. \n",
    "- This should go without saying, but... For any question that asks you to calculate something, you **must show all work to receive credit**. Sparse or nonexistent work will receive sparse or nonexistent credit.\n",
    "\n",
    "---\n",
    "**Shortcuts:**  [Problem 1](#p1) | [Problem 2](#p2) | [Problem 3](#p3) | [Problem 4](#p4)\n",
    "\n",
    "---"
   ]
  },
  {
   "cell_type": "code",
   "execution_count": 6,
   "metadata": {
    "collapsed": true,
    "scrolled": true
   },
   "outputs": [],
   "source": [
    "import numpy as np\n",
    "import matplotlib.pyplot as plt\n",
    "import pandas as pd\n",
    "import scipy.stats as stats\n",
    "import math\n",
    "\n",
    "%matplotlib inline"
   ]
  },
  {
   "cell_type": "markdown",
   "metadata": {},
   "source": [
    "# ---\n",
    "\n",
    "<a id='p1'></a>\n",
    "[Back to top](#top)\n",
    "\n",
    "### [30 points] Problem 1 - Sea-level rise, schmee-level rise!\n",
    "\n",
    "You have been contacted by the local government of Key West, Florida, to assess whether there is statistical evidence for sea-level rise in the area. You obtain from the University of Hawaii Sea Level Center's [gigantic repository of sea-level data](https://uhslc.soest.hawaii.edu/data/?rq) the daily mean sea levels file [linked here](https://piazza.com/class_profile/get_resource/jhaqogsdelf76h/jixzm0rl5dp6y4) and below.\n",
    "\n",
    "In this problem, you will:\n",
    "1. practice calculating confidence intervals, \n",
    "1. practice wrangling a real-life data set into a form where you can actually compute these confidence intervals, because life will rarely be so kind as to simply hand you a nicely packaged and cleaned set of data, and\n",
    "1. save Key West from a watery fate?"
   ]
  },
  {
   "cell_type": "code",
   "execution_count": 7,
   "metadata": {},
   "outputs": [
    {
     "data": {
      "text/html": [
       "<div>\n",
       "<style>\n",
       "    .dataframe thead tr:only-child th {\n",
       "        text-align: right;\n",
       "    }\n",
       "\n",
       "    .dataframe thead th {\n",
       "        text-align: left;\n",
       "    }\n",
       "\n",
       "    .dataframe tbody tr th {\n",
       "        vertical-align: top;\n",
       "    }\n",
       "</style>\n",
       "<table border=\"1\" class=\"dataframe\">\n",
       "  <thead>\n",
       "    <tr style=\"text-align: right;\">\n",
       "      <th></th>\n",
       "      <th>Year</th>\n",
       "      <th>Month</th>\n",
       "      <th>Day</th>\n",
       "      <th>SL</th>\n",
       "    </tr>\n",
       "  </thead>\n",
       "  <tbody>\n",
       "    <tr>\n",
       "      <th>0</th>\n",
       "      <td>1913</td>\n",
       "      <td>1</td>\n",
       "      <td>20</td>\n",
       "      <td>1453</td>\n",
       "    </tr>\n",
       "    <tr>\n",
       "      <th>1</th>\n",
       "      <td>1913</td>\n",
       "      <td>1</td>\n",
       "      <td>21</td>\n",
       "      <td>1439</td>\n",
       "    </tr>\n",
       "    <tr>\n",
       "      <th>2</th>\n",
       "      <td>1913</td>\n",
       "      <td>1</td>\n",
       "      <td>22</td>\n",
       "      <td>1444</td>\n",
       "    </tr>\n",
       "    <tr>\n",
       "      <th>3</th>\n",
       "      <td>1913</td>\n",
       "      <td>1</td>\n",
       "      <td>23</td>\n",
       "      <td>1489</td>\n",
       "    </tr>\n",
       "    <tr>\n",
       "      <th>4</th>\n",
       "      <td>1913</td>\n",
       "      <td>1</td>\n",
       "      <td>24</td>\n",
       "      <td>1474</td>\n",
       "    </tr>\n",
       "  </tbody>\n",
       "</table>\n",
       "</div>"
      ],
      "text/plain": [
       "   Year  Month  Day    SL\n",
       "0  1913      1   20  1453\n",
       "1  1913      1   21  1439\n",
       "2  1913      1   22  1444\n",
       "3  1913      1   23  1489\n",
       "4  1913      1   24  1474"
      ]
     },
     "execution_count": 7,
     "metadata": {},
     "output_type": "execute_result"
    }
   ],
   "source": [
    "# Local and web paths to the data; pick which works for you.\n",
    "local_path = \"data/sealevel_keywest.csv\"\n",
    "web_path   = \"https://piazza.com/class_profile/get_resource/jhaqogsdelf76h/jixzm0rl5dp6y4\"\n",
    "file_path  = web_path\n",
    "\n",
    "dfSL = pd.read_csv(file_path, header=None)\n",
    "dfSL.rename(columns={0 : 'Year', 1 : 'Month', 2 : 'Day', 3 : 'SL'}, inplace=True)\n",
    "dfSL.head()"
   ]
  },
  {
   "cell_type": "markdown",
   "metadata": {},
   "source": [
    "**Part A:**  Write a function `clean_data` to:\n",
    "1. take in a single argument of a raw sea level data frame (e.g., `dfSL` above),\n",
    "2. compute the fill-value used to replace missing sea level (SL) data (**not** hard-coded!),\n",
    "3. use the Pandas `DataFrame.dropna` method to remove all missing rows of data, \n",
    "4. select only the data point on the second day of each month, and\n",
    "4. return a cleaned Pandas data frame.\n",
    "\n",
    "Use your shiny new function to clean the `dfSL` data frame and save the results in a new data frame.\n",
    "\n",
    "There is a very specific reason to sample only one daily data point per month. We will talk about it later."
   ]
  },
  {
   "cell_type": "code",
   "execution_count": 8,
   "metadata": {},
   "outputs": [
    {
     "name": "stdout",
     "output_type": "stream",
     "text": [
      "Fill value: -32767\n"
     ]
    },
    {
     "data": {
      "text/html": [
       "<div>\n",
       "<style>\n",
       "    .dataframe thead tr:only-child th {\n",
       "        text-align: right;\n",
       "    }\n",
       "\n",
       "    .dataframe thead th {\n",
       "        text-align: left;\n",
       "    }\n",
       "\n",
       "    .dataframe tbody tr th {\n",
       "        vertical-align: top;\n",
       "    }\n",
       "</style>\n",
       "<table border=\"1\" class=\"dataframe\">\n",
       "  <thead>\n",
       "    <tr style=\"text-align: right;\">\n",
       "      <th></th>\n",
       "      <th>Year</th>\n",
       "      <th>Month</th>\n",
       "      <th>Day</th>\n",
       "      <th>SL</th>\n",
       "    </tr>\n",
       "  </thead>\n",
       "  <tbody>\n",
       "    <tr>\n",
       "      <th>13</th>\n",
       "      <td>1913</td>\n",
       "      <td>2</td>\n",
       "      <td>2</td>\n",
       "      <td>1409.0</td>\n",
       "    </tr>\n",
       "    <tr>\n",
       "      <th>41</th>\n",
       "      <td>1913</td>\n",
       "      <td>3</td>\n",
       "      <td>2</td>\n",
       "      <td>1397.0</td>\n",
       "    </tr>\n",
       "    <tr>\n",
       "      <th>72</th>\n",
       "      <td>1913</td>\n",
       "      <td>4</td>\n",
       "      <td>2</td>\n",
       "      <td>1402.0</td>\n",
       "    </tr>\n",
       "    <tr>\n",
       "      <th>102</th>\n",
       "      <td>1913</td>\n",
       "      <td>5</td>\n",
       "      <td>2</td>\n",
       "      <td>1450.0</td>\n",
       "    </tr>\n",
       "    <tr>\n",
       "      <th>133</th>\n",
       "      <td>1913</td>\n",
       "      <td>6</td>\n",
       "      <td>2</td>\n",
       "      <td>1490.0</td>\n",
       "    </tr>\n",
       "  </tbody>\n",
       "</table>\n",
       "</div>"
      ],
      "text/plain": [
       "     Year  Month  Day      SL\n",
       "13   1913      2    2  1409.0\n",
       "41   1913      3    2  1397.0\n",
       "72   1913      4    2  1402.0\n",
       "102  1913      5    2  1450.0\n",
       "133  1913      6    2  1490.0"
      ]
     },
     "execution_count": 8,
     "metadata": {},
     "output_type": "execute_result"
    }
   ],
   "source": [
    "def calc_fill(df):\n",
    "    \"\"\"\n",
    "    Doing some plotting to figure out what the fill value is.\n",
    "    \"\"\"\n",
    "    #ax = df.hist(column=\"SL\", bins = 100)\n",
    "    \"\"\"\n",
    "    Looks like it is a minimum in the data set. \n",
    "    \"\"\"\n",
    "    return df.min()[\"SL\"]\n",
    "    \n",
    "\n",
    "def clean_data(df):\n",
    "    fill = calc_fill(df)\n",
    "    print(\"Fill value: {}\".format(fill))\n",
    "    df = df.replace(fill, np.nan)\n",
    "    df = df.dropna()\n",
    "    df = df[df[\"Day\"] == 2]\n",
    "    return df\n",
    "\n",
    "\n",
    "dfClean = clean_data(dfSL)\n",
    "dfClean.head()"
   ]
  },
  {
   "cell_type": "markdown",
   "metadata": {},
   "source": [
    "My `clean_data` method first calculates the fill value. The fill value is -32767, a value far below the others in the data set and obtainable with the `min()` function. This was determined via visual inspection of a histogram of the data."
   ]
  },
  {
   "cell_type": "markdown",
   "metadata": {},
   "source": [
    "\n",
    "\n",
    "**Part B:**  Plot the cleaned time series of sea levels. Be sure to label your axes, including units. The UHSLC data portal includes a link to the metadata accompanying our data set; if you are not sure about units, that would be a good place to start looking. For the $x$-axis, place the $x$ tick marks on January 2 of each year that is divisible by 10 (i.e., 1920, 1930, ...), and label with that year. You may need to do additional processing in order to grab these indices. \n",
    "\n",
    "**Bonus challenge (0 points):**  Why did I choose to work with the second day of each month instead of the first?  You may need to look at the original data set to answer this."
   ]
  },
  {
   "cell_type": "code",
   "execution_count": 9,
   "metadata": {},
   "outputs": [
    {
     "data": {
      "image/png": "[encoded data removed]",
      "text/plain": [
       "<matplotlib.figure.Figure at 0x7f7a32aea7b8>"
      ]
     },
     "metadata": {},
     "output_type": "display_data"
    }
   ],
   "source": [
    "# Units are millimeters\n",
    "ax = dfClean[\"SL\"].plot.line(figsize=(15,10))\n",
    "label_locs = []\n",
    "labels = []\n",
    "idx = 0\n",
    "while idx < len(dfClean):\n",
    "    item = dfClean.iloc[idx]\n",
    "    if item[\"Year\"] % 10 == 0 and item[\"Month\"] == 1:\n",
    "        label_locs.append(item.name) # Line plot is by Pandas index ok sure\n",
    "        labels.append(\"January 2, \" + str(int(item[\"Year\"])))\n",
    "    idx += 1\n",
    "    \n",
    "ax.set_xticks(label_locs);\n",
    "ax.set_xticklabels(labels);\n",
    "ax.grid();\n",
    "ax.tick_params(axis='x', rotation=45);\n",
    "ax.set_title(\"Sea Level over Time (1913-2016)\");\n",
    "ax.set_xlabel(\"Date\");\n",
    "ax.set_ylabel(\"Sea Level above Reference (mm)\");"
   ]
  },
  {
   "cell_type": "markdown",
   "metadata": {},
   "source": [
    "Indices for the second of January each year are grabbed with a loop over all elements. The second day of each month was choosen because the first of the year did not alway have data associated with it."
   ]
  },
  {
   "cell_type": "markdown",
   "metadata": {},
   "source": [
    "**Part C:** Use your cleaned sea levels data frame to create two new Pandas data frames or series:\n",
    "1. one object to contain the sea levels between (and including) the years 1986 and 1995, and\n",
    "2. another object to contain the sea levels between (and including) the years 2006 and 2015.\n",
    "\n",
    "Then, create a single-panel figure that includes density histograms of each decade of sea levels. Be sure to label everything appropriately.\n",
    "\n",
    "Finally, based on the data in front of you, formulate and state a hypothesis about how the mean sea level in the decade 2006-2015 compares to the mean sea level in the decade 1986-1995."
   ]
  },
  {
   "cell_type": "code",
   "execution_count": 10,
   "metadata": {},
   "outputs": [
    {
     "data": {
      "image/png": "[encoded data removed]",
      "text/plain": [
       "<matplotlib.figure.Figure at 0x7f79f7e65940>"
      ]
     },
     "metadata": {},
     "output_type": "display_data"
    }
   ],
   "source": [
    "def tanner_flavored_histogram(data_arr, lower, upper, bin_width, density=True, fwidth=1, \\\n",
    "                              legend_labels=(), xlabel='x', ylabel='Frequency', title='Histogram'):\n",
    "    \"\"\"\n",
    "    I really don't like the default histogram plotting so I made a better version.\n",
    "    \n",
    "    data_arr: vector of data sets you wish to plot.\n",
    "    lower: lower bound to plot\n",
    "    upper: upper bound to plot\n",
    "    bin_width: width of each bin\n",
    "    density: make it a density plot or nah\n",
    "    fwidth: width that the bars take up within a bin\n",
    "    legend_labels: legend bits\n",
    "    \n",
    "    The rest is self explanatory\n",
    "    \n",
    "    \"\"\"\n",
    "    plt.figure(figsize=(15,10))\n",
    "    n_bins = int((upper-lower)/bin_width)\n",
    "    \n",
    "    nelem = np.shape(data_arr)[0]\n",
    "    for elem in range(0, nelem):\n",
    "        data = data_arr[elem]\n",
    "        hist, edges = np.histogram(data, bins=n_bins, range=(lower,upper))\n",
    "        histd = hist\n",
    "        if density:\n",
    "            histd = hist/np.sum(hist)\n",
    "            \n",
    "        left_edges = edges[:(len(edges)-1)]\n",
    "        filled_width = bin_width * fwidth\n",
    "        individual_width = filled_width/nelem\n",
    "        bins = left_edges + (bin_width-filled_width/2) + individual_width*elem\n",
    "        \n",
    "        plt.bar(bins, histd, width=individual_width, align='edge')\n",
    "        \n",
    "    plt.legend(legend_labels)\n",
    "    plt.grid()\n",
    "    plt.gca().set_axisbelow(True)\n",
    "    plt.xlabel(xlabel)\n",
    "    plt.ylabel(ylabel)\n",
    "    plt.title(title)\n",
    "    plt.xticks(edges+bin_width/2, edges.astype('int').astype('str'))\n",
    "    plt.xlim((lower,upper))\n",
    "    plt.show();\n",
    "\n",
    "\n",
    "# Selection\n",
    "dfMillenials = dfClean.loc[dfClean[\"Year\"] >= 1986]\n",
    "dfMillenials = dfMillenials.loc[dfMillenials[\"Year\"] <= 1995]\n",
    "\n",
    "dfGenZ = dfClean.loc[dfClean[\"Year\"] >= 2006]\n",
    "dfGenZ = dfGenZ.loc[dfGenZ[\"Year\"] <= 2015]\n",
    "\n",
    "arrMillenials = dfMillenials[\"SL\"].values\n",
    "arrGenZ = dfGenZ[\"SL\"].values    \n",
    "\n",
    "# Plotting\n",
    "a = [arrMillenials, arrGenZ]\n",
    "\n",
    "tanner_flavored_histogram(a, 1400, 2100, 50, density=True, fwidth=0.8, \\\n",
    "                          legend_labels=(\"1986-1995\",\"2006-2015\"),  \\\n",
    "                          xlabel='Sea Level (mm)', ylabel='Density', \\\n",
    "                          title='Sea Level During Selected Years Density Plot');"
   ]
  },
  {
   "cell_type": "markdown",
   "metadata": {},
   "source": [
    "I hypothesize that the mean sea level in the time between 2006 and 2015 was higher than the mean sea level between 1986 and 1995. The null hypothesis to this alternative is that there is no difference between the sea levels.\n",
    "\n",
    "To explain the code above, I first select the sea levels from the proper years and save the values into arrays. Then I pass the data to a custom histogram function of mine that handles the plotting."
   ]
  },
  {
   "cell_type": "markdown",
   "metadata": {},
   "source": [
    "**Part D:** Compute a 99.9% confidence interval for each of (1) the mean sea level in the 1986-1995 decade ($\\mu_{1986-1995}$) and (2) the mean sea level in the 2006-2015 decade ($\\mu_{2006-2015}$).  You may use Python for arithmetic operations and executing the calculations, but the relevant steps/set-up should be displayed in Markdown/MathJax.\n",
    "\n",
    "Based on these two confidence intervals, do you think there is sufficient evidence to conclude that there is or is not a significant difference in the mean sea level between 1986-1995 and 2006-2015? Justify your answer. "
   ]
  },
  {
   "cell_type": "markdown",
   "metadata": {},
   "source": [
    "To find the 99.9% confidence intervals for the mean sea level in each time range, a few parameters are needed. First, a critical value for $z_{\\alpha / 2}$ is calculated using `scipy.stats.norm.ppf()`. We want the value critical value such that 99.95% of the area of the graph is left of $z_{\\alpha / 2}$. This value turns out to be 3.291.\n",
    "\n",
    "Then, the means of each time period are calculated, $\\mu_{1986-1995}$ and $\\mu_{2006-2015}$. These values are 1,670 mm and 1,720 mm, respectively. \n",
    "\n",
    "Next, the number of elements in each date range are computed, $n$ and $m$, corresponding to 1986-1995 and 2006-2015, respectively. There are 120 elements in the former range, and 118 in the latter. \n",
    "\n",
    "Third, variances for each range are computed with one degree of freedom. The variances for each decade are 9,703 mm$^2$ and 12,062 mm$^2$. \n",
    "\n",
    "Finally, the confidence intervals are calculated with the following formulas:\n",
    "\n",
    "$$\n",
    "\\begin{equation*}\n",
    "    \\bar{x}_{1986-1995} - z_{\\alpha / 2} \\sqrt{\\frac{\\sigma_{1986-1995}^2}{n}} \\leq \\mu_{1986-1995} \\leq \\bar{x}_{1986-1995} + z_{\\alpha / 2} \\sqrt{\\frac{\\sigma_{1986-1995}^2}{n}} \\\\\n",
    "    \\bar{x}_{2006-2015} - z_{\\alpha / 2} \\sqrt{\\frac{\\sigma_{2006-2015}^2}{m}} \\leq \\mu_{2006-2015} \\leq \\bar{x}_{2006-2015} + z_{\\alpha / 2} \\sqrt{\\frac{\\sigma_{2006-2015}^2}{m}}\n",
    "\\end{equation*}\n",
    "$$\n",
    "\n",
    "The confidence intervals end up being [1640.985, 1700.165] mm and [1687.409, 1753.947] mm. Since they overlap, I do not think there is sufficient evidence from these calculations to conclude that there is a significant difference in sea level."
   ]
  },
  {
   "cell_type": "code",
   "execution_count": 45,
   "metadata": {
    "scrolled": true
   },
   "outputs": [
    {
     "name": "stdout",
     "output_type": "stream",
     "text": [
      "z: 3.291\n",
      "Means: 1670.575, 1720.678\n",
      "Counts: 120.000, 118.000\n",
      "Variances: 9703.440, 12062.494\n",
      "0.999 CI for 1986-1995: [1640.985, 1700.165]\n",
      "0.999 CI for 2006-2015: [1687.409, 1753.947]\n"
     ]
    }
   ],
   "source": [
    "alpha = 0.999\n",
    "z_alpha2 = stats.norm.ppf(alpha + (1-alpha)/2)\n",
    "\n",
    "print(\"z: {:0.3f}\".format(z_alpha2))\n",
    "\n",
    "millenialMean = arrMillenials.mean()\n",
    "genZMean = arrGenZ.mean()\n",
    "\n",
    "print(\"Means: {0:0.3f}, {1:0.3f}\".format(millenialMean, genZMean))\n",
    "\n",
    "nMillenials = len(arrMillenials)\n",
    "nGenZ = len(arrGenZ)\n",
    "\n",
    "print(\"Counts: {0:0.3f}, {1:0.3f}\".format(nMillenials, nGenZ))\n",
    "\n",
    "millenialVar = arrMillenials.var(ddof=1)\n",
    "genZVar = arrGenZ.var(ddof=1)\n",
    "\n",
    "print(\"Variances: {0:0.3f}, {1:0.3f}\".format(millenialVar, genZVar))\n",
    "\n",
    "ciMillenial = z_alpha2*math.sqrt(millenialVar/nMillenials)\n",
    "ciGenZ = z_alpha2*math.sqrt(genZVar/nGenZ)\n",
    "print(\"{0:0.3f} CI for 1986-1995: [{1:0.3f}, {2:0.3f}]\".format(alpha, millenialMean - ciMillenial, \\\n",
    "                                                               millenialMean + ciMillenial))\n",
    "print(\"{0:0.3f} CI for 2006-2015: [{1:0.3f}, {2:0.3f}]\".format(alpha, genZMean - ciGenZ, \\\n",
    "                                                               genZMean + ciGenZ))"
   ]
  },
  {
   "cell_type": "markdown",
   "metadata": {},
   "source": [
    "**Part E:**  Compute a 99.9% confidence interval for the ***difference in mean sea level*** between the 2006-2015 and the 1986-1995 decades ($\\mu_{2006-2015} - \\mu_{1986-1995}$. Based on this, make a conclusion regarding your hypothesis from **Part C**, and compare to what your results in **Part D** implied. You may use Python for arithmetic operations and executing the calculations, but the relevant steps/set-up should be displayed in Markdown/MathJax."
   ]
  },
  {
   "cell_type": "markdown",
   "metadata": {},
   "source": [
    "Very similar calulcations are carried out for this part as in Part D. The only differences are the confidence interval is for the difference between the means $\\mu_{1986-1995} - \\mu_{2006-2015}$ and that the term with the square root incorporates variances from both date ranges. The full expression is below.\n",
    "\n",
    "$$\n",
    "\\begin{equation*}\n",
    "    \\bar{y} - z_{\\alpha / 2} \\sqrt{\\frac{\\sigma_{1986-1995}^2}{n} + \\frac{\\sigma_{1986-1995}^2}{n}} \\leq \\delta \\leq \\bar{y} + z_{\\alpha / 2} \\sqrt{\\frac{\\sigma_{1986-1995}^2}{n} + \\frac{\\sigma_{1986-1995}^2}{n}}\n",
    "\\end{equation*} \\\\ \n",
    "    \\bar{y} = \\bar{x}_{1986-1995} - \\bar{x}_{2006-2015} \\\\\n",
    "    \\delta = \\mu_{1986-1995} - \\mu_{2006-2015}\n",
    "$$"
   ]
  },
  {
   "cell_type": "code",
   "execution_count": 33,
   "metadata": {},
   "outputs": [
    {
     "name": "stdout",
     "output_type": "stream",
     "text": [
      "0.999 CI for difference between means: [5.579, 94.627]\n"
     ]
    }
   ],
   "source": [
    "y_bar = abs(millenialMean - genZMean)\n",
    "ci = z_alpha2 * math.sqrt(millenialVar/nMillenials + genZVar/nGenZ)\n",
    "print(\"{0:0.3f} CI for difference between means: [{1:0.3f}, {2:0.3f}]\".format(alpha, y_bar - ci, y_bar + ci))"
   ]
  },
  {
   "cell_type": "markdown",
   "metadata": {},
   "source": [
    "Based on these calculations, we can be 99.9% certain that the difference in the mean sea level in the two date ranges is between 5.579 mm and 94.627 mm. Because this interval does not include zero, we fail to reject the null hypothesis proposed in Part C that there is no change in sea level. Additionally, this provides evidence in addition to the calculations done in Part D that do allow for consideration of the alternative hypothesis. In Part D, since the CIs for the means overlapped, no conclusion could be drawn. The differences in the means done here, however, tell a different story."
   ]
  },
  {
   "cell_type": "markdown",
   "metadata": {},
   "source": [
    "**Part F:**  The confidence intervals from **Parts D** and **E** were derived using the Central Limit Theorem.  Which assumption of the Central Limit Theorem would likely be violated if we took more than one measurement per month to form our samples, and why?"
   ]
  },
  {
   "cell_type": "markdown",
   "metadata": {},
   "source": [
    "The assumption that samples were independent may be violated if more than one sample was taken. This is because within a month, cycles such as the moon's orbit, tides, weather, etc. may influence the sea level and correlate samples. Then, the CLT could not be deployed."
   ]
  },
  {
   "cell_type": "markdown",
   "metadata": {},
   "source": [
    "---\n",
    "\n",
    "<a id='p2'></a>\n",
    "[Back to top](#top)\n",
    "\n",
    "### [25 points] Problem 2 - Quality of Red vs White Wine \n",
    "\n",
    "**Part A:** Load the data in [`winequalityred.csv`](https://piazza.com/class_profile/get_resource/jhaqogsdelf76h/jixzm1ebc6q6ye) and [`winequalitywhite.csv`](https://piazza.com/class_profile/get_resource/jhaqogsdelf76h/jixzm17x9pu6y9) into Pandas DataFrames.  They are available under Resources on Piazza, and linked here and below.  A description of this dataset can be found on [UC Irvine's Machine Learning Repository](https://archive.ics.uci.edu/ml/datasets/Wine+Quality). The quantity of interest for this problem is the quality of the wine.\n",
    "\n",
    "Are we justified in using the Central Limit Theorem in our analysis of estimates of the mean and proportions of the data?  Justify your response. "
   ]
  },
  {
   "cell_type": "code",
   "execution_count": 36,
   "metadata": {
    "scrolled": true
   },
   "outputs": [
    {
     "data": {
      "text/html": [
       "<div>\n",
       "<style>\n",
       "    .dataframe thead tr:only-child th {\n",
       "        text-align: right;\n",
       "    }\n",
       "\n",
       "    .dataframe thead th {\n",
       "        text-align: left;\n",
       "    }\n",
       "\n",
       "    .dataframe tbody tr th {\n",
       "        vertical-align: top;\n",
       "    }\n",
       "</style>\n",
       "<table border=\"1\" class=\"dataframe\">\n",
       "  <thead>\n",
       "    <tr style=\"text-align: right;\">\n",
       "      <th></th>\n",
       "      <th>fixed acidity</th>\n",
       "      <th>volatile acidity</th>\n",
       "      <th>citric acid</th>\n",
       "      <th>residual sugar</th>\n",
       "      <th>chlorides</th>\n",
       "      <th>free sulfur dioxide</th>\n",
       "      <th>total sulfur dioxide</th>\n",
       "      <th>density</th>\n",
       "      <th>pH</th>\n",
       "      <th>sulphates</th>\n",
       "      <th>alcohol</th>\n",
       "      <th>quality</th>\n",
       "    </tr>\n",
       "  </thead>\n",
       "  <tbody>\n",
       "    <tr>\n",
       "      <th>0</th>\n",
       "      <td>7.4</td>\n",
       "      <td>0.70</td>\n",
       "      <td>0.00</td>\n",
       "      <td>1.9</td>\n",
       "      <td>0.076</td>\n",
       "      <td>11.0</td>\n",
       "      <td>34.0</td>\n",
       "      <td>0.9978</td>\n",
       "      <td>3.51</td>\n",
       "      <td>0.56</td>\n",
       "      <td>9.4</td>\n",
       "      <td>5</td>\n",
       "    </tr>\n",
       "    <tr>\n",
       "      <th>1</th>\n",
       "      <td>7.8</td>\n",
       "      <td>0.88</td>\n",
       "      <td>0.00</td>\n",
       "      <td>2.6</td>\n",
       "      <td>0.098</td>\n",
       "      <td>25.0</td>\n",
       "      <td>67.0</td>\n",
       "      <td>0.9968</td>\n",
       "      <td>3.20</td>\n",
       "      <td>0.68</td>\n",
       "      <td>9.8</td>\n",
       "      <td>5</td>\n",
       "    </tr>\n",
       "    <tr>\n",
       "      <th>2</th>\n",
       "      <td>7.8</td>\n",
       "      <td>0.76</td>\n",
       "      <td>0.04</td>\n",
       "      <td>2.3</td>\n",
       "      <td>0.092</td>\n",
       "      <td>15.0</td>\n",
       "      <td>54.0</td>\n",
       "      <td>0.9970</td>\n",
       "      <td>3.26</td>\n",
       "      <td>0.65</td>\n",
       "      <td>9.8</td>\n",
       "      <td>5</td>\n",
       "    </tr>\n",
       "    <tr>\n",
       "      <th>3</th>\n",
       "      <td>11.2</td>\n",
       "      <td>0.28</td>\n",
       "      <td>0.56</td>\n",
       "      <td>1.9</td>\n",
       "      <td>0.075</td>\n",
       "      <td>17.0</td>\n",
       "      <td>60.0</td>\n",
       "      <td>0.9980</td>\n",
       "      <td>3.16</td>\n",
       "      <td>0.58</td>\n",
       "      <td>9.8</td>\n",
       "      <td>6</td>\n",
       "    </tr>\n",
       "    <tr>\n",
       "      <th>4</th>\n",
       "      <td>7.4</td>\n",
       "      <td>0.70</td>\n",
       "      <td>0.00</td>\n",
       "      <td>1.9</td>\n",
       "      <td>0.076</td>\n",
       "      <td>11.0</td>\n",
       "      <td>34.0</td>\n",
       "      <td>0.9978</td>\n",
       "      <td>3.51</td>\n",
       "      <td>0.56</td>\n",
       "      <td>9.4</td>\n",
       "      <td>5</td>\n",
       "    </tr>\n",
       "  </tbody>\n",
       "</table>\n",
       "</div>"
      ],
      "text/plain": [
       "   fixed acidity  volatile acidity  citric acid  residual sugar  chlorides  \\\n",
       "0            7.4              0.70         0.00             1.9      0.076   \n",
       "1            7.8              0.88         0.00             2.6      0.098   \n",
       "2            7.8              0.76         0.04             2.3      0.092   \n",
       "3           11.2              0.28         0.56             1.9      0.075   \n",
       "4            7.4              0.70         0.00             1.9      0.076   \n",
       "\n",
       "   free sulfur dioxide  total sulfur dioxide  density    pH  sulphates  \\\n",
       "0                 11.0                  34.0   0.9978  3.51       0.56   \n",
       "1                 25.0                  67.0   0.9968  3.20       0.68   \n",
       "2                 15.0                  54.0   0.9970  3.26       0.65   \n",
       "3                 17.0                  60.0   0.9980  3.16       0.58   \n",
       "4                 11.0                  34.0   0.9978  3.51       0.56   \n",
       "\n",
       "   alcohol  quality  \n",
       "0      9.4        5  \n",
       "1      9.8        5  \n",
       "2      9.8        5  \n",
       "3      9.8        6  \n",
       "4      9.4        5  "
      ]
     },
     "execution_count": 36,
     "metadata": {},
     "output_type": "execute_result"
    }
   ],
   "source": [
    "# read either local or web file version; pick whichever works for you\n",
    "local_file_white = \"../../data/winequalitywhite.csv\"\n",
    "local_file_red   = \"../../data/winequalityred.csv\"\n",
    "web_file_white = \"https://piazza.com/class_profile/get_resource/jhaqogsdelf76h/jixzm17x9pu6y9\"\n",
    "web_file_red   = \"https://piazza.com/class_profile/get_resource/jhaqogsdelf76h/jixzm1ebc6q6ye\"\n",
    "\n",
    "dfRed   = pd.read_csv(web_file_red, sep=';')\n",
    "dfWhite = pd.read_csv(web_file_white, sep=';')\n",
    "\n",
    "dfRed.head()"
   ]
  },
  {
   "cell_type": "markdown",
   "metadata": {},
   "source": [
    "Yes it is justified to use the CLT because we can assume that the quality of each wine does not affect the quality of the others when tasted. In addition, wines are sampled from the same distribution (wines of northern Portugal). Therefore, CLT applies because random samples are independent and identically distributed."
   ]
  },
  {
   "cell_type": "markdown",
   "metadata": {},
   "source": [
    "**Part B:** Let $X$ be a random variable denoting the quality of a bottle of wine, and let $C$ be a random variable denoting its color (either red ($r$) or white ($w$)). For the remainder of this problem, we are concerned with probabilities such as \"If I buy a random bottle of red wine, what is the probability that its quality is at least a 7?\". We could write that probability as $P(X \\geq 7 \\mid C=r)$, for example, and consider it the ***proportion*** of the population of red wines that are at least a 7 in quality. Calculate and report estimates of $P(X \\geq 7 \\mid C=r)$ and $P(X \\geq 7 \\mid C=w)$.\n",
    "\n",
    "Obtain 95% confidence intervals for the proportion of red and white wines that are **at least** a 7 in quality (obtain one CI for each color).  Based on your results, if you are interested in buying many high quality bottles of wine but are buying totally at random, is one color a better bet than the other? Fully justify your answer.\n",
    "\n",
    "Calculations may be executed in Python, but you need to set up your work (*what* it is you are calculating) in Markdown/MathJax."
   ]
  },
  {
   "cell_type": "markdown",
   "metadata": {},
   "source": [
    "The first step is to isolate the proportion of wines which have a quality of seven or more for each color. "
   ]
  },
  {
   "cell_type": "code",
   "execution_count": 65,
   "metadata": {},
   "outputs": [
    {
     "name": "stdout",
     "output_type": "stream",
     "text": [
      "Counts: 1599.000, 4898.000\n",
      "Proportion of red wine with quality >= 7: 0.136\n",
      "Proportion of white wine with quality >= 7: 0.216\n"
     ]
    }
   ],
   "source": [
    "dfGoodRed = dfRed.loc[dfRed[\"quality\"] >= 7]\n",
    "dfGoodWhite = dfWhite.loc[dfWhite[\"quality\"] >= 7]\n",
    "\n",
    "nr = len(dfRed)\n",
    "nw = len(dfWhite)\n",
    "\n",
    "print(\"Counts: {0:0.3f}, {1:0.3f}\".format(nr, nw))\n",
    "\n",
    "pRed = len(dfGoodRed)/nr\n",
    "pWhite = len(dfGoodWhite)/nw\n",
    "\n",
    "print(\"Proportion of red wine with quality >= 7: {:0.3f}\".format(pRed))\n",
    "print(\"Proportion of white wine with quality >= 7: {:0.3f}\".format(pWhite))"
   ]
  },
  {
   "cell_type": "markdown",
   "metadata": {},
   "source": [
    "So, we estimate $P(X \\geq 7 \\, | \\, C = r) \\approx 0.136$ and $P(X \\geq 7 \\, | \\, C = w) \\approx 0.216$.\n",
    "\n",
    "Now, we calculate the variance in the proportion estimator."
   ]
  },
  {
   "cell_type": "code",
   "execution_count": 66,
   "metadata": {},
   "outputs": [
    {
     "name": "stdout",
     "output_type": "stream",
     "text": [
      "Variance of red wine with quality >= 7: 7.335e-05\n",
      "Variance of white wine with quality >= 7: 3.462e-05\n"
     ]
    }
   ],
   "source": [
    "vRed = (pRed*(1-pRed))/nr\n",
    "vWhite = (pWhite*(1-pWhite))/nw\n",
    "\n",
    "print(\"Variance of red wine with quality >= 7: {:0.3e}\".format(vRed))\n",
    "print(\"Variance of white wine with quality >= 7: {:0.3e}\".format(vWhite))"
   ]
  },
  {
   "cell_type": "markdown",
   "metadata": {},
   "source": [
    "Finally, we find the critical value for the 95% confidence interval."
   ]
  },
  {
   "cell_type": "code",
   "execution_count": 67,
   "metadata": {},
   "outputs": [
    {
     "name": "stdout",
     "output_type": "stream",
     "text": [
      "Critical Value: 1.960\n"
     ]
    }
   ],
   "source": [
    "alpha = 0.95\n",
    "z_alpha2 = stats.norm.ppf(alpha + (1-alpha)/2)\n",
    "\n",
    "print(\"Critical Value: {:0.3f}\".format(z_alpha2))"
   ]
  },
  {
   "cell_type": "markdown",
   "metadata": {},
   "source": [
    "Now, we can calculate the confidence interval itself."
   ]
  },
  {
   "cell_type": "code",
   "execution_count": 68,
   "metadata": {},
   "outputs": [
    {
     "name": "stdout",
     "output_type": "stream",
     "text": [
      "0.950 CI for red wine quality: [0.1189, 0.1525]\n",
      "0.950 CI for white wine quality: [0.2049, 0.2279]\n"
     ]
    }
   ],
   "source": [
    "ciRed = [pRed - z_alpha2 * math.sqrt(vRed), pRed + z_alpha2 * math.sqrt(vRed)]\n",
    "ciWhite = [pWhite - z_alpha2 * math.sqrt(vWhite), pWhite + z_alpha2 * math.sqrt(vWhite)]\n",
    "\n",
    "print(\"{0:0.3f} CI for red wine quality: [{1:0.4f}, {2:0.4f}]\".format(alpha, ciRed[0], ciRed[1]))\n",
    "print(\"{0:0.3f} CI for white wine quality: [{1:0.4f}, {2:0.4f}]\".format(alpha, ciWhite[0], ciWhite[1]))"
   ]
  },
  {
   "cell_type": "markdown",
   "metadata": {},
   "source": [
    "Based on these confidence intervals, it is reasonable to conclude that if one is interested in buying high-quality wines at random, they should purchase white wines. The white wines have a higher proportion of high-quality wines and the confidence intervals for the proportions of high quality wines for each color does not come close to overlapping at the 95% confidence level."
   ]
  },
  {
   "cell_type": "markdown",
   "metadata": {},
   "source": [
    "**Part C:** Now, as college students (and teachers), we might not be super concerned with buying a really high quality bottle of wine.  In fact, you might be confused about what these \"bottles\" this problem is referring to are... don't we mean \"bags\"?  But I digress.  Let's focus instead on making sure we do *not* buy a really disgusting bottle of wine.  Calculate and report estimates of $P(X \\geq 5 \\mid C=r)$ and $P(X \\geq 5 \\mid C=w)$.\n",
    "\n",
    "Obtain two 95% confidence intervals, one for the proportion of red wines and one for white wines, that are **at least** a 5 in quality, that is, $P(X \\geq 5 \\mid C)$.  Based on your results - and what you saw in Problem 1 - if you are interested in buying bottles of wine that are at least a 5 in quality, but are again buying wine totally randomly, can you conclude that you are better off buying one color over the other? Fully justify your answer."
   ]
  },
  {
   "cell_type": "markdown",
   "metadata": {},
   "source": [
    "The first step is to aggresively deploy CTRL+C and CTRL+V from Part B. The same calculations are carried out but now wines with a quality greater than or equal to 5 are isolated."
   ]
  },
  {
   "cell_type": "code",
   "execution_count": 69,
   "metadata": {},
   "outputs": [
    {
     "name": "stdout",
     "output_type": "stream",
     "text": [
      "Counts: 1599.000, 4898.000\n",
      "Proportion of red wine with quality >= 5: 0.961\n",
      "Proportion of white wine with quality >= 5: 0.963\n",
      "Variance of red wine with quality >= 5: 2.367e-05\n",
      "Variance of white wine with quality >= 5: 7.343e-06\n",
      "Critical Value: 1.960\n",
      "0.950 CI for red wine quality: [0.9511, 0.9701]\n",
      "0.950 CI for white wine quality: [0.9573, 0.9679]\n"
     ]
    }
   ],
   "source": [
    "dfGoodRed = dfRed.loc[dfRed[\"quality\"] >= 5]\n",
    "dfGoodWhite = dfWhite.loc[dfWhite[\"quality\"] >= 5]\n",
    "\n",
    "nr = len(dfRed)\n",
    "nw = len(dfWhite)\n",
    "\n",
    "print(\"Counts: {0:0.3f}, {1:0.3f}\".format(nr, nw))\n",
    "\n",
    "pRed = len(dfGoodRed)/nr\n",
    "pWhite = len(dfGoodWhite)/nw\n",
    "\n",
    "print(\"Proportion of red wine with quality >= 5: {:0.3f}\".format(pRed))\n",
    "print(\"Proportion of white wine with quality >= 5: {:0.3f}\".format(pWhite))\n",
    "\n",
    "vRed = (pRed*(1-pRed))/nr\n",
    "vWhite = (pWhite*(1-pWhite))/nw\n",
    "\n",
    "print(\"Variance of red wine with quality >= 5: {:0.3e}\".format(vRed))\n",
    "print(\"Variance of white wine with quality >= 5: {:0.3e}\".format(vWhite))\n",
    "\n",
    "alpha = 0.95\n",
    "z_alpha2 = stats.norm.ppf(alpha + (1-alpha)/2)\n",
    "\n",
    "print(\"Critical Value: {:0.3f}\".format(z_alpha2))\n",
    "\n",
    "ciRed = [pRed - z_alpha2 * math.sqrt(vRed), pRed + z_alpha2 * math.sqrt(vRed)]\n",
    "ciWhite = [pWhite - z_alpha2 * math.sqrt(vWhite), pWhite + z_alpha2 * math.sqrt(vWhite)]\n",
    "\n",
    "print(\"{0:0.3f} CI for red wine quality: [{1:0.4f}, {2:0.4f}]\".format(alpha, ciRed[0], ciRed[1]))\n",
    "print(\"{0:0.3f} CI for white wine quality: [{1:0.4f}, {2:0.4f}]\".format(alpha, ciWhite[0], ciWhite[1]))"
   ]
  },
  {
   "cell_type": "markdown",
   "metadata": {},
   "source": [
    "Here we see that the proportion of of wines with a quality greater than or equal to 5 is approximately independent of color, about 96% of wines of either color had that quality or better. Specifically, the proportion of red wine with a quality $\\geq$5 is 0.961 and 0.963 for white.\n",
    "\n",
    "Interestingly, the confidence intervals for the proportion of each wine color with a quality $\\geq$5 overlap ([0.9511, 0.9701] for red and [0.9573, 0.9679] for white), so we cannot conclude that it is better to by one over another. Rather, we can only determine with 95% certainty that the proportion of wines with a quality $\\geq$5 is within those intervals for each color."
   ]
  },
  {
   "cell_type": "markdown",
   "metadata": {},
   "source": [
    "**Part D:** Compute a 95% confidence interval for the difference in proportions of red and white wines that are at least a 5 in quality. \n",
    "\n",
    "Now, based on your results for this part, can you conclude that you are better off buying one color over the other? Fully justify your answer. How does your work here differ from your work in **Part C**?"
   ]
  },
  {
   "cell_type": "code",
   "execution_count": 71,
   "metadata": {},
   "outputs": [
    {
     "name": "stdout",
     "output_type": "stream",
     "text": [
      "0.950 CI for difference in quality: [-0.0089, 0.0130]\n"
     ]
    }
   ],
   "source": [
    "pDiff = abs(pRed - pWhite)\n",
    "scale = z_alpha2 * math.sqrt(vRed + vWhite)\n",
    "ci = [pDiff - scale, pDiff + scale]\n",
    "print(\"{0:0.3f} CI for difference in quality: [{1:0.4f}, {2:0.4f}]\".format(alpha, ci[0], ci[1]))"
   ]
  },
  {
   "cell_type": "markdown",
   "metadata": {},
   "source": [
    "The resulting confidence interval from computing the difference in proportions of $\\geq$5 quality wine between the wine colors agrees with Part C. We cannot conclude that it is better to buy one color over another because the 95% confidence interval includes zero, so there may be no difference.\n",
    "\n",
    "The work here is difference from Part C because it concerns the difference in proportions itself rather than each proportion individually. This allows for a more rigorous comparison between populations."
   ]
  },
  {
   "cell_type": "markdown",
   "metadata": {},
   "source": [
    "**Part E:**  Now, we have many more observations of white wines than red. This certainly contributes to the width of the 95% confidence interval for the proportion of red wines that are at least a 5 in quality, which you should have found in **Part C** to be wider than the corresponding confidence interval for white wines. \n",
    "\n",
    "How large would our sample size of red wines need to be in order to guarantee that this 95% confidence interval width is at most 0.01? Note that we are hypothetically adding more samples, so we do not know the precise value of $\\hat{p}$."
   ]
  },
  {
   "cell_type": "markdown",
   "metadata": {},
   "source": [
    "The above problem can be expressed with the following inequality that compares the width of the confidence interval and the maximum width\n",
    "\n",
    "$$\n",
    "2 z_{\\alpha/2} \\sqrt{\\frac{p(1-p)}{n}} \\leq 0.01\n",
    "$$\n",
    "\n",
    "We know the value for $z_{\\alpha/2}$ and also that the max value for $p(1-p)$ is 0.25 at $p=0.5$. These facts allow the calculation of the maxmimum number of samples to have a CI width of 0.01.\n",
    "\n",
    "$$\n",
    "2 z_{\\alpha/2} \\sqrt{\\frac{p(1-p)}{n}} \\leq 0.01 \\qquad \\implies \\qquad n \\approx 38,416 \\, \\text{samples}\n",
    "$$\n",
    "\n",
    "The real value will likely be much lower since it is unlikely that the sample proportion would change significantly given more samples. Assuming it does not change significantly from $\\hat{p}_{quality\\,red}$, the above can be recalculated to about 5,759 samples for the red wine to have a CI width less than or equal to 0.01."
   ]
  },
  {
   "cell_type": "markdown",
   "metadata": {},
   "source": [
    "---\n",
    "\n",
    "<a id='p3'></a>\n",
    "[Back to top](#top)\n",
    "\n",
    "### [15 points] Problem 3:  Are you tired of re-doing the same confidence intervals calculation over and over again? Then this is the problem for you!\n",
    "\n",
    "Turns out, the mechanics of computing confidence intervals are fairly formulaic, once you get the hang of it.  If you have done the first two problems, I would say with 99% confidence that you are tired of copy-pasting code and putting in new data frames and numbers. So let's develop some flexible, generic software to do this for us. Yay computers!\n",
    "\n",
    "In order to test drive our software, we will use the [weather data set](https://piazza.com/class_profile/get_resource/jhaqogsdelf76h/jhzhwu02pxq4eq) from the in-class notebooks back in the beginning of the semester (and linked here).  Execute the code cell below to load the data, print out the valid site names, and view the first few lines, including the column headers."
   ]
  },
  {
   "cell_type": "code",
   "execution_count": 74,
   "metadata": {},
   "outputs": [
    {
     "name": "stdout",
     "output_type": "stream",
     "text": [
      "Site names are: {'RALSTON RESERVOIR, CO US', 'BOULDER 14 W, CO US', 'NORTHGLENN, CO US', 'GROSS RESERVOIR, CO US', 'BOULDER, CO US', 'NIWOT, CO US', 'SUGARLOAF COLORADO, CO US'}\n"
     ]
    },
    {
     "data": {
      "text/html": [
       "<div>\n",
       "<style>\n",
       "    .dataframe thead tr:only-child th {\n",
       "        text-align: right;\n",
       "    }\n",
       "\n",
       "    .dataframe thead th {\n",
       "        text-align: left;\n",
       "    }\n",
       "\n",
       "    .dataframe tbody tr th {\n",
       "        vertical-align: top;\n",
       "    }\n",
       "</style>\n",
       "<table border=\"1\" class=\"dataframe\">\n",
       "  <thead>\n",
       "    <tr style=\"text-align: right;\">\n",
       "      <th></th>\n",
       "      <th>STATION</th>\n",
       "      <th>NAME</th>\n",
       "      <th>DATE</th>\n",
       "      <th>PRCP</th>\n",
       "      <th>TMAX</th>\n",
       "      <th>TMIN</th>\n",
       "    </tr>\n",
       "  </thead>\n",
       "  <tbody>\n",
       "    <tr>\n",
       "      <th>0</th>\n",
       "      <td>USW00094075</td>\n",
       "      <td>BOULDER 14 W, CO US</td>\n",
       "      <td>2017-07-01</td>\n",
       "      <td>0.00</td>\n",
       "      <td>68.0</td>\n",
       "      <td>31.0</td>\n",
       "    </tr>\n",
       "    <tr>\n",
       "      <th>1</th>\n",
       "      <td>USW00094075</td>\n",
       "      <td>BOULDER 14 W, CO US</td>\n",
       "      <td>2017-07-02</td>\n",
       "      <td>0.00</td>\n",
       "      <td>73.0</td>\n",
       "      <td>35.0</td>\n",
       "    </tr>\n",
       "    <tr>\n",
       "      <th>2</th>\n",
       "      <td>USW00094075</td>\n",
       "      <td>BOULDER 14 W, CO US</td>\n",
       "      <td>2017-07-03</td>\n",
       "      <td>0.00</td>\n",
       "      <td>68.0</td>\n",
       "      <td>46.0</td>\n",
       "    </tr>\n",
       "    <tr>\n",
       "      <th>3</th>\n",
       "      <td>USW00094075</td>\n",
       "      <td>BOULDER 14 W, CO US</td>\n",
       "      <td>2017-07-04</td>\n",
       "      <td>0.05</td>\n",
       "      <td>68.0</td>\n",
       "      <td>43.0</td>\n",
       "    </tr>\n",
       "    <tr>\n",
       "      <th>4</th>\n",
       "      <td>USW00094075</td>\n",
       "      <td>BOULDER 14 W, CO US</td>\n",
       "      <td>2017-07-05</td>\n",
       "      <td>0.01</td>\n",
       "      <td>73.0</td>\n",
       "      <td>40.0</td>\n",
       "    </tr>\n",
       "  </tbody>\n",
       "</table>\n",
       "</div>"
      ],
      "text/plain": [
       "       STATION                 NAME        DATE  PRCP  TMAX  TMIN\n",
       "0  USW00094075  BOULDER 14 W, CO US  2017-07-01  0.00  68.0  31.0\n",
       "1  USW00094075  BOULDER 14 W, CO US  2017-07-02  0.00  73.0  35.0\n",
       "2  USW00094075  BOULDER 14 W, CO US  2017-07-03  0.00  68.0  46.0\n",
       "3  USW00094075  BOULDER 14 W, CO US  2017-07-04  0.05  68.0  43.0\n",
       "4  USW00094075  BOULDER 14 W, CO US  2017-07-05  0.01  73.0  40.0"
      ]
     },
     "execution_count": 74,
     "metadata": {},
     "output_type": "execute_result"
    }
   ],
   "source": [
    "# Two different paths to the data \n",
    "local_path = 'data/clean_boulder_weather.csv'\n",
    "web_path   = 'https://piazza.com/class_profile/get_resource/jhaqogsdelf76h/jhzhwu02pxq4eq'\n",
    "\n",
    "# Select the path that works for you \n",
    "file_path = web_path \n",
    "\n",
    "# Load the data into a DataFrame \n",
    "df = pd.read_csv(file_path)\n",
    "\n",
    "# View the site names\n",
    "print(\"Site names are:\",set(df[\"NAME\"]))\n",
    "\n",
    "df.head()"
   ]
  },
  {
   "cell_type": "markdown",
   "metadata": {},
   "source": [
    "**Your task:** Write a function called `ci_mean` with the following specifications.  You are **NOT** allowed to use this function for Problems 1 and 2, but are encouraged to use it to check your answers. You may use this function for Problem 4.\n",
    "\n",
    "**Code Specifications:**\n",
    "\n",
    "Arguments:\n",
    "* `x` -- A list, numpy array, or Pandas DataSeries (\"array-like object\") that constitutes the data we want a confidence interval for the mean of its population, $\\mu_x$.\n",
    "* `y` -- An optional argument with a default of `None`. Also an array-like object. If `y` is specified, then the function should return a confidence interval for the difference in means, $\\mu_x - \\mu_y$.\n",
    "* `sx` -- An optional argument with a default of `None`. If specified, `sx` is the true known standard deviation of the population of `x`.\n",
    "* `sy` -- An optional argument with a default of `None`. If specified, `sy` is the true known standard deviation of the population of `y`. If `sy` is specified but `y` is not, your code should proceed with computing a confidence interval for the mean of the `x` population only.\n",
    "* `alp` -- Tail area for the confidence interval (i.e., you want to calculate a $100(1-\\textrm{alp})\\%$ confidence interval). Should have a default value of $0.05$.\n",
    "\n",
    "Output:\n",
    "* `CI` -- A tuple giving the lower and upper confidence bounds for the $100(1-\\textrm{alp})\\%$ confidence interval.\n",
    "\n",
    "Required Output: show us output for the following\n",
    "* For NIWOT, CO US, use your `ci_mean` function to construct a 90% confidence interval for the mean July 2017 maximum temperatures, $\\mu_{niwot}$.\n",
    "* For BOULDER 14 W, CO US, use your `ci_mean` function to construct a 90% confidence interval for the mean July 2017 maximum temperatures, $\\mu_{boulder14}$. Based on your answers so far, can you conclude anything at the 90% confidence level about any differences in mean July 2017 daily maximum temperature in Niwot and Boulder 14 W?\n",
    "* Use your `ci_mean` function to compute a 90% confidence interval for the difference in mean July 2017 daily maximum temperature between NIWOT and BOULDER 14 W, $\\mu_{niwot} - \\mu_{boulder14}$. Can you conclude anything, at the 90% confidence level, about the difference in mean daily maximum temperature in July for the two sites?\n",
    "\n",
    "Unit Tests: not required, but encouraged\n",
    "* Check your answers to Problems 1 and 2.\n",
    "* Check your answers for the Required Output by hand.\n",
    "* Crowd-source some unit tests:  Check your answers for other combinations of the weather data sites and confidence levels with your peers on Piazza!\n",
    "* There is sizable probability that we will use other test cases to grade your code, including possibly other problems from this homework, and other sets of data. So your code must **not** be hard-coded to expect input from the weather data set."
   ]
  },
  {
   "cell_type": "code",
   "execution_count": 84,
   "metadata": {},
   "outputs": [
    {
     "name": "stdout",
     "output_type": "stream",
     "text": [
      "Niwot CI: (68.178, 71.500)\n",
      "Boulder CI: (67.209, 70.404)\n"
     ]
    }
   ],
   "source": [
    "def ci_mean(x, y=None, sx=None, sy=None, alp=0.05):\n",
    "    xbar = np.mean(x)\n",
    "    n = np.shape(x)[0]\n",
    "    var = xbar\n",
    "    \n",
    "    xvar = 0\n",
    "    if sx is not None:\n",
    "        xvar = sx\n",
    "    else:\n",
    "        xvar = np.var(x, ddof=1)\n",
    "    \n",
    "    z = stats.norm.ppf(1-alp/2)\n",
    "    \n",
    "    scale = 0\n",
    "    if y is not None:\n",
    "        ybar = np.mean(y)\n",
    "        m = np.shape(y)[0]\n",
    "        yvar = 0\n",
    "        if sy is not None:\n",
    "            yvar = sy\n",
    "        else:\n",
    "            yvar = np.var(y, ddof=1)\n",
    "        \n",
    "        var = abs(xbar-ybar)\n",
    "        scale = z*math.sqrt(xvar/n + yvar/m)\n",
    "    else:\n",
    "        scale = z*math.sqrt(xvar/n)\n",
    "        \n",
    "    return (var - scale, var + scale)\n",
    "\n",
    "\n",
    "julyNiwot = df[(df[\"NAME\"] == 'NIWOT, CO US') & (df[\"DATE\"] >= '2017-07-01') & (df[\"DATE\"] <= '2017-07-31')]\n",
    "ciNiwot = ci_mean(julyNiwot[\"TMAX\"], alp=0.1)\n",
    "print(\"Niwot CI: ({0:0.3f}, {1:0.3f})\".format(ciNiwot[0], ciNiwot[1]))\n",
    "julyBoulder = df[(df[\"NAME\"] == 'BOULDER 14 W, CO US') & (df[\"DATE\"] >= '2017-07-01') & (df[\"DATE\"] <= '2017-07-31')]\n",
    "ciBoulder = ci_mean(julyBoulder[\"TMAX\"], alp=0.1)\n",
    "print(\"Boulder CI: ({0:0.3f}, {1:0.3f})\".format(ciBoulder[0], ciBoulder[1]))"
   ]
  },
  {
   "cell_type": "markdown",
   "metadata": {},
   "source": [
    "Based on these calculations at the 90% confidence level we cannot conclude that the temperatures are difference because the confidence intervals overlap."
   ]
  },
  {
   "cell_type": "code",
   "execution_count": 85,
   "metadata": {},
   "outputs": [
    {
     "name": "stdout",
     "output_type": "stream",
     "text": [
      "CI of temperature difference: (-1.272, 3.336)\n"
     ]
    }
   ],
   "source": [
    "ciDiff = ci_mean(x=julyNiwot[\"TMAX\"], y=julyBoulder[\"TMAX\"], alp=0.1)\n",
    "print(\"CI of temperature difference: ({0:0.3f}, {1:0.3f})\".format(ciDiff[0], ciDiff[1]))"
   ]
  },
  {
   "cell_type": "markdown",
   "metadata": {},
   "source": [
    "The same conclusion is reached when computing the difference. The confidence interval for the difference in temperatures includes zero, so we cannot reject the null hypothesis that there is no difference in temperature."
   ]
  },
  {
   "cell_type": "markdown",
   "metadata": {},
   "source": [
    "---\n",
    "\n",
    "<a id='p4'></a>\n",
    "[Back to top](#top)\n",
    "\n",
    "### [30 points] Problem 4 - Exploring Confidence Intervals \n",
    "\n",
    "The [Gumbel](https://en.wikipedia.org/wiki/Gumbel_distribution) distribution is one of several distributions frequently used to model environmental extremes (for example, extreme temperatures and sea levels).  It is also fairly asymmetric, and thus interesting for investigating confidence intervals.  It is implemented in scipy.stats as [gumbel_r](https://docs.scipy.org/doc/scipy/reference/generated/scipy.stats.gumbel_r.html), where the appendix \"\\_r\" denotes the right-skewed version of the Gumbel distribution (as opposed to the left-skewed)."
   ]
  },
  {
   "cell_type": "markdown",
   "metadata": {},
   "source": [
    "**Part A**: Complete the following code cell to plot a histogram of 1,000 realizations from the Gumbel distribution with parameters $\\mu=8$ and $\\beta=2$.  Be sure to leave this cell executed before turning in your assignment!"
   ]
  },
  {
   "cell_type": "code",
   "execution_count": 95,
   "metadata": {},
   "outputs": [
    {
     "data": {
      "image/png": "[encoded data removed]",
      "text/plain": [
       "<matplotlib.figure.Figure at 0x7f79f60fa048>"
      ]
     },
     "metadata": {},
     "output_type": "display_data"
    }
   ],
   "source": [
    "mu = 8\n",
    "beta = 2\n",
    "n_sample = 1000\n",
    "x = stats.gumbel_r.rvs(loc=mu, scale=beta, size=n_sample)\n",
    "\n",
    "# fig, ax = plt.subplots(nrows=1, ncols=1, figsize=(8,4))\n",
    "\n",
    "# Deploy the function I made in problem 1.\n",
    "tanner_flavored_histogram([x], 0, 30, 1, density=True, fwidth=0.9, xlabel='x', ylabel='Frequency', title='Gumbel Distribution')"
   ]
  },
  {
   "cell_type": "markdown",
   "metadata": {},
   "source": [
    "**Part B:** Look up the analytical mean and variance of the Gumbel distribution with parameters $\\mu=8$ and $\\beta=2$ and calculate them here by hand.  Note that the Euler–Mascheroni constant can be accessed via `np.euler_gamma`. \n",
    "\n",
    "Use the empirical mean from your sample in **Part A**, and the true variance of the Gumbel distribution to compute by hand a 95% confidence interval for the mean.  Feel free to use your code from **Problem 3** here!"
   ]
  },
  {
   "cell_type": "markdown",
   "metadata": {},
   "source": [
    "The mean and variance are given by\n",
    "\n",
    "$$\n",
    "\\begin{align*}\n",
    "    \\mu &= \\alpha + \\gamma \\beta \\\\\n",
    "    \\sigma^2 &= \\frac{1}{6} \\pi^2 \\beta^2\n",
    "\\end{align*}\n",
    "$$\n",
    "\n",
    "where $\\gamma$ is the Euler-Mascheroni constant and $\\alpha$ is the location parameter.\n",
    "\n",
    "So, the mean is"
   ]
  },
  {
   "cell_type": "code",
   "execution_count": 102,
   "metadata": {},
   "outputs": [
    {
     "name": "stdout",
     "output_type": "stream",
     "text": [
      "9.154431329803066\n"
     ]
    }
   ],
   "source": [
    "mu_ana = mu + np.euler_gamma * beta\n",
    "print(mu_ana)"
   ]
  },
  {
   "cell_type": "markdown",
   "metadata": {},
   "source": [
    "And the variance is"
   ]
  },
  {
   "cell_type": "code",
   "execution_count": 103,
   "metadata": {},
   "outputs": [
    {
     "name": "stdout",
     "output_type": "stream",
     "text": [
      "6.579736267392905\n"
     ]
    }
   ],
   "source": [
    "var_ana = (1/6) * np.pi**2 * beta**2\n",
    "print(var_ana)"
   ]
  },
  {
   "cell_type": "code",
   "execution_count": 105,
   "metadata": {},
   "outputs": [
    {
     "name": "stdout",
     "output_type": "stream",
     "text": [
      "Gumbel CI: [8.857, 9.175]\n"
     ]
    }
   ],
   "source": [
    "gumbel_ci = ci_mean(x, sx=var_ana, alp=0.05)\n",
    "print(\"Gumbel CI: [{0:0.3f}, {1:0.3f}]\".format(gumbel_ci[0], gumbel_ci[1]))"
   ]
  },
  {
   "cell_type": "markdown",
   "metadata": {},
   "source": [
    "A 95% confidence interval for the mean of the Gumbel distribution is [8.857, 9.175]."
   ]
  },
  {
   "cell_type": "markdown",
   "metadata": {},
   "source": [
    "**Part C:  A theoretical interlude.** When I ran my solution code for **Part B**, I obtained a 95% confidence interval of $[8.81, 9.82]$ for the mean of the $Gum(\\mu=8, \\beta=2)$ distribution. For each of the following, explain why or why not the situation described is correct, given the technical definition of a 95% confidence interval we went over in class.\n",
    "\n",
    "**(i)** If you had no other evidence regarding true mean of the $Gum(\\mu=8, \\beta=2)$ distribution, you could say there is a 95% chance that its true mean falls between 8.81 and 9.82.\n",
    "\n",
    "**(ii)** If a class of 100 students all construct 95% confidence intervals for the mean of the $Gum(\\mu=8, \\beta=2)$ distribution, then we expect about 95 of their CIs to contain the true mean, and about 5 of them to miss the true mean.\n",
    "\n",
    "**(iii)** There is a 95% probability that any given random variable sampled from $Gum(\\mu=8, \\beta=2)$ will be between 8.81 and 9.82."
   ]
  },
  {
   "cell_type": "markdown",
   "metadata": {},
   "source": [
    "(i) Incorrect because 95% confidence interval means that 95% of generated confidence intervals would contain the mean, not that there is a 95% chance that the interval contains the mean.\n",
    "\n",
    "(ii) Correct because a 95% confidence interval implies that 95% of generated confidence intervals from random draws from a distribution will contain the true mean.\n",
    "\n",
    "(iii) Incorrect, this is a statement about the CDF of a probability distribution."
   ]
  },
  {
   "cell_type": "markdown",
   "metadata": {},
   "source": [
    "**Part D:** In this part you'll write a function to investigate the _coverage properties_ of a confidence interval for the mean of the Gumbel distribution. Complete the following function to randomly sample $m=500$ sample means with sample size $n=100$ for the Gumbel distribution with parameters $\\mu=8$ and $\\beta=2$.  For each random sample, compute the 95% confidence interval for the mean.  Note that you actually know that the variance for the true population distribution is, $\\sigma^2$.  Your function should do two things: \n",
    "\n",
    "1. Report the proportion of confidence intervals that successfully cover the true mean of the distribution \n",
    "2. Make a plot of 50 randomly selected confidence intervals. Overlay the intervals on the line $y=\\textrm{True mean}$ (from **Part B**). Color confidence intervals black if they cover the true mean, and red if they don't.  \n",
    "\n",
    "Be sure to leave this cell executed before turning in your assignment!"
   ]
  },
  {
   "cell_type": "code",
   "execution_count": 133,
   "metadata": {
    "scrolled": false
   },
   "outputs": [
    {
     "data": {
      "image/png": "[encoded data removed]",
      "text/plain": [
       "<matplotlib.figure.Figure at 0x7f79f5f27908>"
      ]
     },
     "metadata": {},
     "output_type": "display_data"
    },
    {
     "name": "stdout",
     "output_type": "stream",
     "text": [
      "Number of intervals containing mean: 474\n"
     ]
    }
   ],
   "source": [
    "def interval_contains(x, ci):\n",
    "    return (x >= ci[0]) and (x <= ci[1])\n",
    "\n",
    "\n",
    "def confidence_intervals(m=500, n=100):\n",
    "    mu = 8\n",
    "    beta = 2\n",
    "\n",
    "    plt.figure(figsize=(15,10))\n",
    "    cis = np.zeros((m,3))\n",
    "    plot_me = np.random.randint(0,m,size=50)\n",
    "    lred = False\n",
    "    lblack = False\n",
    "    for i in range(0,m):\n",
    "        x = stats.gumbel_r.rvs(loc=mu, scale=beta, size=n)\n",
    "        gumbel_ci = ci_mean(x, sx=var_ana, alp=0.05)\n",
    "        cis[i,:] = [gumbel_ci[0], gumbel_ci[1], interval_contains(mu_ana, gumbel_ci)]\n",
    "        if i in plot_me:\n",
    "            c = 'k' if cis[i,2] else 'r'\n",
    "            if c == 'k' and not lblack:\n",
    "                plt.plot([i,i],[cis[i,0], cis[i,1]], c, label=\"Mean Contained\")\n",
    "                lblack = True\n",
    "            elif c == 'r' and not lred:\n",
    "                plt.plot([i,i],[cis[i,0], cis[i,1]], c, label=\"Mean Not Contained\")\n",
    "                lred = True\n",
    "            else:\n",
    "                plt.plot([i,i],[cis[i,0], cis[i,1]], c)\n",
    "    \n",
    "    plt.axhline(mu_ana, label=\"True Mean\")\n",
    "    plt.legend()\n",
    "    plt.title(\"Analysis of Confidence Intervals\")\n",
    "    plt.ylabel('Value')\n",
    "    plt.xlabel(\"Interval Number\")\n",
    "    plt.show()\n",
    "    print(\"Number of intervals containing mean: {}\".format(np.count_nonzero(cis[:,2])))\n",
    "    \n",
    "\n",
    "confidence_intervals()"
   ]
  },
  {
   "cell_type": "markdown",
   "metadata": {},
   "source": [
    "474 of 500 intervals contain the mean."
   ]
  },
  {
   "cell_type": "markdown",
   "metadata": {},
   "source": [
    "**Part E:** Does the proportion of confidence intervals that cover the true mean of the distribution agree with the theory described in class?  Justify your conclusion. "
   ]
  },
  {
   "cell_type": "markdown",
   "metadata": {},
   "source": [
    "The proportion of confidence intervals that cover the true mean agrees with what we discussed in class because 95% of 500 is 475. This is very close to what was empirically observed here. In addition, it is predicted out of 50 intervals, 2 or 3 will not contain the mean. This is observed in the plot above."
   ]
  },
  {
   "cell_type": "markdown",
   "metadata": {},
   "source": [
    "**Part F**: In general, which is wider: a 95% confidence interval or a 99% confidence interval? Now, ELIF.  That is, *Explain it Like I'm Five*."
   ]
  },
  {
   "cell_type": "markdown",
   "metadata": {},
   "source": [
    "A 99% confidence interval is wider because it expresses a higher certainty that a measure is within the given interval, which can be achieved by making it wider. \n",
    "\n",
    "Imagine you played a fun game of kickball with your friends at recess today and you are telling your parents about it. You had an awesome kick way into the outfield, but you aren't exactly sure where it landed. Like a good kid, however, you want to tell the truth about the game. If you tell your parents a bigger area where it might have landed, like a bigger confidence interval, there is a higher change you are telling the truth. Plus, if you go around to your other friends with the same idea then you can be sure you are telling the truth about the game more often then not."
   ]
  }
 ],
 "metadata": {
  "kernelspec": {
   "display_name": "Python 3",
   "language": "python",
   "name": "python3"
  },
  "language_info": {
   "codemirror_mode": {
    "name": "ipython",
    "version": 3
   },
   "file_extension": ".py",
   "mimetype": "text/x-python",
   "name": "python",
   "nbconvert_exporter": "python",
   "pygments_lexer": "ipython3",
   "version": "3.6.3"
  }
 },
 "nbformat": 4,
 "nbformat_minor": 2
}
