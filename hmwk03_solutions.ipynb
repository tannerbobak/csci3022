{
 "cells": [
  {
   "cell_type": "markdown",
   "metadata": {},
   "source": [
    "<a/ id='top'></a>\n",
    "# Homework 3: Random Variables and Their Distributions\n",
    "***\n",
    "\n",
    "**Name**: Solutions\n",
    "\n",
    "***\n",
    "\n",
    "This assignment is due on Moodle by **5pm on Friday June 22**. Your solutions to theoretical questions should be done in Markdown/MathJax directly below the associated question.  Your solutions to computational questions should include any specified Python code and results as well as written commentary on your conclusions.  Remember that you are encouraged to discuss the problems with your instructors and classmates, but **you must write all code and solutions on your own**. \n",
    "\n",
    "**NOTES**: \n",
    "\n",
    "- Do **NOT** load or use any Python packages that are not available in Anaconda 3.6. \n",
    "- Because you can technically evaluate notebook cells in a non-linear order, it's a good idea to do Cell $\\rightarrow$ Run All as a check before submitting your solutions.  That way if we need to run your code you will know that it will work as expected. \n",
    "- Submit only this Jupyter notebook to Moodle.  Do not compress it using tar, rar, zip, etc. \n",
    "\n",
    "---\n",
    "**Shortcuts:**  [Problem 1](#p1) | [Problem 2](#p2) | [Problem 3](#p3) | [Problem 4](#p4) | [Problem 5](#p5)\n",
    "\n",
    "---"
   ]
  },
  {
   "cell_type": "code",
   "execution_count": 164,
   "metadata": {
    "collapsed": true,
    "scrolled": true
   },
   "outputs": [],
   "source": [
    "import pandas as pd\n",
    "import numpy as np\n",
    "import matplotlib.pylab as plt\n",
    "from scipy.special import binom\n",
    "from scipy.stats import poisson\n",
    "%matplotlib inline"
   ]
  },
  {
   "cell_type": "markdown",
   "metadata": {},
   "source": [
    "<br>\n",
    "\n",
    "---\n",
    "<a/ id='p1'></a>\n",
    "[Back to top](#top)\n",
    "### [10 points] Problem 1 \n",
    "\n",
    "**Part A**:  Your friend is teaching you how to bat in baseball by pitching balls to you as you try to hit them. Sadly, you are not very good. On any given pitch, the probability that you hit the ball is only about 0.05. Your friend needs to know when she'll be able to go home, so she wants to estimate the distribution of the number of balls she will need to throw by the time you get your 10th hit. Luckily, you are better at Data Science than you are at baseball!\n",
    "\n",
    "Describe **(i)** what distribution could be used to model the system, **(ii)** define any relevant parameters for that distribution and their values, and **(iii)** define the random variable $X$ that follows that distribution, including all values that $X$ can take on."
   ]
  },
  {
   "cell_type": "markdown",
   "metadata": {},
   "source": [
    "**Solution:**\n",
    "\n",
    "**(i)** negative binomial distribution, because we want to model the number of trials needed to observe the 10th success.\n",
    "\n",
    "**(ii)** $r=10$ successes, and $p=0.05$ probability of success on any given trial\n",
    "\n",
    "**(iii)** Random variable $X$ represents the number of pitches needed in order to observe the 10th hit. $X$ can take on the values of $k=10, 11, 12, \\ldots$ (no theoretical upper bound)"
   ]
  },
  {
   "cell_type": "markdown",
   "metadata": {},
   "source": [
    "**Part B:**  You are a data-driven transportation engineer investigating the effect that a new stoplight has on city traffic.  The stoplight is located in a high-traffic area, near a large commercial district in your city's downtown, so you want to estimate the distribution of number of cars per hour that pass through the intersection.  You conduct a field study by observing the stoplight all day on Monday and Tuesday one week, and determine that on average 80 cars pass under the stoplight per hour.\n",
    "\n",
    "Describe **(i)** what distribution could be used to model the system, **(ii)** define any relevant parameters for that distribution and their values, and **(iii)** define the random variable $X$ that follows that distribution, including all values that $X$ can take on. Additionally, **(iv)** do you think it would be appropriate to use the data you collected and the distribution from parts **(i-iii)** to model the arrival of cars at this stoplight on a weekly timescale? Why or why not?"
   ]
  },
  {
   "cell_type": "markdown",
   "metadata": {},
   "source": [
    "**Solution:**\n",
    "\n",
    "**(i)** Poisson distribution, to model the number of arrivals per time interval.\n",
    "\n",
    "**(ii)** $\\lambda = 80$ cars/hour\n",
    "\n",
    "**(iii)** Random variable $X$ represents the number of arrivals in a given one hour time interval. $X$ can take on the values of $k=0, 1, 2, \\ldots$ (no theoretical upper bound)\n",
    "\n",
    "**(iv)** It would **NOT** be appropriate to scale this up to a weekly timescale because the distribution of car arrivals downtown is probably different on weekend days than on weekdays. And you only collected data on weekdays."
   ]
  },
  {
   "cell_type": "markdown",
   "metadata": {},
   "source": [
    "<br>\n",
    "\n",
    "---\n",
    "<a/ id='p2'></a>\n",
    "[Back to top](#top)\n",
    "### [15 points] Problem 2\n",
    "\n",
    "In this problem you'll get some extra practice writing simple simulations. \n",
    "\n",
    "A young boy and an old woman are playing tic tac toe. Unfortunately, the boy is too young to know the strategy and the old woman can't see the board well enough to enact a strategy. Nevertheless, they are content to play games with each other. The old woman plays first and randomly places an X in an open square. The boy plays next, and places an O in one of the remaining open squares. They each play randomly until someone gets three in a row, and then start a new game. Estimate, via simulation, each of the two players' probabilities of winning.\n",
    "\n",
    "**Note**: Part of the goal of this exercises is to give you more practice structuring a simulation. Definitely do not be afraid to write helper functions that are called from your main simulation routine. Things you might want to do modularly are (i) play a single game of tic-tac-toe, (ii) place an X or an O on an free square, or (iii) check if someone has won the game. Just make sure to clearly display your results in code output and summarize things in Markdown. "
   ]
  },
  {
   "cell_type": "markdown",
   "metadata": {},
   "source": [
    "**Solution**: \n",
    "\n",
    "There are many ways to simulate the game.  Here is one way: "
   ]
  },
  {
   "cell_type": "code",
   "execution_count": 165,
   "metadata": {
    "collapsed": true
   },
   "outputs": [],
   "source": [
    "def check_board(board): \n",
    "    \n",
    "    board = np.array(board)\n",
    "    \n",
    "    # check horizontal \n",
    "    for row in [0,3,6]:\n",
    "        if np.all([(ii+row) in board for ii in range(1,3+1)]):\n",
    "            return True\n",
    "\n",
    "    # check vertical \n",
    "    for col in [0,1,2]:\n",
    "        if np.all([(ii+col) in board for ii in [1,4,7]]):\n",
    "            return True\n",
    "\n",
    "    # check diagonal \n",
    "    if np.all([d in board for d in [1,5,9]]):\n",
    "        return True \n",
    "    if np.all([d in board for d in [3,5,7]]):\n",
    "        return True \n",
    "        \n",
    "    return False \n",
    "    \n",
    "\n",
    "def tic_tac_trial():\n",
    "    \n",
    "    xboard = []\n",
    "    oboard = []\n",
    "    open_spaces = list(range(1,9+1))\n",
    "    \n",
    "    while len(open_spaces) > 0:\n",
    "        # place X piece \n",
    "        x_place = np.random.choice(open_spaces)\n",
    "        xboard.append(x_place)\n",
    "        open_spaces.remove(x_place)\n",
    "        \n",
    "        # check if woman has won\n",
    "        if check_board(xboard):\n",
    "            return True \n",
    "        \n",
    "        # place O piece \n",
    "        if len(open_spaces) > 0: \n",
    "            o_place = np.random.choice(open_spaces)\n",
    "            oboard.append(o_place)\n",
    "            open_spaces.remove(o_place)\n",
    "            \n",
    "        # check if boy has won\n",
    "        if check_board(oboard):\n",
    "            return False \n",
    "            \n",
    "    # return false if draw \n",
    "    return False\n",
    "\n",
    "def tic_tac_sim(num_games):\n",
    "    games = [tic_tac_trial() for ii in range(num_games)]\n",
    "    return np.sum(games)/num_games"
   ]
  },
  {
   "cell_type": "code",
   "execution_count": 198,
   "metadata": {},
   "outputs": [
    {
     "name": "stdout",
     "output_type": "stream",
     "text": [
      "1 loop, best of 3: 5.73 s per loop\n",
      "P(X Wins) = 0.5700\n"
     ]
    }
   ],
   "source": [
    "%timeit probX = tic_tac_sim(10000)\n",
    "print(\"P(X Wins) = {:.4f}\".format(probX))"
   ]
  },
  {
   "cell_type": "code",
   "execution_count": 187,
   "metadata": {},
   "outputs": [
    {
     "name": "stdout",
     "output_type": "stream",
     "text": [
      "Confidence interval for first-player win %: [0.581, 0.588]\n"
     ]
    }
   ],
   "source": [
    "from scipy.stats import norm\n",
    "\n",
    "n = 100\n",
    "sims = [tic_tac_sim(1000) for _ in range(n)]\n",
    "\n",
    "alpha = 0.05\n",
    "zc = norm.ppf(1-alpha*0.5)\n",
    "ci_lb = np.mean(sims) - zc*np.sqrt(np.var(sims, ddof=1)/n)\n",
    "ci_ub = np.mean(sims) + zc*np.sqrt(np.var(sims, ddof=1)/n)\n",
    "print('Confidence interval for first-player win %: [{:.3f}, {:.3f}]'.format(ci_lb, ci_ub))"
   ]
  },
  {
   "cell_type": "markdown",
   "metadata": {},
   "source": [
    "And here is why 54% to 62% was okay.  Really, we are permitting a $\\pm 4$% acceptable error here."
   ]
  },
  {
   "cell_type": "code",
   "execution_count": 197,
   "metadata": {},
   "outputs": [
    {
     "name": "stdout",
     "output_type": "stream",
     "text": [
      "99.0% of simulations with far-too-few iterations landed in the interval [0.545, 0.621]\n"
     ]
    }
   ],
   "source": [
    "alpha = 0.01\n",
    "perc_lb = np.percentile(sims, 100*(alpha*.5))\n",
    "perc_ub = np.percentile(sims, 100*(1-alpha*.5))\n",
    "print('{:.1f}% of simulations with far-too-few iterations landed in the interval [{:.3f}, {:.3f}]'.format((1-alpha)*100,perc_lb, perc_ub))"
   ]
  },
  {
   "cell_type": "markdown",
   "metadata": {},
   "source": [
    "According to our simulation results, we estimate that the old woman will win with approximate probability $0.58$. \n",
    "\n",
    "Since P(old woman wins) + P(boy wins) must = 1, we know the probability that the boy wins must be about $0.42$."
   ]
  },
  {
   "cell_type": "markdown",
   "metadata": {},
   "source": [
    "<br>\n",
    "\n",
    "---\n",
    "<a/ id='p3'></a>\n",
    "[Back to top](#top)\n",
    "### [20 points] Problem 3\n",
    "\n",
    "\n",
    "<img src=\"http://uploads.neatorama.com/images/posts/870/98/98870/1508255088-0.jpg\" style=\"width: 260px;\"/>\n",
    "\n",
    "Suppose you are baking pies and want to model the probability with which each pie you bake is delicious.  Let $X$ be a random variable representing the **Deliciousness Index (DI)** of a pie, on a scale of $0$ (least delicious) to $\\pi$ (a most excellent pie).  The probability density function for $X$ is:\n",
    "\n",
    "$$\n",
    "f(x) = \\begin{cases}\n",
    "         c\\left(\\cos{(x)} + 1\\right) & 0 \\leq x \\leq \\pi \\\\\n",
    "         0                           & \\text{otherwise}\n",
    "       \\end{cases}\n",
    "$$\n",
    "where $c$ is some normalizing constant.\n",
    "\n",
    "**Part A**: Determine the value of $c$ such that $f(x)$ is a valid density function. "
   ]
  },
  {
   "cell_type": "markdown",
   "metadata": {},
   "source": [
    "**Solution**: \n",
    "\n",
    "We need to choose $c$ such that $f(x)$ integrates to 1.  We have:\n",
    "\n",
    "$\\begin{align}\n",
    " 1 &\\stackrel{\\heartsuit}{=} \\int_{-\\infty}^\\infty f(x) dx \\\\\n",
    "   &= \\int_0^\\pi c(\\cos{x} +1)dx \\\\\n",
    "   &= c \\left[ \\int_0^\\pi \\cos{x}dx + \\int_0^\\pi dx\\right] \\\\\n",
    "   &= c \\sin{x} \\bigg|_0^\\pi + c\\pi \\\\\n",
    "   &= c(\\sin{\\pi} - \\sin{0}) + c\\pi \\\\\n",
    "   &= c\\pi \\\\\n",
    "\\Rightarrow& ~~\\fbox{$c=\\dfrac{1}{\\pi}$}\n",
    "\\end{align}$"
   ]
  },
  {
   "cell_type": "markdown",
   "metadata": {},
   "source": [
    "**Part B**: Compute the cumulative density (cdf) function $F(x)$ for $X$.  What should $F(\\pi)$ equal?  Be sure to **justify** this answer. Then, verify this answer by calculating $F(\\pi)$ from the cdf you derive."
   ]
  },
  {
   "cell_type": "markdown",
   "metadata": {},
   "source": [
    "**Solution**:\n",
    "\n",
    "Integrating from $0$ to $x$, we have...\n",
    "\n",
    "$\\begin{align}\n",
    " F(y) &= \\int_0^x f(x') dx' \\\\\n",
    "      &= \\int_0^x \\dfrac{1}{\\pi}(\\cos{x'} + 1)\\ dx' \\\\\n",
    "      &= \\dfrac{1}{\\pi} \\left[ \\sin{x'} + x' \\right]\\bigg|_0^x \\\\\n",
    "      &= \\dfrac{1}{\\pi} \\left[ (\\sin{x} + x) - (\\sin{0} + 0) \\right] \\\\\n",
    "      &= \\dfrac{1}{\\pi} \\left(\\sin{(x)} + x\\right) \\\\\n",
    " \\Rightarrow& ~~ \\fbox{$F(x) = \\dfrac{1}{\\pi} \\left(\\sin{(x)} + x\\right)$}\n",
    " \\end{align}$\n",
    " \n",
    "$F(\\pi)$ should equal 1 because $x=\\pi$ is the upper bound on the support of $f(x)$. Thus, all of the probability mass must lie below it, making the probability of observing $x \\leq \\pi$ equal to 1.  We check this:\n",
    "\n",
    "$F(\\pi) = \\dfrac{1}{\\pi}(\\sin{(\\pi)} + \\pi) = \\dfrac{1}{\\pi}(0 + \\pi) = 1 ~~~ \\checkmark$"
   ]
  },
  {
   "cell_type": "markdown",
   "metadata": {},
   "source": [
    "**Part C**: It is a well-known fact that pies with Deliciousness Index at least 2 are classified as **Quite Tasty**. Use the cdf you computed in **Part B** to find the probability that a single pie you bake is Quite Tasty. "
   ]
  },
  {
   "cell_type": "markdown",
   "metadata": {},
   "source": [
    "**Solution**: \n",
    "\n",
    "We have:\n",
    "\n",
    "$\\begin{align}\n",
    "P(X \\geq 2) &= 1 - P(X \\leq 2) = 1 - F(2) \\\\\n",
    "            &= 1 - \\dfrac{1}{\\pi}(\\sin{(2)} + 2) \\\\\n",
    "            &\\approx 0.0739\n",
    "\\end{align}$\n",
    "\n",
    "Thus the probability of a single pie being Quite Tasty is about $\\fbox{$0.0739$}$"
   ]
  },
  {
   "cell_type": "code",
   "execution_count": 158,
   "metadata": {},
   "outputs": [
    {
     "data": {
      "text/plain": [
       "0.073941867192322097"
      ]
     },
     "execution_count": 158,
     "metadata": {},
     "output_type": "execute_result"
    }
   ],
   "source": [
    "1 - (1/np.pi)*(np.sin(2)+2)"
   ]
  },
  {
   "cell_type": "markdown",
   "metadata": {},
   "source": [
    "**Part D**: What is the expected Deliciousness Index of any given pie you bake?  Calculate this by hand, using techniques you may or may not need to dust off from Calculus 2. Once you have a final analytic solution (in terms of $\\pi$), *then* you should obtain and report an approximate decimal answer."
   ]
  },
  {
   "cell_type": "markdown",
   "metadata": {},
   "source": [
    "**Solution**: \n",
    "\n",
    "We want to calculate the expected value of $X$:\n",
    "\n",
    "$\\begin{align}\n",
    "E[X] &= \\int_{-\\infty}^\\infty x f(x) dx = \\int_0^\\pi x \\dfrac{1}{\\pi}(\\cos{(x)} + 1) dx \\\\\n",
    "     &= \\dfrac{1}{\\pi} \\left( \\int_0^\\pi x \\cos{x} ~dx + \\int_0^\\pi x\\ dx \\right)\\\\\n",
    "     &= \\dfrac{1}{\\pi} \\left( \\int_0^\\pi x \\cos{x} ~dx + \\dfrac{1}{2}\\pi^2 \\right)\\\\\n",
    "     &= \\dfrac{\\pi}{2} + \\dfrac{1}{\\pi} \\int_0^\\pi x \\cos{x} ~dx \\\\\n",
    "\\end{align}$\n",
    "\n",
    "We can integrate by parts, using: \n",
    "\n",
    "$\\begin{array}{ll}\n",
    " u=x   & dv = \\cos{x}\\ dx \\\\\n",
    " du=dx & v = \\sin{x} \\ dx \\\\\n",
    " \\end{array}$\n",
    " \n",
    "This gives:\n",
    "\n",
    "$\\begin{align}\n",
    " \\int_0^\\pi x \\cos{x}\\ dx &= uv\\bigg|_0^\\pi - \\int_0^\\pi v\\ du \\\\\n",
    "              &= x \\sin{x}\\bigg|_0^\\pi - \\int_0^\\pi \\sin{x}\\ dx \\\\\n",
    "              &= 0 + \\cos{x}\\bigg|_0^\\pi \\\\\n",
    "              &= \\cos{\\pi} - \\cos{0} \\\\\n",
    "              &= -1 - 1 \\\\\n",
    "              &= -2\n",
    "\\end{align}$\n",
    "\n",
    "We plug this into the calculation for $E[X]$:\n",
    "\n",
    "$\\begin{align}\n",
    " E[X] &= \\dfrac{\\pi}{2} + \\dfrac{1}{\\pi} \\int_0^\\pi x \\cos{x}\\ dx \\\\\n",
    "      &= \\dfrac{\\pi}{2} - \\dfrac{2}{\\pi} \\\\\n",
    "      &\\approx 0.934\n",
    "\\end{align}$\n",
    "\n",
    "So our pies have an expected Deliciousness Index of $\\fbox{$E[X] = \\dfrac{\\pi}{2}-\\dfrac{2}{\\pi} \\approx 0.934$}$"
   ]
  },
  {
   "cell_type": "code",
   "execution_count": 49,
   "metadata": {},
   "outputs": [
    {
     "data": {
      "text/plain": [
       "0.9341765544273152"
      ]
     },
     "execution_count": 49,
     "metadata": {},
     "output_type": "execute_result"
    }
   ],
   "source": [
    "np.pi/2 - 2/np.pi"
   ]
  },
  {
   "cell_type": "markdown",
   "metadata": {},
   "source": [
    "**Part E:**  The symmetric version of our probability density function is $g(x) = c(\\cos{(x)}+1), -\\pi \\leq x \\leq \\pi$.  $g(x)$ sometimes referred to as the \"raised cosine\" probability density function. It is often useful as an alternative to a normal distribution.\n",
    "\n",
    "Name one key difference between the raised cosine and a normal distribution centered at $x=0$.  Describe a situation that would be appropriate to model using one of those probability density functions, but not the other."
   ]
  },
  {
   "cell_type": "markdown",
   "metadata": {},
   "source": [
    "**Solution:**\n",
    "\n",
    "The main difference is that the raised cosine has **finite support** ($x \\in [-\\pi, \\pi]$), whereas the normal distribution has **infinite support** (technically, $x$ could be anything).\n",
    "\n",
    "So any situation like pie quality, where there is a theoretical upper bound, would be better modeled by a cosine pdf than a normal distribution.  Student grades are one example.  Often, people talk about a normal distribution for student grades, but there are theoretical upper (100) and lower (0) bounds on these!  So, a cosine pdf could be more appropriate."
   ]
  },
  {
   "cell_type": "markdown",
   "metadata": {},
   "source": [
    "<br>\n",
    "\n",
    "---\n",
    "<a/ id='p4'></a>\n",
    "[Back to top](#top)\n",
    "### [20 points] Problem 4\n",
    "\n",
    "Let $X =$ the leading digit of a randomly selected number from a large accounting\n",
    "ledger. So, for example, if we randomly draw the number \\$20,695, then $X = 2.$\n",
    "People who make up numbers to commit accounting fraud tend to give $X$ a\n",
    "(discrete) uniform distribution, i.e., $P(X = x) = \\frac{1}{9}$, for $x \\in \\{1, ..., 9\\}$. However,\n",
    "there is empirical evidence that suggests that _naturally occurring_ numbers (e.g.,\n",
    "numbers in a non-fraudulent accounting ledger) have leading digits that do not\n",
    "follow a uniform distribution. Instead, they follow a distribution defined by the following probability mass function:\n",
    "\n",
    "$$\n",
    "f(x) = \\log_{10}\\left( \\frac{x+1}{x} \\right) \\quad \\textrm{for } x = 1, 2, \\ldots, 9\n",
    "$$"
   ]
  },
  {
   "cell_type": "markdown",
   "metadata": {},
   "source": [
    "**Part A**: Write a function pmf_natural that implements $f(x)$. Your function should take in an integer $x$ ($0 \\leq x \\leq 9$) and return $f(x) = P(X = x)$.  Use your function to argue that $f(x)$ is a well-defined probability mass function. "
   ]
  },
  {
   "cell_type": "code",
   "execution_count": 203,
   "metadata": {},
   "outputs": [
    {
     "name": "stdout",
     "output_type": "stream",
     "text": [
      "f(x) ≥ 0 for all x = True\n",
      "sum(f(x)) for x = 1, 2, ..., 9 is 0.9999999999999999\n"
     ]
    }
   ],
   "source": [
    "def pmf_natural(x):\n",
    "    return np.log10((x + 1)/x)\n",
    "\n",
    "pmf = np.array([pmf_natural(x) for x in range(1,10)])\n",
    "print(\"f(x) \\u2265 0 for all x = {}\".format(np.all(pmf >= 0)))\n",
    "print(\"sum(f(x)) for x = 1, 2, ..., 9 is {}\".format(np.sum(pmf)))"
   ]
  },
  {
   "cell_type": "markdown",
   "metadata": {},
   "source": [
    "**Part B**: Use the function you wrote above to make stacked bar plots describing the pmf of the naturally occurring numbers as well as the discrete uniform distribution.  Make sure that the $x$- and $y$-limits on your plots are the same so that the two distributions are easy to compare. "
   ]
  },
  {
   "cell_type": "code",
   "execution_count": 204,
   "metadata": {},
   "outputs": [
    {
     "data": {
      "image/png": "[encoded data removed]",
      "text/plain": [
       "<matplotlib.figure.Figure at 0x110d51208>"
      ]
     },
     "metadata": {},
     "output_type": "display_data"
    }
   ],
   "source": [
    "def natural_vs_uniform():\n",
    "    \n",
    "    pmf_X = np.array([pmf_natural(x) for x in range(1,10)])\n",
    "    pmf_U = (1/9) * np.ones(9)\n",
    "    \n",
    "    fig, axes = plt.subplots(nrows=2, ncols=1, figsize=(12,10)) \n",
    "    \n",
    "    axes[0].bar(range(1,10), pmf_X, color=\"steelblue\")\n",
    "    axes[1].bar(range(1,10), pmf_U, color=\"steelblue\")\n",
    "    \n",
    "    for ax in axes:\n",
    "        ax.set_ylim([0,.5])\n",
    "        ax.grid(True, alpha=0.25)\n",
    "        ax.set_axisbelow(True)\n",
    "        ax.set_xlabel(\"Digit\", fontsize=16)\n",
    "        ax.set_ylabel(\"Density\", fontsize=16)\n",
    "        plt.sca(ax)\n",
    "        plt.xticks(range(1,10))\n",
    "        \n",
    "    axes[0].set_title(\"Natural Mass Function\", fontsize=20)\n",
    "    axes[1].set_title(\"Uniform Mass Function\", fontsize=20)\n",
    "    \n",
    "    fig.subplots_adjust(hspace=0.4)\n",
    "\n",
    "    \n",
    "natural_vs_uniform()"
   ]
  },
  {
   "cell_type": "markdown",
   "metadata": {},
   "source": [
    "**Part C**: Write a function cdf_natural that implements the cumulative distribution function $F(x)$ for $X$ and use it to compute the probability that the leading digit in a number is at most 2 and at most 3.\n",
    "\n",
    "What interesting fact do your results tell you about the relative frequencies of low versus high leading digits, that occur naturally?"
   ]
  },
  {
   "cell_type": "code",
   "execution_count": 205,
   "metadata": {},
   "outputs": [
    {
     "name": "stdout",
     "output_type": "stream",
     "text": [
      "P(x ≤ 2) = 0.477\n",
      "P(x ≤ 3) = 0.602\n"
     ]
    }
   ],
   "source": [
    "def cdf_natural(x):\n",
    "    \n",
    "    cdf = 0 \n",
    "    for aa in range(1, np.min([int(x),9])+1):\n",
    "        cdf += pmf_natural(aa)\n",
    "    \n",
    "    return cdf  \n",
    "\n",
    "[print(\"P(x \\u2264 {}) = {:.3f}\".format(k, cdf_natural(k))) for k in [2,3]];"
   ]
  },
  {
   "cell_type": "markdown",
   "metadata": {},
   "source": [
    "About half of the occurrences of leading digit are 1s or 2s, and the other half are divided between 3, 4, 5, 6, 7, 8, and 9.  How interesting!"
   ]
  },
  {
   "cell_type": "markdown",
   "metadata": {},
   "source": [
    "**Part D**: The data in [tax_data.txt](https://piazza.com/class_profile/get_resource/jhaqogsdelf76h/jigc0s4atj24lr) contains the taxable income for individuals in 1978 (available linked here, and on Piazza). Use Pandas and the information from **Parts A-D** to determine whether or not the dataset is likely fraudulent.  In addition to code and any graphical summaries, make sure to clearly justify your conclusion in words."
   ]
  },
  {
   "cell_type": "code",
   "execution_count": 211,
   "metadata": {},
   "outputs": [
    {
     "data": {
      "image/png": "[encoded data removed]",
      "text/plain": [
       "<matplotlib.figure.Figure at 0x110c48d68>"
      ]
     },
     "metadata": {},
     "output_type": "display_data"
    }
   ],
   "source": [
    "def first_digit(val):\n",
    "    return int(str(val)[0])\n",
    "\n",
    "def tax_histogram(df):\n",
    "    df[\"First Digit\"] = df[\"taxIncomes\"].apply(first_digit)\n",
    "    \n",
    "    fig, ax = plt.subplots(nrows=1, ncols=1, figsize=(10,6))\n",
    "    \n",
    "    bins = [ii-.5 for ii in range(1,11)]\n",
    "    df[\"First Digit\"].hist(ax=ax, bins=bins, color=\"steelblue\", edgecolor=\"white\", rwidth=0.9, normed=True)\n",
    "    \n",
    "    ax.grid(alpha=0.25)\n",
    "    ax.set_axisbelow(True)\n",
    "    \n",
    "    plt.xticks(range(1,10))\n",
    "    \n",
    "    ax.set_title(\"First Digit Empirical PMF\", fontsize=20)\n",
    "    ax.set_xlabel(\"First Digit\", fontsize=16)\n",
    "    ax.set_ylabel(\"Density\", fontsize=16)\n",
    "    \n",
    "    \n",
    "dfTax = pd.read_csv(\"tax_data.txt\", delim_whitespace=True)\n",
    "tax_histogram(dfTax)"
   ]
  },
  {
   "cell_type": "markdown",
   "metadata": {},
   "source": [
    "**Solution**: The distribution of first digits in the dataset looks very much like the natural probability mass function and decidedly non-uniform in general.  Thus we conclude that the data is likely **not** fraudulent. "
   ]
  },
  {
   "cell_type": "code",
   "execution_count": 213,
   "metadata": {},
   "outputs": [
    {
     "data": {
      "text/plain": [
       "['tax_data.txt',\n",
       " '.DS_Store',\n",
       " 'Icon\\r',\n",
       " 'hmwk03_Lastname_Firstname.ipynb',\n",
       " 'hmwk03_solutions_Tony.ipynb',\n",
       " '.ipynb_checkpoints']"
      ]
     },
     "execution_count": 213,
     "metadata": {},
     "output_type": "execute_result"
    }
   ],
   "source": [
    "import os\n",
    "os.listdir()"
   ]
  },
  {
   "cell_type": "markdown",
   "metadata": {},
   "source": [
    "<br>\n",
    "\n",
    "---\n",
    "<a/ id='p5'></a>\n",
    "[Back to top](#top)\n",
    "### [35 points] Problem 5\n",
    "\n",
    "You are waiting in line at the grocery store. It is taking _forever_!  There are only two lines open; one is being tended by a cashier named [John Henry](https://en.wikipedia.org/wiki/John_Henry_(folklore)), and the other is tended by a [self check-out machine](https://theconversation.com/the-economics-of-self-service-checkouts-78593). Like all human beings when they arrive at the front of the store to check-out and encounter lines everywhere, you first experience a moment of intense panic. _Which line will be the fastest?_ you wonder, as people shuffle around you.\n",
    "\n",
    "<img src=\"http://www.panoston.com/wp-content/uploads/2017/08/store-line-1.jpg\" style=\"width: 300px;\"/>\n",
    "\n",
    "You decide you need to model the arrival of customers at the front of each of the lines.  From your Intro to Data Science class you remember that the distribution of times _between_ independent arrivals is often modeled using an Exponential distribution.  You stand at the front of the store watching the two lines and tabulating the inter-arrival times for each line and find the following:\n",
    "* John's line checks-out an average of 2 customers per five-minute time slice,\n",
    "* the self check-out machine checks-out an average of 2.5 customers per five-minute time slice **if** the machine is working properly, \n",
    "* the self check-out machine checks-out an average of 1 customer per five-minute time slice if the machine is freezing up, and\n",
    "* the self check-out machine froze up for 2 of the 10 five-minute time slices you observed it.\n",
    "\n",
    "Answer the following questions about this scenario. **Note** that for **Parts B-D** you should clearly express the computation you're doing with math, but feel free to do any fancy function evaluations with Python. \n",
    "\n",
    "**Part A**:  Assuming the between-customer times do in-fact follow exponential distributions, what distributions do you expect the **number** of customers who pass through each line in a given 5-minute interval to follow?  What are the parameter(s) of each distribution?  Note that you should consider both the case where the self check-out is working properly and when it is broken."
   ]
  },
  {
   "cell_type": "markdown",
   "metadata": {},
   "source": [
    "**Solution**: \n",
    "\n",
    "The **number** of customers who pass through each line is well-described by Poisson distributions with rate parameters:\n",
    "* John: $\\lambda = 2$\n",
    "* Self check-out, working: $\\lambda = 2.5$\n",
    "* Self check-out, frozen: $\\lambda = 1$"
   ]
  },
  {
   "cell_type": "markdown",
   "metadata": {},
   "source": [
    "**Part B**:  What is the probability that 3 customers pass through John's line in the next 5 minutes?  What about the self check-out, assuming that it is working?  What about the self check-out, assuming that it is frozen?"
   ]
  },
  {
   "cell_type": "markdown",
   "metadata": {},
   "source": [
    "**Solution**:\n",
    "\n",
    "Below is a function to calculate the Poisson probability of tending `hits` customers in a 5-minute window, given rate parameter `rate`:"
   ]
  },
  {
   "cell_type": "code",
   "execution_count": 159,
   "metadata": {
    "collapsed": true
   },
   "outputs": [],
   "source": [
    "def pmf_pois(hits, rate):\n",
    "    return (rate**hits)*np.exp(-rate)/np.math.factorial(hits)"
   ]
  },
  {
   "cell_type": "markdown",
   "metadata": {},
   "source": [
    "We calculate the probabilities in the problem as follows:"
   ]
  },
  {
   "cell_type": "code",
   "execution_count": 160,
   "metadata": {},
   "outputs": [
    {
     "name": "stdout",
     "output_type": "stream",
     "text": [
      "Probability John serves 3 customers in the next 5 minutes = 0.180\n",
      "... self check-out, working = 0.214\n",
      "... self check-out, frozen = 0.061\n"
     ]
    }
   ],
   "source": [
    "print('Probability John serves 3 customers in the next 5 minutes = {:0.3f}'.format(pmf_pois(hits=3, rate=2)))\n",
    "print('... self check-out, working = {:0.3f}'.format(pmf_pois(hits=3, rate=2.5)))\n",
    "print('... self check-out, frozen = {:0.3f}'.format(pmf_pois(hits=3, rate=1)))"
   ]
  },
  {
   "cell_type": "markdown",
   "metadata": {},
   "source": [
    "**Part C**:  Use your answer to Part B and the Law of Total Probability to calculate the probability that the self check-out tends 3 customers is the next 5 minutes."
   ]
  },
  {
   "cell_type": "markdown",
   "metadata": {},
   "source": [
    "**Solution:**\n",
    "\n",
    "LTP gives:\n",
    "\n",
    "$\\begin{align}\n",
    " P(3) &= P(3 \\mid working)P(working) + P(3 \\mid frozen)P(frozen) \\\\\n",
    "      &= 0.214 \\cdot 0.8 + 0.061 \\cdot 0.2 \\\\\n",
    "      &\\approx \\fbox{$0.183$}\n",
    "\\end{align}$"
   ]
  },
  {
   "cell_type": "code",
   "execution_count": 151,
   "metadata": {},
   "outputs": [
    {
     "name": "stdout",
     "output_type": "stream",
     "text": [
      "0.183273061839\n"
     ]
    }
   ],
   "source": [
    "print(pmf_pois(hits=3, rate=2.5)*(8/10) + pmf_pois(hits=3, rate=1)*(2/10))"
   ]
  },
  {
   "cell_type": "markdown",
   "metadata": {},
   "source": [
    "**Part D**:  S'pose John is working a 4-hour shift from 4-8 PM after school. He gets no breaks, because the year is 1870 and worker's rights is not yet a thing.  Calculate **exactly** (aside from rounding) the probability that he serves 100 or more customers during his shift.  (Assume we can safely scale our data up to a 4-hour interval.)"
   ]
  },
  {
   "cell_type": "markdown",
   "metadata": {},
   "source": [
    "**Solution:**\n",
    "\n",
    "The probability that John serves 100 or more customers is 1 minus the probability that he serves 99 or fewer.  The latter probability is the cumulative distribution function for the Poisson distribution describing John's check-out line.\n",
    "\n",
    "The catch is that we are examining a **4-hour window** instead of our original 5-minute time interval.  So we need to scale the rate parameter acccordingly, where $t$ is the number of time intervals we are examining:\n",
    "$$\\text{new rate} = \\lambda t = 2 \\cdot \\dfrac{\\text{4 hours}}{\\text{5 minutes}} = 2 \\cdot \\dfrac{4 \\cdot 60}{5} = 96$$\n",
    "\n",
    "Now for a 4-hour window, the distribution of customers served by John's check-out line $\\sim Pois(\\lambda t)$, and we need to add up the probability mass for # customers $\\leq 99$:"
   ]
  },
  {
   "cell_type": "code",
   "execution_count": 201,
   "metadata": {},
   "outputs": [
    {
     "name": "stdout",
     "output_type": "stream",
     "text": [
      "P(John serves ≥ 100 customers) = 0.355\n"
     ]
    }
   ],
   "source": [
    "rate1 = 2*4*60/5\n",
    "cdf = np.sum([pmf_pois(hits=k, rate=rate1) for k in range(100)])\n",
    "print('P(John serves \\u2265 100 customers) = {:0.3f}'.format(1-cdf))"
   ]
  },
  {
   "cell_type": "markdown",
   "metadata": {},
   "source": [
    "**Part E**:  Write a function `checkout_count` to simulate the number of customers served by the self check-out machine in a 4-hour shift. At the very least, your function should take as input the working and broken customer arrival rate parameters, and the probability that the machine is working properly. Use this function to estimate the probability of the self check-out machine serves 100 or more customers in a 4-hour shift, and report your result.\n",
    "\n",
    "Here, your simulation should model the arrival of each new customer, and sample whether or not the machine is working properly for each new customer. Then, your function should simulate customer arrival times at the front of the line by sampling between-customer times from $Exp(\\lambda)$ via Numpy's [random.exponential](https://docs.scipy.org/doc/numpy-1.13.0/reference/generated/numpy.random.exponential.html) function, where the argument $\\lambda$ will depend on the state of the machine (working or broken). Your function should return the number of customer arrivals in a 4-hour shift. Use at least 5000 simulations.\n",
    "\n",
    "Finally, use **this same function**, with clever input, to verify your answer to **Part D**.\n",
    "\n",
    "**Caution!**  Be aware that in some Numpy or Scipy functions for distribution and/or random variables, the conventions for the parameter arguments may differ from those used in class."
   ]
  },
  {
   "cell_type": "code",
   "execution_count": 153,
   "metadata": {
    "collapsed": true
   },
   "outputs": [],
   "source": [
    "# Solution:\n",
    "\n",
    "# First, a note about the use of np.random.exponential:\n",
    "\n",
    "# scale parameter in np.random.exponential is 1/lambda (1/rate)\n",
    "# since E[X] = 1/lambda, \n",
    "rate = 2 # lambda\n",
    "times = np.random.exponential(scale=1/rate, size=100000)\n",
    "#print('lambda (rate) = {} gives mean(X) = {:0.3f}'.format(rate, np.mean(times)))\n",
    "\n",
    "# Now, actual code!\n",
    "\n",
    "def checkout_count(time_len, rate_work, rate_broken, p):\n",
    "    '''\n",
    "    time_len    = time interval (minutes)\n",
    "    rate_work   = rate when machine is working (customers/5 minutes)\n",
    "    rate_broken = rate when machine is broken (customers/5 minutes)\n",
    "    p           = probability machine is working\n",
    "    '''\n",
    "    working = np.random.choice([True, False], p=[p, 1-p])\n",
    "    rate = rate_work if working else rate_broken\n",
    "    time, cust = np.random.exponential(1/rate), 0\n",
    "    while time <= time_len:\n",
    "        cust += 1\n",
    "        working = np.random.choice([True, False], p=[p, 1-p])\n",
    "        rate = rate_work if working else rate_broken\n",
    "        time += np.random.exponential(1/rate)\n",
    "    \n",
    "    return cust"
   ]
  },
  {
   "cell_type": "markdown",
   "metadata": {},
   "source": [
    "The following code scales the rate parameters to be in units of \"counts per 4-hour interval\", so the time length argument of `checkout_count` is 1 (one 4-hour interval)."
   ]
  },
  {
   "cell_type": "code",
   "execution_count": 155,
   "metadata": {},
   "outputs": [
    {
     "name": "stdout",
     "output_type": "stream",
     "text": [
      "Probability that the machine serves 100 or more customers in a 4-hour block = 0.268\n",
      "Probability that John serves 100 or more customers in a 4-hour block = 0.354\n"
     ]
    }
   ],
   "source": [
    "rate_work = 2.5*4*60/5\n",
    "rate_broken = 1*4*60/5\n",
    "p = 0.8\n",
    "machine = [checkout_count(1, rate_work, rate_broken, p) for k in range(10000)]\n",
    "p100_machine = len([cnt for cnt in machine if cnt>=100])/len(machine)\n",
    "print('Probability that the machine serves 100 or more customers in a 4-hour block = {:.3f}'.format(p100_machine))\n",
    "\n",
    "john = [checkout_count(1, 96, -999, 1) for k in range(10000)]\n",
    "p100_john = len([cnt for cnt in john if cnt>=100])/len(john)    \n",
    "print('Probability that John serves 100 or more customers in a 4-hour block = {:.3f}'.format(p100_john))"
   ]
  },
  {
   "cell_type": "markdown",
   "metadata": {},
   "source": [
    "**Part F:**  \n",
    "1. What are the mean numbers of customers served by each of John and the self check-out machine during the 4-hour shift?\n",
    "2. Which is better for the grocery store in the short-term, the self check-out machine technology, or folks like John Henry?  Justify your answer with some figures or calculations that you feel will be appropriate, or shout-outs to results you have already calculated.\n",
    "3. What if they improve the self check-out machine to only fail 10% of the time?"
   ]
  },
  {
   "cell_type": "markdown",
   "metadata": {},
   "source": [
    "**Solution:**\n",
    "\n",
    "John Henry is a bad dude.  The grocery store should invest in him!  On average, he served about 4 more customers over the course of 4 hours than the machine:"
   ]
  },
  {
   "cell_type": "code",
   "execution_count": 140,
   "metadata": {},
   "outputs": [
    {
     "name": "stdout",
     "output_type": "stream",
     "text": [
      "Mean customers served by John = 96.005\n",
      "Mean customers served by Machine = 92.612\n"
     ]
    }
   ],
   "source": [
    "print('Mean customers served by John = {:.3f}'.format(np.mean(john)))\n",
    "print('Mean customers served by Machine = {:.3f}'.format(np.mean(machine)))"
   ]
  },
  {
   "cell_type": "markdown",
   "metadata": {},
   "source": [
    "And the machine has a longer left tail of its empirical distribution of customers served, as seen below.  This is attributed to the fact that the machine breaks down 20% of the time, slowing things down.  If the grocery store invested in improving this rate to 10%, then its performance dramatically improves to serving an average of 104 customers per 4-hour shift, and topping 100 customers served with a probability of 62.7% (see below)."
   ]
  },
  {
   "cell_type": "code",
   "execution_count": 139,
   "metadata": {},
   "outputs": [
    {
     "data": {
      "image/png": "[encoded data removed]",
      "text/plain": [
       "<matplotlib.figure.Figure at 0x110f07cf8>"
      ]
     },
     "metadata": {},
     "output_type": "display_data"
    }
   ],
   "source": [
    "plt.hist(machine, alpha=0.4, label='machine', normed=True)\n",
    "plt.hist(john, alpha=0.4, label='john', normed=True)\n",
    "plt.xlim([50,140])\n",
    "plt.xlabel('# customers')\n",
    "plt.ylabel('Density')\n",
    "plt.title('Customers served in a 4-hour shift')\n",
    "plt.legend();"
   ]
  },
  {
   "cell_type": "code",
   "execution_count": 147,
   "metadata": {},
   "outputs": [
    {
     "name": "stdout",
     "output_type": "stream",
     "text": [
      "Probability that the machine serves 100 or more customers in a 4-hour block = 0.630\n",
      "Mean customers served by Machine = 104.451\n"
     ]
    }
   ],
   "source": [
    "rate_work = 2.5*4*60/5\n",
    "rate_broken = 1*4*60/5\n",
    "p = 0.9\n",
    "machine = [checkout_count(1, rate_work, rate_broken, p) for k in range(10000)]\n",
    "p100_machine = len([cnt for cnt in machine if cnt>100])/len(machine)\n",
    "print('Probability that the machine serves 100 or more customers in a 4-hour block = {:.3f}'.format(p100_machine))\n",
    "print('Mean customers served by Machine = {:.3f}'.format(np.mean(machine)))"
   ]
  }
 ],
 "metadata": {
  "kernelspec": {
   "display_name": "Python 3",
   "language": "python",
   "name": "python3"
  },
  "language_info": {
   "codemirror_mode": {
    "name": "ipython",
    "version": 3
   },
   "file_extension": ".py",
   "mimetype": "text/x-python",
   "name": "python",
   "nbconvert_exporter": "python",
   "pygments_lexer": "ipython3",
   "version": "3.6.3"
  }
 },
 "nbformat": 4,
 "nbformat_minor": 2
}
