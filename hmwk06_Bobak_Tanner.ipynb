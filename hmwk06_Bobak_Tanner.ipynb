{
 "cells": [
  {
   "cell_type": "markdown",
   "metadata": {},
   "source": [
    "<a id='top'></a>\n",
    "\n",
    "# Homework 6: Bootstrapping, Hypothesis Testing, P-Hacking, and Simple Linear Regression \n",
    "***\n",
    "\n",
    "**Name**: \n",
    "\n",
    "***\n",
    "\n",
    "This assignment is due on Moodle by **5 PM on Friday July 13**. Your solutions to theoretical questions should be done in Markdown/MathJax directly below the associated question.  Your solutions to computational questions should include any specified Python code and results as well as written commentary on your conclusions.  Remember that you are encouraged to discuss the problems with your instructors and classmates, but **you must write all code and solutions on your own**. \n",
    "\n",
    "**NOTES**: \n",
    "\n",
    "- Do **NOT** load or use any Python packages that are not available in Anaconda 3.6. \n",
    "- Some problems with code may be autograded.  If we provide a function API **do not** change it.  If we do not provide a function API then you're free to structure your code however you like. \n",
    "- Because you can technically evaluate notebook cells is a non-linear order, it's a good idea to do Cell $\\rightarrow$ Run All as a check before submitting your solutions.  That way if we need to run your code you will know that it will work as expected. \n",
    "- Submit only this Jupyter notebook to Moodle.  Do not compress it using tar, rar, zip, etc. \n",
    "- This should go without saying, but... For any question that asks you to calculate something, you **must show all work to receive credit**. Sparse or nonexistent work will receive sparse or nonexistent credit.\n",
    "\n",
    "---\n",
    "**Shortcuts:**  [Problem 1](#p1) | [Problem 2](#p2) | [Problem 3](#p3) | [Problem 4](#p4) | [Problem 5](#p5)\n",
    "\n",
    "---"
   ]
  },
  {
   "cell_type": "code",
   "execution_count": 1,
   "metadata": {
    "scrolled": true
   },
   "outputs": [],
   "source": [
    "import numpy as np\n",
    "import matplotlib.pyplot as plt\n",
    "import pandas as pd\n",
    "from scipy import stats \n",
    "%matplotlib inline"
   ]
  },
  {
   "cell_type": "markdown",
   "metadata": {},
   "source": [
    "---\n",
    "[Back to top](#top)\n",
    "<a id='p1'></a>\n",
    "\n",
    "### [12 points] Problem 1 - Hypothesis Testing Whether your Co-worker is a Doofus\n",
    "\n",
    "You are working as a Data Scientist for an internet company. Your co-worker, Daley Jennanigans, is a lovable scamp! Unfortunately, Daley also makes a lot of mistakes throughout the day as the two of you team up to tackle some inference work regarding your company's customers. In each case, clearly explain why Daley's hypothesis testing setup or conclusion is incorrect."
   ]
  },
  {
   "cell_type": "markdown",
   "metadata": {},
   "source": [
    "**Part A**: Daley has some data on the characteristics of customers that visited the company's website over the previous month.  He wants to perform an analysis on the proportion of last month's website visitors that bought something.  Let $X$ be the random variable describing the number of website visitors who bought something in the previous month, and suppose that the population proportion of visitors who bought something is $p$. Daley is particularly interested to see if the data suggests that more than 10% of website visitors actually buy something.  He decides to perform the test with a null hypothesis of $H_0: \\hat{p} = 0.10$. "
   ]
  },
  {
   "cell_type": "markdown",
   "metadata": {},
   "source": [
    "Here Daley is wrong because he is interested in whether the population proportion $p$ is different from 0.10 not whether the sample proportion $\\hat{p}$ is different. He will know the sample proportion exactly but is interested in how that estimates $p$. Therefore, he should use $H_0 : \\, p = 0.10$."
   ]
  },
  {
   "cell_type": "markdown",
   "metadata": {},
   "source": [
    "**Part B**: Daley decides instead to do his hypothesis test with a null hypothesis of $H_0: p < 0.10$.  "
   ]
  },
  {
   "cell_type": "markdown",
   "metadata": {},
   "source": [
    "Daley is incorrect because the null hypothesis should be $p=0.10$ corresponding to the situation that 10% of website visitors buy something. This is the proper null hypothesis because a single value should be tested: the value in which there is no significant difference between the populations. In Daley's situation, he wants to see if there is a difference between a population in which 10% of visitors buy something and the real population. \n",
    "\n",
    "With the null hypothesis of $H_0 : \\, p = 0.10$, Daley can perform a proper 1-tailed P-Test with the alternative hypothesis that $H_1 : \\, p > 0.10$. "
   ]
  },
  {
   "cell_type": "markdown",
   "metadata": {},
   "source": [
    "**Part C**: Finally on track with reasonable hypotheses of $H_0: p = 0.10$ and $H_1: p > 0.10$, Daley computes a normalized test-statistic of $z = -1.4$ for the sample proportion and concludes that since $z = -1.4 < 0.05$ there is sufficient statistical evidence at the $\\alpha = 0.05$ (95%) significance level that the proportion of customers who buy something is less than 10%."
   ]
  },
  {
   "cell_type": "markdown",
   "metadata": {},
   "source": [
    "This is very incorrect because Daley is comparing a Z score to a p-value. Instead, he should compute the CDF of the normal distribution at $z = -1.4$ and subtract that from 1 because this is a one-tail p-test for the right tail of the distribution. This will obtain the correct p-value which can be compared to the significance level. \n",
    "\n",
    "Moreover, Daley is interpreting the meaing of the p-test incorrectly. If the p-value satisfies the comparison with the significance level with this alternative hypothesis, then we can simply say that we can reject the null hypothesis that $p=0.10$, not that the proportion of customers who buy something is less than 10%, $p < 0.10$."
   ]
  },
  {
   "cell_type": "markdown",
   "metadata": {},
   "source": [
    "**Part D**: Daley is again conducting the hypothesis test of $H_0: p = 0.10$ and $H_1: p > 0.10$. He computes a p-value of $0.03$, and thus concludes that there is only a 3% probability that the null hypothesis is true. "
   ]
  },
  {
   "cell_type": "markdown",
   "metadata": {},
   "source": [
    "Once again, Daley has it twisted. A p-value of 0.03 does not mean that there is a 3% chance that the null hypothesis is true, but rather that there is a 3% chance of observing something as extreme or more extreme than what was actually observed."
   ]
  },
  {
   "cell_type": "markdown",
   "metadata": {},
   "source": [
    "---\n",
    "[Back to top](#top)\n",
    "<a id='p2'></a>\n",
    "\n",
    "### [20 points] Problem 2 - Evaluating Pizza Delivery Performance \n",
    "\n",
    "The manager of a pizza chain with multiple locations likes to keep meticulous data on his pizza deliveries.  The data from more than 1200 deliveries in May 2014 is stored in [`pizza.csv`](https://piazza.com/class_profile/get_resource/jhaqogsdelf76h/jja0n7mvrrc671). "
   ]
  },
  {
   "cell_type": "code",
   "execution_count": 2,
   "metadata": {},
   "outputs": [
    {
     "data": {
      "text/html": [
       "<div>\n",
       "<style scoped>\n",
       "    .dataframe tbody tr th:only-of-type {\n",
       "        vertical-align: middle;\n",
       "    }\n",
       "\n",
       "    .dataframe tbody tr th {\n",
       "        vertical-align: top;\n",
       "    }\n",
       "\n",
       "    .dataframe thead th {\n",
       "        text-align: right;\n",
       "    }\n",
       "</style>\n",
       "<table border=\"1\" class=\"dataframe\">\n",
       "  <thead>\n",
       "    <tr style=\"text-align: right;\">\n",
       "      <th></th>\n",
       "      <th>day</th>\n",
       "      <th>date</th>\n",
       "      <th>time</th>\n",
       "      <th>operator</th>\n",
       "      <th>branch</th>\n",
       "      <th>driver</th>\n",
       "      <th>temperature</th>\n",
       "      <th>bill</th>\n",
       "      <th>pizzas</th>\n",
       "    </tr>\n",
       "  </thead>\n",
       "  <tbody>\n",
       "    <tr>\n",
       "      <th>0</th>\n",
       "      <td>Thursday</td>\n",
       "      <td>1-May-14</td>\n",
       "      <td>33.708636</td>\n",
       "      <td>Laura</td>\n",
       "      <td>East</td>\n",
       "      <td>Bruno</td>\n",
       "      <td>71.433084</td>\n",
       "      <td>58.4</td>\n",
       "      <td>4</td>\n",
       "    </tr>\n",
       "    <tr>\n",
       "      <th>1</th>\n",
       "      <td>Thursday</td>\n",
       "      <td>1-May-14</td>\n",
       "      <td>29.382070</td>\n",
       "      <td>Melissa</td>\n",
       "      <td>East</td>\n",
       "      <td>Salvatore</td>\n",
       "      <td>64.952920</td>\n",
       "      <td>26.4</td>\n",
       "      <td>3</td>\n",
       "    </tr>\n",
       "    <tr>\n",
       "      <th>2</th>\n",
       "      <td>Thursday</td>\n",
       "      <td>1-May-14</td>\n",
       "      <td>33.580664</td>\n",
       "      <td>Melissa</td>\n",
       "      <td>West</td>\n",
       "      <td>Salvatore</td>\n",
       "      <td>49.113452</td>\n",
       "      <td>58.1</td>\n",
       "      <td>3</td>\n",
       "    </tr>\n",
       "    <tr>\n",
       "      <th>3</th>\n",
       "      <td>Thursday</td>\n",
       "      <td>1-May-14</td>\n",
       "      <td>32.505369</td>\n",
       "      <td>Melissa</td>\n",
       "      <td>East</td>\n",
       "      <td>Salvatore</td>\n",
       "      <td>64.872559</td>\n",
       "      <td>35.2</td>\n",
       "      <td>3</td>\n",
       "    </tr>\n",
       "    <tr>\n",
       "      <th>4</th>\n",
       "      <td>Thursday</td>\n",
       "      <td>1-May-14</td>\n",
       "      <td>25.493613</td>\n",
       "      <td>Melissa</td>\n",
       "      <td>West</td>\n",
       "      <td>Salvatore</td>\n",
       "      <td>59.630052</td>\n",
       "      <td>38.4</td>\n",
       "      <td>2</td>\n",
       "    </tr>\n",
       "  </tbody>\n",
       "</table>\n",
       "</div>"
      ],
      "text/plain": [
       "        day      date       time operator branch     driver  temperature  \\\n",
       "0  Thursday  1-May-14  33.708636    Laura   East      Bruno    71.433084   \n",
       "1  Thursday  1-May-14  29.382070  Melissa   East  Salvatore    64.952920   \n",
       "2  Thursday  1-May-14  33.580664  Melissa   West  Salvatore    49.113452   \n",
       "3  Thursday  1-May-14  32.505369  Melissa   East  Salvatore    64.872559   \n",
       "4  Thursday  1-May-14  25.493613  Melissa   West  Salvatore    59.630052   \n",
       "\n",
       "   bill  pizzas  \n",
       "0  58.4       4  \n",
       "1  26.4       3  \n",
       "2  58.1       3  \n",
       "3  35.2       3  \n",
       "4  38.4       2  "
      ]
     },
     "execution_count": 2,
     "metadata": {},
     "output_type": "execute_result"
    }
   ],
   "source": [
    "dfP = pd.read_csv(\"data/pizza.csv\")\n",
    "dfP.head()"
   ]
  },
  {
   "cell_type": "markdown",
   "metadata": {},
   "source": [
    "**Part A**: The manager's goal is to have an average delivery time across all branches of less than 30 minutes.  Perform an appropriate hypothesis test at the $\\alpha=0.05$ significance level to evaluate whether this goal has been achieved.  Be sure to clearly state your null and alternate hypotheses, describe your testing procedure, and show all calculations in Python. "
   ]
  },
  {
   "cell_type": "markdown",
   "metadata": {},
   "source": [
    "Because there is a sufficient number of samples to draw from (1,200) and there is reason to believe that the time data will be normally distributed, a one-tailed p-test is appropriate to examine the data. We can propose the null hypothesis $H_0 : \\, \\mu = 30$min per delivery and the alternative hypothesis that $H_1 : \\, \\mu < 30$ mins per delivery. Next, the mean ($\\bar{x}$), number of samples ($n$), and variance ($s^2$ which estimates $\\sigma^2$) of the samples from the data set must be calculated to obtain a Z-score which can be used to calculate the p-value."
   ]
  },
  {
   "cell_type": "code",
   "execution_count": 3,
   "metadata": {},
   "outputs": [
    {
     "name": "stdout",
     "output_type": "stream",
     "text": [
      "Mean delivery time xbar: 29.455 min\n",
      "Variance in delivery time sigma2: 37.352 min^2\n",
      "Number of samples: 1266\n"
     ]
    }
   ],
   "source": [
    "xbar = np.mean(dfP[\"time\"])\n",
    "sigma2 = np.var(dfP[\"time\"], ddof=1)\n",
    "n = len(dfP[\"time\"])\n",
    "mu = 30\n",
    "\n",
    "print(\"Mean delivery time xbar: {:0.3f} min\".format(xbar))\n",
    "print(\"Variance in delivery time sigma2: {:0.3f} min^2\".format(sigma2))\n",
    "print(\"Number of samples: {}\".format(n))"
   ]
  },
  {
   "cell_type": "markdown",
   "metadata": {},
   "source": [
    "Knowing $\\bar{x}=29.455$ min, $\\mu = 30$ min (from the null hypothesis), and $\\sigma^2 = 37.352$ min$^2$, these values can be plugged into the formula for calculating a Z-score:\n",
    "\n",
    "$$\n",
    "Z = \\frac{\\bar{x} - \\mu}{\\sqrt{\\frac{\\sigma^2}{n}}}\n",
    "$$\n",
    "\n",
    "This is evaluated below."
   ]
  },
  {
   "cell_type": "code",
   "execution_count": 4,
   "metadata": {},
   "outputs": [
    {
     "name": "stdout",
     "output_type": "stream",
     "text": [
      "Z = -3.171\n"
     ]
    }
   ],
   "source": [
    "z = (xbar - mu)/np.sqrt(sigma2/n)\n",
    "\n",
    "print(\"Z = {:0.3f}\".format(z))"
   ]
  },
  {
   "cell_type": "markdown",
   "metadata": {},
   "source": [
    "Finally, by calculating what the CDF of the normal distribution is up to $Z=-3.171$, we obtain the p-value for this data. This calculation is performed below."
   ]
  },
  {
   "cell_type": "code",
   "execution_count": 5,
   "metadata": {},
   "outputs": [
    {
     "name": "stdout",
     "output_type": "stream",
     "text": [
      "p-value = 0.00076\n"
     ]
    }
   ],
   "source": [
    "p = stats.norm.cdf(z)\n",
    "\n",
    "print(\"p-value = {:0.5f}\".format(p))"
   ]
  },
  {
   "cell_type": "markdown",
   "metadata": {},
   "source": [
    "Since $p = 7.6 \\times 10^{-4} < 0.05 = \\alpha$, the null hypothesis that the mean delivery time is 30 mins can be rejected in favor of the alternative hypothesis that the mean delivery time is less than 30 mins. "
   ]
  },
  {
   "cell_type": "markdown",
   "metadata": {},
   "source": [
    "**Part B**: The pizza shop has fallen on hard times and is considering closing a branch. The manager knows that the East branch is the lowest performing branch, followed by the West branch, as measured by the the mean number of pizzas per delivery."
   ]
  },
  {
   "cell_type": "code",
   "execution_count": 6,
   "metadata": {},
   "outputs": [
    {
     "name": "stdout",
     "output_type": "stream",
     "text": [
      "West   branch mean pizzas/delivery = 3.207\n",
      "East   branch mean pizzas/delivery = 2.429\n",
      "Centre branch mean pizzas/delivery = 3.368\n"
     ]
    }
   ],
   "source": [
    "for branch in set(dfP[\"branch\"]):\n",
    "    print(\"{:6s} branch mean pizzas/delivery = {:0.3f}\".format(branch, dfP.loc[dfP[\"branch\"]==branch, \"pizzas\"].mean()))"
   ]
  },
  {
   "cell_type": "markdown",
   "metadata": {},
   "source": [
    "Can the manager conclude that the East branch is performing statistically significantly lower than the other two branches? Can he conclude that the West branch performs significantly worse than the Centre branch? Conduct hypothesis tests to answer these questions. Both of those questions will help him decide whether or not to close the East branch. The stakes are higher when making the decision to close an entire branch of pizza restaurant, so the manager decides to use the $\\alpha=0.01$ significance level for these tests. Be sure to clearly describe your hypotheses and methodology, and show any relevant computations in Python. "
   ]
  },
  {
   "cell_type": "markdown",
   "metadata": {},
   "source": [
    "To test if the East branch is performing worse than the other two, two hypothesis hypothesis tests are performed. First, the East and West branch are compared via a one-tailed p-test at the $\\alpha = 0.01$ significance level. Then, the East and Centre branch are compared via a one-tailed p-test at the $\\alpha = 0.01$ significance level. The null hypothesis for both tests is $H_0 : \\, \\mu_E = \\mu_X$ where $X$ is either the mean of the pizzas per delivery for East or Center branch ($E$ and $C$ respectively). The alternative hypothesis is then $H_1 : \\, \\mu_E < \\mu_X$. Next, the West branch is compared to the center branch using a one-tailed p-test with significance level $\\alpha = 0.01$ with the null hypothesis $H_0 : \\, \\mu_W = \\mu_C$ and the alternative hypothesis $H_1 : \\, \\mu_W < \\mu_C$. Calculations for all three of these tests are carried out similarly to Part A and are performed below."
   ]
  },
  {
   "cell_type": "code",
   "execution_count": 7,
   "metadata": {},
   "outputs": [
    {
     "name": "stdout",
     "output_type": "stream",
     "text": [
      "Deliveries at each branch: W: 435, E: 410, C:421\n",
      "Mean deliveries at each branch: W: 3.207, E: 2.429, C:3.368\n",
      "Delivery variance at each branch: W: 2.091, E: 1.625, C:1.914\n",
      "z-score for test 1 = -8.304\n",
      "p-value for test 1 = 5.018e-17\n",
      "z-score for test 2 = -10.178\n",
      "p-value for test 2 = 1.237e-24\n",
      "z-score for test 3 = -1.668\n",
      "p-value for test 3 = 4.770e-02\n"
     ]
    }
   ],
   "source": [
    "west_side = dfP.loc[dfP[\"branch\"] == 'West', \"pizzas\"]\n",
    "east_side = dfP.loc[dfP[\"branch\"] == 'East', \"pizzas\"]\n",
    "centre_jabronies = dfP.loc[dfP[\"branch\"] == 'Centre', \"pizzas\"]\n",
    "\n",
    "# Verify that I can type\n",
    "print(\"Deliveries at each branch: W: {0}, E: {1}, C:{2}\".format(len(west_side), len(east_side), len(centre_jabronies)))\n",
    "\n",
    "# Basic information\n",
    "xw_bar = np.mean(west_side)\n",
    "xe_bar = np.mean(east_side)\n",
    "xc_bar = np.mean(centre_jabronies)\n",
    "\n",
    "print(\"Mean deliveries at each branch: W: {0:0.3f}, E: {1:0.3f}, C:{2:0.3f}\".format(xw_bar, xe_bar, xc_bar))\n",
    "\n",
    "varw = np.var(west_side, ddof=1)\n",
    "vare = np.var(east_side, ddof=1)\n",
    "varc = np.var(centre_jabronies, ddof=1)\n",
    "\n",
    "print(\"Delivery variance at each branch: W: {0:0.3f}, E: {1:0.3f}, C:{2:0.3f}\".format(varw, vare, varc))\n",
    "\n",
    "nw = len(west_side)\n",
    "ne = len(east_side)\n",
    "nc = len(centre_jabronies)\n",
    "\n",
    "# ------- TEST 1 -------\n",
    "z1 = (xe_bar-xw_bar)/np.sqrt(vare/ne + varw/nw)\n",
    "print(\"z-score for test 1 = {:0.3f}\".format(z1))\n",
    "p1 = stats.norm.cdf(z1)\n",
    "print(\"p-value for test 1 = {:0.3e}\".format(p1))\n",
    "\n",
    "# ------- TEST 2 -------\n",
    "z2 = (xe_bar-xc_bar)/np.sqrt(vare/ne + varc/nc)\n",
    "print(\"z-score for test 2 = {:0.3f}\".format(z2))\n",
    "p2 = stats.norm.cdf(z2)\n",
    "print(\"p-value for test 2 = {:0.3e}\".format(p2))\n",
    "\n",
    "# ------- TEST 3 -------\n",
    "z3 = (xw_bar-xc_bar)/np.sqrt(varw/nw + varc/nc)\n",
    "print(\"z-score for test 3 = {:0.3f}\".format(z3))\n",
    "p3 = stats.norm.cdf(z3)\n",
    "print(\"p-value for test 3 = {:0.3e}\".format(p3))"
   ]
  },
  {
   "cell_type": "markdown",
   "metadata": {},
   "source": [
    "Based on the tests above, we find the following results:\n",
    "\n",
    "Test 1:\n",
    "The p-value is about $5.0 \\times 10^{-17} < \\alpha$ so we reject the null hypothesis that the East branch delivers the same number of pizzas as the West branch at the 0.01 significance level.\n",
    "\n",
    "Test 2:\n",
    "The p-value is about $1.2 \\times 10^{-24} < \\alpha$ so we reject the null hypothesis that the East branch delivers the same number of pizzas as the Centre branch at the 0.01 significance level.\n",
    "\n",
    "Test 3:\n",
    "The p-value is about $0.048 > \\alpha$ so we fail to reject the null hypothesis that the West branch delivers the same number of pizzas as the Center branch at the 0.01 significance level. \n",
    "\n",
    "Based on these results, we can conclude that the East branch performs worse than the other two branches by a statistically significant margin when using the pizzas per delivery as a metric."
   ]
  },
  {
   "cell_type": "markdown",
   "metadata": {},
   "source": [
    "**Part C**: It has been hypothesized that two of the manager's finest drivers, Mario and Luigi, deliver different numbers of pizzas per delivery. Conduct an appropriate hypothesis test at the $\\alpha = 0.05$ significance level to determine if there is any statistically significant difference between the mean number of pizzas per delivery for the two drivers."
   ]
  },
  {
   "cell_type": "markdown",
   "metadata": {},
   "source": [
    "In this part, a two-tailed p-test with significance level $\\alpha = 0.05$ to compare Mario and Luigi. Calculations similar to the above will be carried out, but this time the null hypothesis will be $H_0 : \\, \\mu_M = \\mu_L$ and the alternative hypothesis will be $H_1 : \\, \\mu_M \\neq \\mu_L$. "
   ]
  },
  {
   "cell_type": "code",
   "execution_count": 8,
   "metadata": {},
   "outputs": [
    {
     "name": "stdout",
     "output_type": "stream",
     "text": [
      "p-value for driver comparison = 0.09474\n"
     ]
    }
   ],
   "source": [
    "mario = dfP.loc[dfP[\"driver\"] == \"Mario\", \"pizzas\"]\n",
    "luigi = dfP.loc[dfP[\"driver\"] == \"Luigi\", \"pizzas\"]\n",
    "\n",
    "nm = len(mario)\n",
    "nl = len(luigi)\n",
    "\n",
    "xbar_mario = np.mean(mario)\n",
    "xbar_luigi = np.mean(luigi)\n",
    "\n",
    "varm = np.var(mario, ddof=1)\n",
    "varl = np.var(luigi, ddof=1)\n",
    "\n",
    "z = (xbar_mario - xbar_luigi)/np.sqrt(varm/nm + varl/nl)\n",
    "\n",
    "p = 2*stats.norm.cdf(-np.abs(z))\n",
    "print(\"p-value for driver comparison = {:0.5f}\".format(p))"
   ]
  },
  {
   "cell_type": "markdown",
   "metadata": {},
   "source": [
    "In this test we find that $p=0.095 > 0.05 = \\alpha$. Therefore, we fail to reject the null hypothesis and conclude that Mario and Luigi deliver about the same number of pizzas."
   ]
  },
  {
   "cell_type": "markdown",
   "metadata": {},
   "source": [
    "---\n",
    "[Back to top](#top)\n",
    "<a id='p3'></a>\n",
    "\n",
    "### [20 points] Problem 3 - Naps vs Coffee for Memory? \n",
    "\n",
    "It is estimated that [about 75% of adults](https://www.ncbi.nlm.nih.gov/pmc/articles/PMC4997286/) in the United States drink coffee. Often, coffee is used to replace the need for sleep. It works alright, or so I think. Let's find out, in this exciting homework problem!\n",
    "\n",
    "One recent study investigated the effects of drinking coffee, taking a nap, and having a [\"coffee-nap\"](https://lifehacker.com/naps-vs-coffee-which-is-better-when-youre-exhausted-1730643671) - the practice of drinking some coffee *and then* having a short nap. The study broke participants up into three groups of 10 participants each, where the groups would have a nap, or have a coffee, or have a coffee-nap, then perform a task where their reaction time was measured. In previous experiments the mean reaction time measurement was found to be normally distributed. The reaction time means (milliseconds, ms) and standard deviations for the three groups of participants are given in the table below.\n",
    "\n",
    "$$\n",
    "\\begin{array}{c|c|c|c}\n",
    "\\textrm{Group} & \\textrm{Sample Size} & \\textrm{Mean} & \\textrm{Standard Deviation} \\\\\n",
    "\\hline \n",
    "\\textrm{Coffee+Nap} & 10 & 451.3 & 31.9 \\\\ \n",
    "\\textrm{Coffee} & 10 & 494.2 & 39.6 \\\\ \n",
    "\\textrm{Nap} & 10 & 492.8 & 45.2 \\\\ \n",
    "\\end{array}\n",
    "$$\n",
    "\n",
    "**Part A**: Compute a 95% t-confidence interval for the mean reaction time measurement for participants in each of these three groups. (You should find three separate confidence intervals.) Do all computations in Python, and report the results.  Can you make any conclusions regarding whether coffee, naps or both (coffee-naps) are better for faster reaction times?"
   ]
  },
  {
   "cell_type": "markdown",
   "metadata": {},
   "source": [
    "Here I borrow parts of the `ci_mean` function from Homework \\#5 and modify it to produce a confidence interval for a t-distribution as opposed to a normal distribution."
   ]
  },
  {
   "cell_type": "code",
   "execution_count": 9,
   "metadata": {},
   "outputs": [],
   "source": [
    "def ci_mean(xbar, sx, n, alp=0.05):\n",
    "    nu = n-1\n",
    "    t = stats.t.ppf(1-alp/2, nu)\n",
    "    scale = t*np.sqrt(sx/n)\n",
    "    return (xbar - scale, xbar + scale)"
   ]
  },
  {
   "cell_type": "markdown",
   "metadata": {},
   "source": [
    "Now I can easily find the confidence intervals by plugging in the given values from the table into the function using the default `alp=0.05`."
   ]
  },
  {
   "cell_type": "code",
   "execution_count": 10,
   "metadata": {},
   "outputs": [
    {
     "name": "stdout",
     "output_type": "stream",
     "text": [
      "95.0% CI for coffee nap: [428.480, 474.120] ms\n",
      "95.0% CI for coffee: [465.872, 522.528] ms\n",
      "95.0% CI for nap: [460.466, 525.134] ms\n"
     ]
    },
    {
     "data": {
      "image/png": "[encoded data removed]",
      "text/plain": [
       "<matplotlib.figure.Figure at 0x7f471ef31518>"
      ]
     },
     "metadata": {},
     "output_type": "display_data"
    }
   ],
   "source": [
    "alp = 0.05\n",
    "\n",
    "# Coffee Nap\n",
    "ci1 = ci_mean(451.3, 31.9**2, 10)\n",
    "print(\"{0:0.1f}% CI for coffee nap: [{1:0.3f}, {2:0.3f}] ms\".format(100*(1-alp), ci1[0], ci1[1]))\n",
    "\n",
    "# Coffee\n",
    "ci2 = ci_mean(494.2, 39.6**2, 10)\n",
    "print(\"{0:0.1f}% CI for coffee: [{1:0.3f}, {2:0.3f}] ms\".format(100*(1-alp), ci2[0], ci2[1]))\n",
    "\n",
    "# Nap\n",
    "ci3 = ci_mean(492.8, 45.2**2, 10)\n",
    "print(\"{0:0.1f}% CI for nap: [{1:0.3f}, {2:0.3f}] ms\".format(100*(1-alp), ci3[0], ci3[1]))\n",
    "\n",
    "# Plot\n",
    "plt.figure(figsize=(15,5))\n",
    "plt.plot(ci1, [1,1], 'r', label=\"Coffee Nap\")\n",
    "plt.plot(ci2, [2,2], 'g', label=\"Coffee\")\n",
    "plt.plot(ci3, [3,3], 'b', label=\"Nap\")\n",
    "plt.legend()\n",
    "plt.yticks([],[])\n",
    "plt.xlabel(\"Reaction Time (ms)\")\n",
    "plt.title(\"Reaction Time CI Overlap\")\n",
    "plt.show()"
   ]
  },
  {
   "cell_type": "markdown",
   "metadata": {},
   "source": [
    "As shown in the above graph, all three 95% confidence intervals overlap, so no conclusion can immediately be drawn."
   ]
  },
  {
   "cell_type": "markdown",
   "metadata": {},
   "source": [
    "**Part B**: Use an appropriate hypothesis test to determine if there sufficient evidence, at the $\\alpha = 0.05$ significance level, to conclude that taking a nap promotes faster reaction time than drinking coffee.  Be sure to clearly explain the test that you're doing and state all hypotheses. Do all computations in Python, and report results."
   ]
  },
  {
   "cell_type": "markdown",
   "metadata": {},
   "source": [
    "The data provided here is sufficient to perform a one-tailed t-test at the $\\alpha = 0.05$ significance level that compares taking a nap to drinking coffee. Here the null hypothesis is $H_0 : \\, \\mu_N = \\mu_C$, that there is no difference in reaction time from drinking coffee or taking a nap. The alternative hypothesis is $H_1 : \\, \\mu_N < \\mu_C$, that taking a nap results in a faster reaction time than having coffee. Calculations here are very similar to the other problems in this homework, except a t-distribution is used in lieu of the normal distribution. These calculations are carried out below."
   ]
  },
  {
   "cell_type": "code",
   "execution_count": 11,
   "metadata": {},
   "outputs": [
    {
     "name": "stdout",
     "output_type": "stream",
     "text": [
      "p-value for Nap vs. Coffee: 0.471\n"
     ]
    }
   ],
   "source": [
    "xbar_n = 492.8\n",
    "xbar_c = 494.2\n",
    "\n",
    "var_n = 45.2**2\n",
    "var_c = 39.6**2\n",
    "\n",
    "n = 10 # samples the same for both\n",
    "nu = 2*(n - 1)\n",
    "\n",
    "t = (xbar_n - xbar_c)/np.sqrt(var_n/n + var_c/n)\n",
    "p = stats.t.cdf(t, nu)\n",
    "print(\"p-value for Nap vs. Coffee: {:0.3f}\".format(p))"
   ]
  },
  {
   "cell_type": "markdown",
   "metadata": {},
   "source": [
    "Because $p = 0.471 > 0.05 = \\alpha$ we fail to reject the null hypothesis and conclude that having coffee or taking a nap result in about the same reaction time."
   ]
  },
  {
   "cell_type": "markdown",
   "metadata": {},
   "source": [
    "**Part C**: Use an appropriate hypothesis test to determine if there is sufficient evidence, at the $\\alpha = 0.05$ significance level, to conclude that taking a coffee-nap promotes faster reaction time than only drinking coffee, or only having a nap.  Be sure to clearly explain the test that you're doing and state all hypotheses. Do all computations in Python, and report results."
   ]
  },
  {
   "cell_type": "markdown",
   "metadata": {},
   "source": [
    "Two tests are needed here: one to compare the coffee nap to coffee alone and the other to compare the coffee nap to a nap alone. Both of these tests will be one-tailed t-tests with a significance level of $\\alpha = 0.05$. The null hypothesis is $H_0 : \\, \\mu_{CN} = \\mu_X$ where $X$ is either $C$ or $N$ to correspond to drinking coffee or taking a nap alone. The alternative hypotheses are $H_1 : \\, \\mu_{CN}  < \\mu_C$ and $H_1 : \\, \\mu_{CN}  < \\mu_N$. Calculations are again similar to the previous problems and involve calculating a t-value based on the mean and the variance that is given. These calculations are performed below."
   ]
  },
  {
   "cell_type": "code",
   "execution_count": 12,
   "metadata": {},
   "outputs": [
    {
     "name": "stdout",
     "output_type": "stream",
     "text": [
      "p-value for Nap vs. Coffee: 0.008\n",
      "p-value for Nap vs. Coffee: 0.015\n"
     ]
    }
   ],
   "source": [
    "# Basic info\n",
    "xbar_cn = 451.3\n",
    "\n",
    "var_cn = 31.9**2\n",
    "\n",
    "# Test 1\n",
    "t = (xbar_cn - xbar_c)/np.sqrt(var_cn/n + var_c/n)\n",
    "p = stats.t.cdf(t, nu) # df = 18 = 2*n - 2\n",
    "print(\"p-value for Nap vs. Coffee: {:0.3f}\".format(p))\n",
    "\n",
    "# Test 2\n",
    "t = (xbar_cn - xbar_n)/np.sqrt(var_cn/n + var_n/n)\n",
    "p = stats.t.cdf(t, nu) # df = 18 = 2*n - 2\n",
    "print(\"p-value for Nap vs. Coffee: {:0.3f}\".format(p))"
   ]
  },
  {
   "cell_type": "markdown",
   "metadata": {},
   "source": [
    "Both p-values calculated above are less than the significance level $\\alpha$ and so we can reject the null hypothesis in favor of the alternative that there is sufficient evidence to conclude that a coffee nap results in faster reaction time than coffee or a nap alone."
   ]
  },
  {
   "cell_type": "markdown",
   "metadata": {},
   "source": [
    "**Part D**: Compute a 95% confidence interval for the standard deviation of reaction time for coffee-nap takers. Do all computations in Python, and report the results."
   ]
  },
  {
   "cell_type": "markdown",
   "metadata": {},
   "source": [
    "The confidence interval is computed using a modified version of the method `ci_mean` defined above. This version, defined below, samples from the $\\chi^2$ distribution. It takes as parameters the sample standard deviation and the sample size."
   ]
  },
  {
   "cell_type": "code",
   "execution_count": 13,
   "metadata": {},
   "outputs": [],
   "source": [
    "def ci_var(s, n, alp=0.05):\n",
    "    nu = n-1\n",
    "    chi2_1 = stats.chi2.ppf(alp/2, nu) # chi2_(1-a/2)\n",
    "    chi2_0 = stats.chi2.ppf(1-alp/2, nu) # chi2_(a/2)\n",
    "    return (((n-1)*s**2)/chi2_0, ((n-1)*s**2)/chi2_1)"
   ]
  },
  {
   "cell_type": "markdown",
   "metadata": {},
   "source": [
    "Now the function is deployed to calculate the confidence interval of the standard deviation, not forgetting to take the square root to get the standard deviation instead of the variance."
   ]
  },
  {
   "cell_type": "code",
   "execution_count": 14,
   "metadata": {},
   "outputs": [
    {
     "name": "stdout",
     "output_type": "stream",
     "text": [
      "95.0% CI for standard deviation of coffee nap reaction time: [21.942, 58.237] ms\n"
     ]
    }
   ],
   "source": [
    "ci = ci_var(31.9, 10)\n",
    "print(\"{0:0.1f}% CI for standard deviation of coffee nap reaction time: [{1:0.3f}, {2:0.3f}] ms\".format(100*(1-alp), \\\n",
    "                                                                                                       np.sqrt(ci[0]), \\\n",
    "                                                                                                       np.sqrt(ci[1])))"
   ]
  },
  {
   "cell_type": "markdown",
   "metadata": {},
   "source": [
    "We find that we are 95% confident that the true standard deviation in the reaction time of coffee nap individuals is between 21.942 ms and 58.237 ms."
   ]
  },
  {
   "cell_type": "markdown",
   "metadata": {},
   "source": [
    "---\n",
    "[Back to top](#top)\n",
    "<a id='p4'></a>\n",
    "\n",
    "### [15 points] Problem 4 - Bad Science for Fun and Profit \n",
    "\n",
    "[Data Dredging](https://en.wikipedia.org/wiki/Data_dredging) and [p-hacking](https://www.explainxkcd.com/wiki/index.php/882:_Significant) are umbrella terms for the dangerous practice of automatically testing a large number of hypotheses on the entirety or subsets of a single dataset in order to find statistically significant results. In this exercise we will focus on the idea of testing hypotheses on subsets of a single data set.  \n",
    "\n",
    "Johnny Nefarious has landed his first data science internship at an online marketing firm.  His primary summer project has been to design and test a new email advertisement for his company's best-selling product. To test his advertisement his supervisors have allowed him to send his ad to 4 targeted customer groups of 50 people every day for a month, and keep track of which email client (Outlook or Gmail) the customers use.\n",
    "\n",
    "The effectiveness of online advertising is typically measured by the ad's [click-through rate](https://en.wikipedia.org/wiki/Click-through_rate) (CTR), which is defined to be the _proportion_ of users that click on an advertisement. The company's standard email advertisement has a CTR of $0.05$.  Johnny is hoping to land a permanent position at the company when he graduates, so he's **really** motivated to show his supervisors that the CTR of his email advertisement is a (statistically) significant improvement over their previous ad. \n",
    "\n",
    "The data from Johnny's summer experiment can be found in [`email.csv`](https://piazza.com/class_profile/get_resource/jhaqogsdelf76h/jja0n7qay9y674). Load this dataset into Pandas. "
   ]
  },
  {
   "cell_type": "code",
   "execution_count": 15,
   "metadata": {},
   "outputs": [
    {
     "data": {
      "text/html": [
       "<div>\n",
       "<style scoped>\n",
       "    .dataframe tbody tr th:only-of-type {\n",
       "        vertical-align: middle;\n",
       "    }\n",
       "\n",
       "    .dataframe tbody tr th {\n",
       "        vertical-align: top;\n",
       "    }\n",
       "\n",
       "    .dataframe thead th {\n",
       "        text-align: right;\n",
       "    }\n",
       "</style>\n",
       "<table border=\"1\" class=\"dataframe\">\n",
       "  <thead>\n",
       "    <tr style=\"text-align: right;\">\n",
       "      <th></th>\n",
       "      <th>Group</th>\n",
       "      <th>Client</th>\n",
       "      <th>Sent</th>\n",
       "      <th>Clicked</th>\n",
       "    </tr>\n",
       "  </thead>\n",
       "  <tbody>\n",
       "    <tr>\n",
       "      <th>0</th>\n",
       "      <td>1</td>\n",
       "      <td>Gmail</td>\n",
       "      <td>50</td>\n",
       "      <td>4</td>\n",
       "    </tr>\n",
       "    <tr>\n",
       "      <th>1</th>\n",
       "      <td>1</td>\n",
       "      <td>Gmail</td>\n",
       "      <td>50</td>\n",
       "      <td>3</td>\n",
       "    </tr>\n",
       "    <tr>\n",
       "      <th>2</th>\n",
       "      <td>1</td>\n",
       "      <td>Gmail</td>\n",
       "      <td>50</td>\n",
       "      <td>1</td>\n",
       "    </tr>\n",
       "    <tr>\n",
       "      <th>3</th>\n",
       "      <td>1</td>\n",
       "      <td>Outlook</td>\n",
       "      <td>50</td>\n",
       "      <td>4</td>\n",
       "    </tr>\n",
       "    <tr>\n",
       "      <th>4</th>\n",
       "      <td>1</td>\n",
       "      <td>Gmail</td>\n",
       "      <td>50</td>\n",
       "      <td>3</td>\n",
       "    </tr>\n",
       "  </tbody>\n",
       "</table>\n",
       "</div>"
      ],
      "text/plain": [
       "   Group   Client  Sent  Clicked\n",
       "0      1    Gmail    50        4\n",
       "1      1    Gmail    50        3\n",
       "2      1    Gmail    50        1\n",
       "3      1  Outlook    50        4\n",
       "4      1    Gmail    50        3"
      ]
     },
     "execution_count": 15,
     "metadata": {},
     "output_type": "execute_result"
    }
   ],
   "source": [
    "dfAd = pd.read_csv(\"data/email.csv\")\n",
    "dfAd.head()"
   ]
  },
  {
   "cell_type": "markdown",
   "metadata": {},
   "source": [
    "**Part A**: State the null and alternate hypotheses that Johnny should test to see if his ad campaign is an improvement over the company's standard mailer with a CTR of $0.05$. "
   ]
  },
  {
   "cell_type": "markdown",
   "metadata": {},
   "source": [
    "The null hypothesis should be that Johnny's ads CTR is unchanged from the original CTR, $H_0 : \\, p_J = p$. The alternate hypothesis is then that Johnny's ads have a higher CTR than the original ads, $H_1 : \\, p_J > p$. In both of these cases, $p = 0.05$."
   ]
  },
  {
   "cell_type": "markdown",
   "metadata": {},
   "source": [
    "**Part B**: Test the hypothesis from **Part A** at the $\\alpha = 0.05$ significance level using a p-value test. Is there sufficient evidence for Johnny to conclude that his ad campaign is an improvement?   "
   ]
  },
  {
   "cell_type": "markdown",
   "metadata": {},
   "source": [
    "The p-test is calculated in the same way as the other parts after data is fetched from the data frame. The proportion data is assumed to be normally distributed and so a p-test is used."
   ]
  },
  {
   "cell_type": "code",
   "execution_count": 16,
   "metadata": {},
   "outputs": [
    {
     "name": "stdout",
     "output_type": "stream",
     "text": [
      "p-value for ad CTR = 0.31779\n"
     ]
    }
   ],
   "source": [
    "total_emails = np.sum(dfAd[\"Sent\"])\n",
    "click_emails = np.sum(dfAd[\"Clicked\"])\n",
    "p = 0.05\n",
    "pj = click_emails/total_emails\n",
    "var_pj = (p*(1-p))/total_emails \n",
    "z = (pj - p)/np.sqrt(var_pj)\n",
    "pval = 1-stats.norm.cdf(z) # Right tail\n",
    "print(\"p-value for ad CTR = {:0.5f}\".format(pval))"
   ]
  },
  {
   "cell_type": "markdown",
   "metadata": {},
   "source": [
    "Since the p-value is greater than the significance value, there is not sufficient evidence to conclude that Johnny's CTR is any better than the original campaign. We fail to reject the null hypothesis."
   ]
  },
  {
   "cell_type": "markdown",
   "metadata": {},
   "source": [
    "**Part C**: \"Aw, shucks!\", Johnny thinks. This is the part where he decides to resort to some questionable science.  Maybe there is a reasonable subset of the data for which his alternative hypothesis is supported?  Can he find it?  Can he come up for a reasonable justification for why this subset of the data should be considered while the rest should be discarded? \n",
    "\n",
    "Here are the **rules**: Johnny cannot modify the original data (e.g. by adding nonexistent clicks to certain groups) because his boss will surely notice.  Instead he needs to find a subset of the data for which his hypothesis is supported by a p-value test at the $\\alpha = 0.05$ significance level _and_ be able to explain to his supervisors why his sub-selection of the data is reasonable.  \n",
    "\n",
    "In addition to your explanation of why your successful subset of the data is potentially reasonable, be sure to thoroughly explain the details of the tests that you perform and show all of your Python computation.  "
   ]
  },
  {
   "cell_type": "markdown",
   "metadata": {},
   "source": [
    "First, examine some different subsets of the data to see if any have particularly low variance or a high CTR."
   ]
  },
  {
   "cell_type": "code",
   "execution_count": 17,
   "metadata": {},
   "outputs": [
    {
     "name": "stdout",
     "output_type": "stream",
     "text": [
      "G1 CTR: 0.051\n",
      "G1 var: 3.167e-05\n",
      "G2 CTR: 0.057\n",
      "G2 var: 3.167e-05\n",
      "G3 CTR: 0.049\n",
      "G3 var: 3.167e-05\n",
      "G4 CTR: 0.047\n",
      "G4 var: 3.167e-05\n",
      "G5 CTR: 0.045\n",
      "G5 var: 2.111e-05\n",
      "G6 CTR: 0.055\n",
      "G6 var: 1.267e-05\n"
     ]
    }
   ],
   "source": [
    "# Group 1 G1\n",
    "g1 = dfAd[dfAd[\"Group\"] == 1]\n",
    "total_emails = np.sum(g1[\"Sent\"])\n",
    "click_emails = np.sum(g1[\"Clicked\"])\n",
    "pj = click_emails/total_emails\n",
    "var_pj = (p*(1-p))/total_emails\n",
    "print(\"G1 CTR: {:0.3f}\".format(pj))\n",
    "print(\"G1 var: {:0.3e}\".format(var_pj))\n",
    "# Group 2 G2\n",
    "g2 = dfAd[dfAd[\"Group\"] == 2]\n",
    "total_emails = np.sum(g2[\"Sent\"])\n",
    "click_emails = np.sum(g2[\"Clicked\"])\n",
    "pj = click_emails/total_emails\n",
    "var_pj = (p*(1-p))/total_emails\n",
    "print(\"G2 CTR: {:0.3f}\".format(pj))\n",
    "print(\"G2 var: {:0.3e}\".format(var_pj))\n",
    "# Group 3 G3\n",
    "g3 = dfAd[dfAd[\"Group\"] == 3]\n",
    "total_emails = np.sum(g3[\"Sent\"])\n",
    "click_emails = np.sum(g3[\"Clicked\"])\n",
    "pj = click_emails/total_emails\n",
    "var_pj = (p*(1-p))/total_emails\n",
    "print(\"G3 CTR: {:0.3f}\".format(pj))\n",
    "print(\"G3 var: {:0.3e}\".format(var_pj))\n",
    "# Group 4 G4\n",
    "g4 = dfAd[dfAd[\"Group\"] == 4]\n",
    "total_emails = np.sum(g4[\"Sent\"])\n",
    "click_emails = np.sum(g4[\"Clicked\"])\n",
    "pj = click_emails/total_emails\n",
    "var_pj = (p*(1-p))/total_emails\n",
    "print(\"G4 CTR: {:0.3f}\".format(pj))\n",
    "print(\"G4 var: {:0.3e}\".format(var_pj))\n",
    "\n",
    "# Outlook G5\n",
    "g5 = dfAd[dfAd[\"Client\"] == 'Outlook']\n",
    "total_emails = np.sum(g5[\"Sent\"])\n",
    "click_emails = np.sum(g5[\"Clicked\"])\n",
    "pj = click_emails/total_emails\n",
    "var_pj = (p*(1-p))/total_emails\n",
    "print(\"G5 CTR: {:0.3f}\".format(pj))\n",
    "print(\"G5 var: {:0.3e}\".format(var_pj))\n",
    "# Gmail G6\n",
    "g6 = dfAd[dfAd[\"Client\"] == 'Gmail']\n",
    "total_emails = np.sum(g6[\"Sent\"])\n",
    "click_emails = np.sum(g6[\"Clicked\"])\n",
    "pj = click_emails/total_emails\n",
    "var_pj = (p*(1-p))/total_emails\n",
    "print(\"G6 CTR: {:0.3f}\".format(pj))\n",
    "print(\"G6 var: {:0.3e}\".format(var_pj))"
   ]
  },
  {
   "cell_type": "markdown",
   "metadata": {},
   "source": [
    "We find based on testing these different groups that there was a particularly high CTR among the second target group as well as a particularly low variance among the recipients that use Gmail. So, we perform a p-test on the subset of ad recipients that are in group 2 and use Gmail. The p-test is carried out identically to Part B."
   ]
  },
  {
   "cell_type": "code",
   "execution_count": 18,
   "metadata": {},
   "outputs": [
    {
     "name": "stdout",
     "output_type": "stream",
     "text": [
      "G7 CTR: 0.063\n",
      "G7 var: 4.524e-05\n",
      "p-value for ad CTR = 0.02797\n"
     ]
    }
   ],
   "source": [
    "# Gmail and Group 2\n",
    "g7 = dfAd[(dfAd[\"Client\"] == 'Gmail') & (dfAd[\"Group\"] == 2)]\n",
    "total_emails = np.sum(g7[\"Sent\"])\n",
    "click_emails = np.sum(g7[\"Clicked\"])\n",
    "pj = click_emails/total_emails\n",
    "var_pj = (p*(1-p))/total_emails\n",
    "print(\"G7 CTR: {:0.3f}\".format(pj))\n",
    "print(\"G7 var: {:0.3e}\".format(var_pj))\n",
    "p = 0.05\n",
    "z = (pj - p)/np.sqrt(var_pj)\n",
    "pval = 1-stats.norm.cdf(z) # Right tail\n",
    "print(\"p-value for ad CTR = {:0.5f}\".format(pval))"
   ]
  },
  {
   "cell_type": "markdown",
   "metadata": {},
   "source": [
    "We see that be performing the p-test on this subset of the data that we obtain $p=0.028 < 0.05 = \\alpha$, and thus we reject the null hypothesis and conclude that Johnny's campaign has a CTR that is higher by a statistically significant amount. \n",
    "\n",
    "He could explain taking this subset with reasoning like \"much of our product's target audience is younger and more likely to use Gmail, the newer client. Therefore we are interested only in the CTR of Gmail users. Additionally, Group 2 has been shown to actually purchase more products afterclicking so they are the target group of highest interest.\" "
   ]
  },
  {
   "cell_type": "markdown",
   "metadata": {},
   "source": [
    "---\n",
    "[Back to top](#top)\n",
    "<a id='p5'></a>\n",
    "\n",
    "### [15 points] Problem 5 - Simple Linear Regression for the Consumption of Ice Cream Treats\n",
    "\n",
    "The data in [`icecream.csv`](https://piazza.com/class_profile/get_resource/jhaqogsdelf76h/jja0n80849467a) contains information on a particular runner's ice cream eaten (in scoops) and miles run on particular days over the past year. In this exercise you will construct a simple linear regression model for the response variable \"amount of ice cream consumed\" (`scoops`), using \"number of miles run\" (`miles`) as the feature. Load the data into a Pandas DataFrame."
   ]
  },
  {
   "cell_type": "code",
   "execution_count": 19,
   "metadata": {},
   "outputs": [
    {
     "data": {
      "text/html": [
       "<div>\n",
       "<style scoped>\n",
       "    .dataframe tbody tr th:only-of-type {\n",
       "        vertical-align: middle;\n",
       "    }\n",
       "\n",
       "    .dataframe tbody tr th {\n",
       "        vertical-align: top;\n",
       "    }\n",
       "\n",
       "    .dataframe thead th {\n",
       "        text-align: right;\n",
       "    }\n",
       "</style>\n",
       "<table border=\"1\" class=\"dataframe\">\n",
       "  <thead>\n",
       "    <tr style=\"text-align: right;\">\n",
       "      <th></th>\n",
       "      <th>miles</th>\n",
       "      <th>scoops</th>\n",
       "    </tr>\n",
       "  </thead>\n",
       "  <tbody>\n",
       "    <tr>\n",
       "      <th>0</th>\n",
       "      <td>14.300531</td>\n",
       "      <td>8.922252</td>\n",
       "    </tr>\n",
       "    <tr>\n",
       "      <th>1</th>\n",
       "      <td>9.361511</td>\n",
       "      <td>4.720254</td>\n",
       "    </tr>\n",
       "    <tr>\n",
       "      <th>2</th>\n",
       "      <td>13.929330</td>\n",
       "      <td>8.567314</td>\n",
       "    </tr>\n",
       "    <tr>\n",
       "      <th>3</th>\n",
       "      <td>12.673436</td>\n",
       "      <td>8.855122</td>\n",
       "    </tr>\n",
       "    <tr>\n",
       "      <th>4</th>\n",
       "      <td>16.055107</td>\n",
       "      <td>9.409772</td>\n",
       "    </tr>\n",
       "  </tbody>\n",
       "</table>\n",
       "</div>"
      ],
      "text/plain": [
       "       miles    scoops\n",
       "0  14.300531  8.922252\n",
       "1   9.361511  4.720254\n",
       "2  13.929330  8.567314\n",
       "3  12.673436  8.855122\n",
       "4  16.055107  9.409772"
      ]
     },
     "execution_count": 19,
     "metadata": {},
     "output_type": "execute_result"
    }
   ],
   "source": [
    "dfTreats = pd.read_csv(\"data/icecream.csv\")\n",
    "dfTreats.head()"
   ]
  },
  {
   "cell_type": "markdown",
   "metadata": {},
   "source": [
    "**Part A**: Perform a simple linear regression with `miles` as the feature and `scoops` as the response.  Report the estimated regression model in the form $Y = \\alpha + \\beta x$. Do all computations in Python. "
   ]
  },
  {
   "cell_type": "code",
   "execution_count": 20,
   "metadata": {},
   "outputs": [
    {
     "name": "stdout",
     "output_type": "stream",
     "text": [
      "y = 2.880 + 0.416 * x\n"
     ]
    }
   ],
   "source": [
    "# Extract feature and response\n",
    "miles = dfTreats[\"miles\"] # x\n",
    "scoops = dfTreats[\"scoops\"] # y\n",
    "\n",
    "# Find the mean of each\n",
    "x_bar = np.mean(miles)\n",
    "y_bar = np.mean(scoops)\n",
    "\n",
    "# Find b_hat\n",
    "b_hat = np.sum([(miles[n]-x_bar)*(scoops[n]-y_bar) for n in range(0, len(miles))])/np.sum([(miles[n]-x_bar)**2 for n in range(0, len(miles))])\n",
    "\n",
    "# Find alpha\n",
    "a = y_bar - b_hat*x_bar\n",
    "\n",
    "# Output\n",
    "print(\"y = {0:0.3f} + {1:0.3f} * x\".format(a, b_hat))"
   ]
  },
  {
   "cell_type": "markdown",
   "metadata": {},
   "source": [
    "To determine the regression model, the data frame was separated into individual series for the feature and the response. The mean of each of these was taken for use in calculations for $\\beta$ and $\\alpha$. Then, the equations for the model parameters we learned in class were deployed to find the regression, which is \n",
    "\n",
    "$$\n",
    "Y = 2.880 + 0.416 x\n",
    "$$"
   ]
  },
  {
   "cell_type": "markdown",
   "metadata": {},
   "source": [
    "**Part B**: Make a scatter-plot of the data with `miles` as the feature and `scoops` as the response, and overlay the estimated regression line.  Clearly label all relevant plot elements and include a legend."
   ]
  },
  {
   "cell_type": "code",
   "execution_count": 21,
   "metadata": {},
   "outputs": [
    {
     "data": {
      "image/png": "[encoded data removed]",
      "text/plain": [
       "<matplotlib.figure.Figure at 0x7f47169732b0>"
      ]
     },
     "metadata": {},
     "output_type": "display_data"
    }
   ],
   "source": [
    "plt.figure(figsize=(15,10))\n",
    "x_r = np.linspace(np.min(miles),np.max(miles), 100)\n",
    "y_r = [a + b_hat * x for x in x_r]\n",
    "plt.plot(miles, scoops, 'bo', label=\"Actual Data\")\n",
    "plt.plot(x_r, y_r, 'r', label=\"Regression, y = {0:0.3f} + {1:0.3f} * x\".format(a, b_hat))\n",
    "plt.title(\"Distance Ran vs. Scoops of Ice Cream\")\n",
    "plt.xlabel(\"Distance (mi)\")\n",
    "plt.ylabel(\"Scoops of Ice Cream\")\n",
    "plt.legend()\n",
    "plt.show()"
   ]
  },
  {
   "cell_type": "markdown",
   "metadata": {},
   "source": [
    "**Part C**: Give a physical interpretation of the coefficients $\\hat{\\alpha}$ and $\\hat{\\beta}$, estimated from your model. Is the relationship between run lengths and ice cream consumption positive or negative? Fully justify your responses."
   ]
  },
  {
   "cell_type": "markdown",
   "metadata": {},
   "source": [
    "The interpretation of $\\hat{\\alpha} = 2.880$ is that 2.88 scoops of ice cream would be the number of scoops the runner would have if he/she did not go running that day. We know this because $\\hat{\\alpha}$ corresponds to the value of the response when the feature is equal to zero.\n",
    "\n",
    "The interpretation of $\\hat{\\beta} = 0.416$ is that the runner eats another 0.416 scoops of ice cream in addition to the original 2.88 for every mile they run. It is the slope of the regression line. Since $\\hat{\\beta}$ is positive, the relationship between miles ran and scoops eaten is a positive one."
   ]
  },
  {
   "cell_type": "markdown",
   "metadata": {},
   "source": [
    "**Part D**: How much ice cream does your simple linear regression model predict the runner will consume if they run a marathon (26.2 miles)? What are potential drawbacks to this model for ice cream consumption?"
   ]
  },
  {
   "cell_type": "code",
   "execution_count": 22,
   "metadata": {},
   "outputs": [
    {
     "name": "stdout",
     "output_type": "stream",
     "text": [
      "Scoops after a marathon: 13.767\n"
     ]
    }
   ],
   "source": [
    "# Calculate based on model.\n",
    "print(\"Scoops after a marathon: {:0.3f}\".format(a + b_hat * 26.2))"
   ]
  },
  {
   "cell_type": "markdown",
   "metadata": {},
   "source": [
    "The model predicts that the runner would eat an impressive 13.77 scoops! This may have some drawbacks as the runner may be full long before finishing that much ice cream. His local ice cream parlor may have a limit on the number of scoops per cone as well! This would lead to the model being inaccurate."
   ]
  },
  {
   "cell_type": "markdown",
   "metadata": {
    "collapsed": true
   },
   "source": [
    "**Part E**: Are there any other features you think should be added to the model, making this a *multiple* linear regression model?"
   ]
  },
  {
   "cell_type": "markdown",
   "metadata": {},
   "source": [
    "Other features that could be added to this model could include time since the runner last ate, the day's average temperature, or the price of the ice cream on that day. Any/all of these would make this a multiple linear regression model."
   ]
  },
  {
   "cell_type": "markdown",
   "metadata": {},
   "source": [
    "---\n",
    "[Back to top](#top)\n",
    "<a id='p6'></a>\n",
    "\n",
    "### [15 points] Problem 6 - \"Central Limit-ish Theorem\" for the Log-normal Distribution\n",
    "\n",
    "The log-normal distribution arises in many applications, such as (but not limited to!) modeling the distribution of extreme values like monthly rainfall, modeling the distribution of income for the bulk of the population, and the length of some board games. It is useful, but can be a little tough to wrap your head around at first. There is a \"logarithm\" right in the name, after all. So let's tame this beast.\n",
    "\n",
    "Execute the code below to obtain a sample of 10,000 random draws from a [log-normal distribution](https://docs.scipy.org/doc/numpy/reference/generated/numpy.random.lognormal.html) with parameters $\\mu = 3$ and $\\sigma = 0.25$."
   ]
  },
  {
   "cell_type": "code",
   "execution_count": 23,
   "metadata": {},
   "outputs": [
    {
     "data": {
      "image/png": "[encoded data removed]",
      "text/plain": [
       "<matplotlib.figure.Figure at 0x7f47167ae320>"
      ]
     },
     "metadata": {},
     "output_type": "display_data"
    }
   ],
   "source": [
    "sigma = 0.25\n",
    "mu = 3\n",
    "n = 10000\n",
    "x = pd.Series(np.random.lognormal(mean=mu, sigma=sigma, size=n))\n",
    "\n",
    "fig, ax = plt.subplots(nrows=1, ncols=1, figsize=(8,5))\n",
    "x.hist(ax=ax, edgecolor=\"white\", bins=20, normed=True)\n",
    "ax.set_xlim([0,50])\n",
    "ax.set_xlabel('X')\n",
    "ax.set_ylabel('Density')\n",
    "ax.set_title('X ~ LogNorm({}, {})'.format(mu,sigma))\n",
    "ax.set_axisbelow(True)\n",
    "ax.grid(alpha=0.25);"
   ]
  },
  {
   "cell_type": "markdown",
   "metadata": {},
   "source": [
    "**Part A**: Recall that the log-normal pdf for a random variable $X$ is given by\n",
    "$$f(x \\mid \\mu, \\sigma) = \\dfrac{1}{x\\sigma \\sqrt{2 \\pi}} e^{-\\frac{1}{2}\\left(\\frac{\\log{x} - \\mu}{\\sigma}\\right)^2}$$\n",
    "\n",
    "Thus, if you have a random variable $X \\sim LogNorm(\\mu, \\sigma)$, the transformed random variable $Y = \\log(X)$ must have $Y \\sim N(\\mu, \\sigma^2)$. Verify this by plotting a density histogram of $Y = \\log(X)$, along with the normal pdf $f(y \\mid \\mu, \\sigma^2)$. Be sure to label everything in your _single-panel_ figure and include a legend. Write 1-2 sentences commenting on the agreement."
   ]
  },
  {
   "cell_type": "code",
   "execution_count": 24,
   "metadata": {},
   "outputs": [
    {
     "data": {
      "image/png": "[encoded data removed]",
      "text/plain": [
       "<matplotlib.figure.Figure at 0x7f4716868b38>"
      ]
     },
     "metadata": {},
     "output_type": "display_data"
    }
   ],
   "source": [
    "# Borrowed from my HW05\n",
    "def tanner_flavored_histogram(data_arr, lower, upper, bin_width, density=True, fwidth=1, \\\n",
    "                              legend_labels=(), xlabel='x', ylabel='Frequency', title='Histogram', tick_skip=1):\n",
    "    \"\"\"\n",
    "    I really don't like the default histogram plotting so I made a better version.\n",
    "    \n",
    "    data_arr: vector of data sets you wish to plot.\n",
    "    lower: lower bound to plot\n",
    "    upper: upper bound to plot\n",
    "    bin_width: width of each bin\n",
    "    density: make it a density plot or nah\n",
    "    fwidth: width that the bars take up within a bin\n",
    "    legend_labels: legend bits\n",
    "    \n",
    "    The rest is self explanatory\n",
    "    \n",
    "    \"\"\"\n",
    "    plt.figure(figsize=(15,10))\n",
    "    n_bins = int((upper-lower)/bin_width)\n",
    "    \n",
    "    nelem = np.shape(data_arr)[0]\n",
    "    for elem in range(0, nelem):\n",
    "        data = data_arr[elem]\n",
    "        hist, edges = np.histogram(data, bins=n_bins, range=(lower,upper))\n",
    "        histd = hist\n",
    "        if density:\n",
    "            histd = hist/np.sum(hist)\n",
    "            \n",
    "        left_edges = edges[:(len(edges)-1)]\n",
    "        filled_width = bin_width * fwidth\n",
    "        individual_width = filled_width/nelem\n",
    "        bins = left_edges + (bin_width-filled_width/2) + individual_width*elem\n",
    "        \n",
    "        plt.bar(bins, histd, width=individual_width, align='edge')\n",
    "        \n",
    "    plt.legend(legend_labels)\n",
    "    plt.grid()\n",
    "    plt.gca().set_axisbelow(True)\n",
    "    plt.xlabel(xlabel)\n",
    "    plt.ylabel(ylabel)\n",
    "    plt.title(title)\n",
    "    plt.xticks((edges+bin_width/2)[::tick_skip], (edges.astype('float').astype('str'))[::tick_skip])\n",
    "    plt.xlim((lower,upper))\n",
    "    plt.show();\n",
    "    \n",
    "    \n",
    "lx = np.log10(x) # Log transformed\n",
    "nx = np.random.normal(loc=mu, scale=sigma, size=n) # Normal\n",
    "tanner_flavored_histogram([lx, nx], 0, 4, 0.05, density=True, fwidth=1, \\\n",
    "                              legend_labels=(\"Log Normal\", \"Normal\"), \\\n",
    "                              xlabel='x', ylabel='Density', title='Log Normal vs. Normal', tick_skip=10)"
   ]
  },
  {
   "cell_type": "markdown",
   "metadata": {},
   "source": [
    "We can see in the above that both distributions are normally distributed. However, the transformed log-normal distribution is shifted left and has a smaller spread than the standard normal distribution."
   ]
  },
  {
   "cell_type": "markdown",
   "metadata": {},
   "source": [
    "**Part B**: Now, read in the file [`lognorm.csv`](https://piazza.com/class_profile/get_resource/jhaqogsdelf76h/jja0n7bg98m66x), available linked here and on Piazza. These are 25 samples from a log-normal distribution with unknown parameters $\\mu$ and $\\sigma$. Use bootstrapping with at least 1,000 re-sampling iterations to obtain 95% confidence intervals for each of the median and the parameter $\\mu$ of the unknown log-normal distribution from which these data originate. Note that the two are related by $\\tilde{x} = e^{\\mu}$, so the two confidence intervals are related."
   ]
  },
  {
   "cell_type": "code",
   "execution_count": 25,
   "metadata": {},
   "outputs": [
    {
     "data": {
      "text/html": [
       "<div>\n",
       "<style scoped>\n",
       "    .dataframe tbody tr th:only-of-type {\n",
       "        vertical-align: middle;\n",
       "    }\n",
       "\n",
       "    .dataframe tbody tr th {\n",
       "        vertical-align: top;\n",
       "    }\n",
       "\n",
       "    .dataframe thead th {\n",
       "        text-align: right;\n",
       "    }\n",
       "</style>\n",
       "<table border=\"1\" class=\"dataframe\">\n",
       "  <thead>\n",
       "    <tr style=\"text-align: right;\">\n",
       "      <th></th>\n",
       "      <th>data</th>\n",
       "    </tr>\n",
       "  </thead>\n",
       "  <tbody>\n",
       "    <tr>\n",
       "      <th>0</th>\n",
       "      <td>10.676829</td>\n",
       "    </tr>\n",
       "    <tr>\n",
       "      <th>1</th>\n",
       "      <td>12.436454</td>\n",
       "    </tr>\n",
       "    <tr>\n",
       "      <th>2</th>\n",
       "      <td>13.765776</td>\n",
       "    </tr>\n",
       "    <tr>\n",
       "      <th>3</th>\n",
       "      <td>14.930567</td>\n",
       "    </tr>\n",
       "    <tr>\n",
       "      <th>4</th>\n",
       "      <td>9.339963</td>\n",
       "    </tr>\n",
       "  </tbody>\n",
       "</table>\n",
       "</div>"
      ],
      "text/plain": [
       "        data\n",
       "0  10.676829\n",
       "1  12.436454\n",
       "2  13.765776\n",
       "3  14.930567\n",
       "4   9.339963"
      ]
     },
     "execution_count": 25,
     "metadata": {},
     "output_type": "execute_result"
    }
   ],
   "source": [
    "dfNorm = pd.read_csv(\"data/lognorm.csv\", header=None, names=['data'])\n",
    "dfNorm.head()"
   ]
  },
  {
   "cell_type": "code",
   "execution_count": 26,
   "metadata": {},
   "outputs": [
    {
     "name": "stdout",
     "output_type": "stream",
     "text": [
      "CI for median of unknown: [10.804, 13.876]\n",
      "CI for mean of unknown: [2.380, 2.630]\n"
     ]
    }
   ],
   "source": [
    "resamples = [np.random.choice(dfNorm[\"data\"], size=25) for _ in range(0,1000)] # bootstrap\n",
    "medians = [np.median(resamples[n]) for n in range(0,len(resamples))]\n",
    "print(\"CI for median of unknown: [{0:0.3f}, {1:0.3f}]\".format(np.percentile(medians, 2.5), np.percentile(medians, 97.5)))\n",
    "print(\"CI for mean of unknown: [{0:0.3f}, {1:0.3f}]\".format(np.log(np.percentile(medians, 2.5)), np.log(np.percentile(medians, 97.5))))"
   ]
  },
  {
   "cell_type": "markdown",
   "metadata": {},
   "source": [
    "The 95% confidence interval for the median of the unknown distribution is [10.804, 13.876] and the 95% confidence interval for the mean of the unknown distribution is [2.380, 2.630]."
   ]
  },
  {
   "cell_type": "markdown",
   "metadata": {},
   "source": [
    "**Part C**: If $Y$ is normally distributed with mean $\\mu$ and standard deviation $\\sigma$, the Central Limit Theorem and what is commonly known as the [\"68-95-99.7 Rule\"](https://en.wikipedia.org/wiki/68%E2%80%9395%E2%80%9399.7_rule) suggest that:\n",
    "* 68.3% of the data for $Y$ fall within the interval $[\\mu - \\sigma, \\mu + \\sigma]$\n",
    "* 95.4% of the data fall within the interval $[\\mu - 2\\sigma, \\mu + 2\\sigma]$\n",
    "* 99.7% of the data fall within the interval $[\\mu - 3\\sigma, \\mu + 3\\sigma]$\n",
    "\n",
    "If we have $X \\sim LogNorm(\\mu, \\sigma)$, then $Y = \\log(X) \\sim N(\\mu, \\sigma^2)$ follows this 68-95-99.7 Rule for normal distributions. Since $Y = \\log(X)$ is a one-to-one function, we can develop a similar 68-95-99.7 Rule for the log-normal distribution. This is just one of many reasons why we love one-to-one functions! Take the 68% part of the rule, for example.\n",
    "\n",
    "* 68.3% of the data for $Y$ are within $[\\mu - \\sigma, \\mu + \\sigma]$.\n",
    "* This means that 68.3% of the data for $X = e^Y$ are within $\\left[ e^{\\mu - \\sigma}, e^{\\mu + \\sigma}\\right] = \\left[ e^{\\mu}/e^{\\sigma}, ~~ e^{\\mu} e^{\\sigma}\\right]$\n",
    "* For brevity's sake, we often rewrite $m = e^{\\mu}$ and $s = e^{\\sigma}$, so that this interval becomes $[m/s, ms]$. Note that $m = \\tilde{x}$ is the median.\n",
    "\n",
    "Formulate a hypothesis regarding the form for the 95 and 99.7% parts of the Rule are for the log-normal distribution. Then, finish the code below to verify that your hypotheses are correct."
   ]
  },
  {
   "cell_type": "markdown",
   "metadata": {},
   "source": [
    "I hypothesize that the form of the 95% rule will be that 95% of the data will be between $e^{\\mu}/e^{2 \\sigma}$ and $e^{\\mu} e^{2 \\sigma}$ while the form of the 99.7% rule will be that 99.7% of the data will fall between $e^{\\mu}/e^{3 \\sigma}$ and $e^{\\mu} e^{3 \\sigma}$."
   ]
  },
  {
   "cell_type": "code",
   "execution_count": 27,
   "metadata": {},
   "outputs": [
    {
     "name": "stdout",
     "output_type": "stream",
     "text": [
      "Expected interval for 95% of data: [12.182, 33.115]\n",
      "Expected interval for 99.7% of data: [9.488, 42.521]\n",
      "Actual interval for 95% of data: [12.425, 32.874]\n",
      "Actual interval for 99.7% of data: [9.758, 41.969]\n"
     ]
    }
   ],
   "source": [
    "sigma = 0.25\n",
    "mu = 3\n",
    "n = 10000\n",
    "x = pd.Series(np.random.lognormal(mean=mu, sigma=sigma, size=n))\n",
    "\n",
    "# Expected in hypothesis\n",
    "emu = np.exp(mu)\n",
    "es2 = np.exp(2*sigma)\n",
    "es3 = np.exp(3*sigma)\n",
    "print(\"Expected interval for 95% of data: [{0:0.3f}, {1:0.3f}]\".format(emu/es2, emu*es2))\n",
    "print(\"Expected interval for 99.7% of data: [{0:0.3f}, {1:0.3f}]\".format(emu/es3, emu*es3))\n",
    "\n",
    "# Calculated\n",
    "print(\"Actual interval for 95% of data: [{0:0.3f}, {1:0.3f}]\".format(np.percentile(x, 2.5), np.percentile(x, 97.5)))\n",
    "print(\"Actual interval for 99.7% of data: [{0:0.3f}, {1:0.3f}]\".format(np.percentile(x, 100*(1-0.997)/2), np.percentile(x, 100*(1-(1-0.997)/2))))"
   ]
  },
  {
   "cell_type": "markdown",
   "metadata": {},
   "source": [
    "The values that are hypothesized and real are very close, so I would say that my hypothesis is correct!"
   ]
  }
 ],
 "metadata": {
  "kernelspec": {
   "display_name": "Python 3",
   "language": "python",
   "name": "python3"
  },
  "language_info": {
   "codemirror_mode": {
    "name": "ipython",
    "version": 3
   },
   "file_extension": ".py",
   "mimetype": "text/x-python",
   "name": "python",
   "nbconvert_exporter": "python",
   "pygments_lexer": "ipython3",
   "version": "3.6.4"
  }
 },
 "nbformat": 4,
 "nbformat_minor": 2
}
